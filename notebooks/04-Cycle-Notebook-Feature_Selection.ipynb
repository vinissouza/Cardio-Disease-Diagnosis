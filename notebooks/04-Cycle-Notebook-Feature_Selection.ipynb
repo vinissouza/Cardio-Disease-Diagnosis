{
 "cells": [
  {
   "cell_type": "markdown",
   "id": "cc846c87",
   "metadata": {},
   "source": [
    "# Business Context"
   ]
  },
  {
   "cell_type": "markdown",
   "id": "59296659",
   "metadata": {},
   "source": [
    "Cardio Catch Disease is a company specialized in detecting cardiac diseases at early stages.\n",
    "\n",
    "- **Business Model:** The price of the diagnosis varies according to the accuracy achieved by the team of specialists, the client pays R$500 for each 5% accuracy above 50%.\n",
    "\n",
    "\n",
    "- **Actual Scenario:** The current diagnostic accuracy varies between 55% and 65%, due to the complexity of the diagnosis, at a cost of R$1000.\n",
    "\n",
    "\n",
    "- **Main Goal:** Create a disease diagnosis tool with stable accuracy. \n",
    "\n",
    "\n",
    "- **Secundary Goals:** Delivery a report ansewirng the follow questions:\n",
    "    1. How accurate and precise is the tool?\n",
    "    2. How much profit Cardio Catch Diseases will make with the new tool?\n",
    "    3. How reliable are the results given by the new tool?\n",
    "    \n",
    "\n",
    "Business Project reference: https://sejaumdatascientist.com/projeto-de-data-science-diagnostico-precoce-de-doencas-cardiovasculares/\n",
    "\n",
    "Data Source: https://www.kaggle.com/sulianova/cardiovascular-disease-dataset"
   ]
  },
  {
   "cell_type": "markdown",
   "id": "c7e0f464",
   "metadata": {},
   "source": [
    "# 0.0. Imports"
   ]
  },
  {
   "cell_type": "code",
   "execution_count": 1,
   "id": "456775c9",
   "metadata": {
    "ExecuteTime": {
     "end_time": "2022-06-23T14:34:24.186021Z",
     "start_time": "2022-06-23T14:34:18.681184Z"
    }
   },
   "outputs": [],
   "source": [
    "# data manipulation\n",
    "import numpy as np\n",
    "import pandas as pd\n",
    "\n",
    "# statistics\n",
    "from scipy.stats import chi2_contingency, pointbiserialr\n",
    "\n",
    "# data visualization\n",
    "import matplotlib.pyplot as plt\n",
    "import seaborn as sns\n",
    "\n",
    "# load images\n",
    "from IPython.display import Image\n",
    "\n",
    "# stratified sampling\n",
    "from sklearn import model_selection as ms\n",
    "\n",
    "# data preparation\n",
    "from sklearn.preprocessing import MinMaxScaler, RobustScaler, LabelEncoder\n",
    "\n",
    "# save objects\n",
    "import pickle\n",
    "\n",
    "# feature selection\n",
    "from boruta import BorutaPy\n",
    "from sklearn import decomposition\n",
    "\n",
    "# machine learning models\n",
    "from sklearn.ensemble import RandomForestClassifier, ExtraTreesClassifier\n",
    "\n",
    "# model evaluation\n",
    "from sklearn.metrics import accuracy_score, precision_score, recall_score, roc_auc_score, f1_score, roc_curve\n",
    "from sklearn.model_selection import cross_val_score, cross_validate\n",
    "\n",
    "# filter warnings\n",
    "import warnings\n",
    "warnings.filterwarnings('ignore')"
   ]
  },
  {
   "cell_type": "markdown",
   "id": "34a81805",
   "metadata": {
    "ExecuteTime": {
     "end_time": "2022-05-11T13:06:59.400290Z",
     "start_time": "2022-05-11T13:06:59.381295Z"
    }
   },
   "source": [
    "## 0.1. Auxiliar Functions"
   ]
  },
  {
   "cell_type": "code",
   "execution_count": 2,
   "id": "d775b334",
   "metadata": {
    "ExecuteTime": {
     "end_time": "2022-06-23T14:34:24.218025Z",
     "start_time": "2022-06-23T14:34:24.199043Z"
    }
   },
   "outputs": [],
   "source": [
    "def cramer_v(x, y):\n",
    "    # simple cross tabulation\n",
    "    cm = pd.crosstab(x, y).values\n",
    "    \n",
    "    # number of observations\n",
    "    n = cm.sum()\n",
    "    \n",
    "    # number of rows and columns\n",
    "    r, k = cm.shape\n",
    "    \n",
    "    # phi coefficient\n",
    "    chi2 = chi2_contingency(cm)[0]\n",
    "    \n",
    "    # correction of phi coefficient\n",
    "    chi2corr = max(0, chi2 - (k-1)*(r-1)/(n-1))\n",
    "    \n",
    "    # number of rows and columns correction\n",
    "    kcorr = k - (k-1)**2/(n-1)\n",
    "    rcorr = r - (r-1)**2/(n-1)\n",
    "\n",
    "    return np.sqrt((chi2corr/n)/(min(kcorr-1, rcorr-1)))"
   ]
  },
  {
   "cell_type": "markdown",
   "id": "d93c4eb6",
   "metadata": {
    "ExecuteTime": {
     "end_time": "2022-05-11T13:07:49.715823Z",
     "start_time": "2022-05-11T13:07:49.701817Z"
    }
   },
   "source": [
    "## 0.2. Load Data"
   ]
  },
  {
   "cell_type": "code",
   "execution_count": 3,
   "id": "40986380",
   "metadata": {
    "ExecuteTime": {
     "end_time": "2022-06-23T14:34:24.456565Z",
     "start_time": "2022-06-23T14:34:24.222027Z"
    }
   },
   "outputs": [],
   "source": [
    "data_raw = pd.read_csv('../datasets/cardio_train.csv', sep=';')"
   ]
  },
  {
   "cell_type": "markdown",
   "id": "2bbd5c7a",
   "metadata": {},
   "source": [
    "## 0.3. Split Data into Train and Test"
   ]
  },
  {
   "cell_type": "code",
   "execution_count": 4,
   "id": "8baa11b8",
   "metadata": {
    "ExecuteTime": {
     "end_time": "2022-06-23T14:34:24.504562Z",
     "start_time": "2022-06-23T14:34:24.464570Z"
    }
   },
   "outputs": [],
   "source": [
    "data_train, data_test = ms.train_test_split(data_raw, test_size=0.2, random_state=42)"
   ]
  },
  {
   "cell_type": "markdown",
   "id": "42231977",
   "metadata": {},
   "source": [
    "# 1.0. Data Description"
   ]
  },
  {
   "cell_type": "code",
   "execution_count": 5,
   "id": "ed73b19c",
   "metadata": {
    "ExecuteTime": {
     "end_time": "2022-06-23T14:34:24.584565Z",
     "start_time": "2022-06-23T14:34:24.507562Z"
    }
   },
   "outputs": [],
   "source": [
    "df01 = data_train.copy()"
   ]
  },
  {
   "cell_type": "markdown",
   "id": "f399667a",
   "metadata": {},
   "source": [
    "**age:** Age in days\n",
    "\n",
    "**height:** Height in cm\n",
    "\n",
    "**weight:** Weight in kg\n",
    "\n",
    "**gender:** Gender\n",
    "\n",
    "**ap_hi:** Systolic blood pressure\n",
    "\n",
    "**ap_lo:** Diastolic blood pressure\n",
    "\n",
    "**cholesterol:** Cholesterol (1: normal, 2: above normal, 3: well above normal)\n",
    "\n",
    "**gluc** Glucose (1: normal, 2: above normal, 3: well above normal)\n",
    "\n",
    "**smoke:** Smoking\n",
    "\n",
    "**alco:** Alcohol intake\n",
    "\n",
    "**active:** Physical activity\n",
    "\n",
    "**cardio:** Presence or absence of cardiovascular disease (Target Variable)"
   ]
  },
  {
   "cell_type": "markdown",
   "id": "821bb378",
   "metadata": {},
   "source": [
    "## 1.1. Data Types"
   ]
  },
  {
   "cell_type": "code",
   "execution_count": 6,
   "id": "3a540417",
   "metadata": {
    "ExecuteTime": {
     "end_time": "2022-06-23T14:34:24.615534Z",
     "start_time": "2022-06-23T14:34:24.587570Z"
    }
   },
   "outputs": [
    {
     "data": {
      "text/plain": [
       "id               int64\n",
       "age              int64\n",
       "gender           int64\n",
       "height           int64\n",
       "weight         float64\n",
       "ap_hi            int64\n",
       "ap_lo            int64\n",
       "cholesterol      int64\n",
       "gluc             int64\n",
       "smoke            int64\n",
       "alco             int64\n",
       "active           int64\n",
       "cardio           int64\n",
       "dtype: object"
      ]
     },
     "execution_count": 6,
     "metadata": {},
     "output_type": "execute_result"
    }
   ],
   "source": [
    "df01.dtypes"
   ]
  },
  {
   "cell_type": "markdown",
   "id": "99b7cfa6",
   "metadata": {},
   "source": [
    "## 1.2. Data Dimensions"
   ]
  },
  {
   "cell_type": "code",
   "execution_count": 7,
   "id": "dd8ccc23",
   "metadata": {
    "ExecuteTime": {
     "end_time": "2022-06-23T14:34:24.647583Z",
     "start_time": "2022-06-23T14:34:24.620532Z"
    }
   },
   "outputs": [
    {
     "name": "stdout",
     "output_type": "stream",
     "text": [
      "Number of rows: 56000\n",
      "Number of columns: 13\n"
     ]
    }
   ],
   "source": [
    "print(f'Number of rows: {df01.shape[0]}')\n",
    "print(f'Number of columns: {df01.shape[1]}')"
   ]
  },
  {
   "cell_type": "markdown",
   "id": "2665d83c",
   "metadata": {},
   "source": [
    "## 1.3. Check NA"
   ]
  },
  {
   "cell_type": "code",
   "execution_count": 8,
   "id": "2364922f",
   "metadata": {
    "ExecuteTime": {
     "end_time": "2022-06-23T14:34:24.679528Z",
     "start_time": "2022-06-23T14:34:24.652543Z"
    }
   },
   "outputs": [
    {
     "data": {
      "text/plain": [
       "id             0\n",
       "age            0\n",
       "gender         0\n",
       "height         0\n",
       "weight         0\n",
       "ap_hi          0\n",
       "ap_lo          0\n",
       "cholesterol    0\n",
       "gluc           0\n",
       "smoke          0\n",
       "alco           0\n",
       "active         0\n",
       "cardio         0\n",
       "dtype: int64"
      ]
     },
     "execution_count": 8,
     "metadata": {},
     "output_type": "execute_result"
    }
   ],
   "source": [
    "df01.isna().sum()"
   ]
  },
  {
   "cell_type": "markdown",
   "id": "f0f4fada",
   "metadata": {},
   "source": [
    "## 1.4. Fillout NA\n",
    "There is no NA in the dataset"
   ]
  },
  {
   "cell_type": "code",
   "execution_count": null,
   "id": "8d590b29",
   "metadata": {},
   "outputs": [],
   "source": []
  },
  {
   "cell_type": "markdown",
   "id": "eafc8911",
   "metadata": {},
   "source": [
    "## 1.5. Change Data Type"
   ]
  },
  {
   "cell_type": "code",
   "execution_count": 9,
   "id": "4d73f385",
   "metadata": {
    "ExecuteTime": {
     "end_time": "2022-06-23T14:34:24.711541Z",
     "start_time": "2022-06-23T14:34:24.687536Z"
    }
   },
   "outputs": [],
   "source": [
    "# convert age to years\n",
    "df01['age'] = np.round(df01['age']/365, 2)\n",
    "\n",
    "# convert gender to binary \n",
    "df01['gender'] = df01['gender'] - 1"
   ]
  },
  {
   "cell_type": "markdown",
   "id": "0c3c26c7",
   "metadata": {},
   "source": [
    "## 1.6. Check Balance Data"
   ]
  },
  {
   "cell_type": "code",
   "execution_count": 10,
   "id": "65684d06",
   "metadata": {
    "ExecuteTime": {
     "end_time": "2022-06-23T14:34:24.743530Z",
     "start_time": "2022-06-23T14:34:24.722536Z"
    }
   },
   "outputs": [
    {
     "data": {
      "text/plain": [
       "0    0.500589\n",
       "1    0.499411\n",
       "Name: cardio, dtype: float64"
      ]
     },
     "execution_count": 10,
     "metadata": {},
     "output_type": "execute_result"
    }
   ],
   "source": [
    "df01['cardio'].value_counts(normalize=True)"
   ]
  },
  {
   "cell_type": "markdown",
   "id": "c9009799",
   "metadata": {},
   "source": [
    " - Dataset with the two categories well balanced with approximately 50% for both classes"
   ]
  },
  {
   "cell_type": "markdown",
   "id": "f84477f0",
   "metadata": {},
   "source": [
    "## 1.7. Descriptive Analysis"
   ]
  },
  {
   "cell_type": "code",
   "execution_count": 11,
   "id": "0575ea53",
   "metadata": {
    "ExecuteTime": {
     "end_time": "2022-06-23T14:34:24.775527Z",
     "start_time": "2022-06-23T14:34:24.746535Z"
    }
   },
   "outputs": [],
   "source": [
    "# select numeric attributes\n",
    "num_attributes = df01[['age', 'height', 'weight', 'ap_hi', 'ap_lo']]\n",
    "\n",
    "# select categoric attributes (include binary and status attributes)\n",
    "cat_attributes = df01[['gender', 'cholesterol', 'gluc', 'smoke', 'alco', 'active', 'cardio']]"
   ]
  },
  {
   "cell_type": "markdown",
   "id": "4bfcf7b3",
   "metadata": {},
   "source": [
    "### 1.7.1. Numerical Attributes"
   ]
  },
  {
   "cell_type": "code",
   "execution_count": 12,
   "id": "251ae095",
   "metadata": {
    "ExecuteTime": {
     "end_time": "2022-06-23T14:34:24.916533Z",
     "start_time": "2022-06-23T14:34:24.778539Z"
    }
   },
   "outputs": [
    {
     "data": {
      "text/html": [
       "<div>\n",
       "<style scoped>\n",
       "    .dataframe tbody tr th:only-of-type {\n",
       "        vertical-align: middle;\n",
       "    }\n",
       "\n",
       "    .dataframe tbody tr th {\n",
       "        vertical-align: top;\n",
       "    }\n",
       "\n",
       "    .dataframe thead th {\n",
       "        text-align: right;\n",
       "    }\n",
       "</style>\n",
       "<table border=\"1\" class=\"dataframe\">\n",
       "  <thead>\n",
       "    <tr style=\"text-align: right;\">\n",
       "      <th></th>\n",
       "      <th>attributes</th>\n",
       "      <th>min</th>\n",
       "      <th>max</th>\n",
       "      <th>range</th>\n",
       "      <th>mean</th>\n",
       "      <th>median</th>\n",
       "      <th>skew</th>\n",
       "      <th>kurtosis</th>\n",
       "    </tr>\n",
       "  </thead>\n",
       "  <tbody>\n",
       "    <tr>\n",
       "      <th>0</th>\n",
       "      <td>age</td>\n",
       "      <td>29.58</td>\n",
       "      <td>64.97</td>\n",
       "      <td>35.39</td>\n",
       "      <td>53.328568</td>\n",
       "      <td>53.97</td>\n",
       "      <td>-0.305527</td>\n",
       "      <td>-0.823468</td>\n",
       "    </tr>\n",
       "    <tr>\n",
       "      <th>1</th>\n",
       "      <td>height</td>\n",
       "      <td>55.00</td>\n",
       "      <td>250.00</td>\n",
       "      <td>195.00</td>\n",
       "      <td>164.348125</td>\n",
       "      <td>165.00</td>\n",
       "      <td>-0.594831</td>\n",
       "      <td>7.616794</td>\n",
       "    </tr>\n",
       "    <tr>\n",
       "      <th>2</th>\n",
       "      <td>weight</td>\n",
       "      <td>22.00</td>\n",
       "      <td>200.00</td>\n",
       "      <td>178.00</td>\n",
       "      <td>74.188586</td>\n",
       "      <td>72.00</td>\n",
       "      <td>1.015661</td>\n",
       "      <td>2.630229</td>\n",
       "    </tr>\n",
       "    <tr>\n",
       "      <th>3</th>\n",
       "      <td>ap_hi</td>\n",
       "      <td>-140.00</td>\n",
       "      <td>14020.00</td>\n",
       "      <td>14160.00</td>\n",
       "      <td>128.737893</td>\n",
       "      <td>120.00</td>\n",
       "      <td>85.641414</td>\n",
       "      <td>7642.334178</td>\n",
       "    </tr>\n",
       "    <tr>\n",
       "      <th>4</th>\n",
       "      <td>ap_lo</td>\n",
       "      <td>0.00</td>\n",
       "      <td>11000.00</td>\n",
       "      <td>11000.00</td>\n",
       "      <td>97.025536</td>\n",
       "      <td>80.00</td>\n",
       "      <td>31.969044</td>\n",
       "      <td>1369.195570</td>\n",
       "    </tr>\n",
       "  </tbody>\n",
       "</table>\n",
       "</div>"
      ],
      "text/plain": [
       "  attributes     min       max     range        mean  median       skew  \\\n",
       "0        age   29.58     64.97     35.39   53.328568   53.97  -0.305527   \n",
       "1     height   55.00    250.00    195.00  164.348125  165.00  -0.594831   \n",
       "2     weight   22.00    200.00    178.00   74.188586   72.00   1.015661   \n",
       "3      ap_hi -140.00  14020.00  14160.00  128.737893  120.00  85.641414   \n",
       "4      ap_lo    0.00  11000.00  11000.00   97.025536   80.00  31.969044   \n",
       "\n",
       "      kurtosis  \n",
       "0    -0.823468  \n",
       "1     7.616794  \n",
       "2     2.630229  \n",
       "3  7642.334178  \n",
       "4  1369.195570  "
      ]
     },
     "execution_count": 12,
     "metadata": {},
     "output_type": "execute_result"
    }
   ],
   "source": [
    "# central tendency - mean, median\n",
    "mean = pd.DataFrame(num_attributes.apply(np.mean)).T\n",
    "median = pd.DataFrame(num_attributes.apply(np.median)).T\n",
    "\n",
    "# dispersion - std, min, max, range, skew, kurtosis\n",
    "std = pd.DataFrame(num_attributes.apply(np.std)).T\n",
    "min_ = pd.DataFrame(num_attributes.apply(min)).T\n",
    "max_ = pd.DataFrame(num_attributes.apply(max)).T\n",
    "range_ = pd.DataFrame(num_attributes.apply(lambda x: x.max() - x.min())).T\n",
    "skew = pd.DataFrame(num_attributes.apply(lambda x: x.skew())).T\n",
    "kurtosis = pd.DataFrame(num_attributes.apply(lambda x: x.kurtosis())).T\n",
    "\n",
    "# join dataframes\n",
    "num_stats = pd.concat([min_, max_, range_, mean, median, skew, kurtosis]).T.reset_index()\n",
    "num_stats.columns = ['attributes', 'min', 'max', 'range', 'mean', 'median', 'skew', 'kurtosis']\n",
    "\n",
    "# display numerical analysis\n",
    "num_stats"
   ]
  },
  {
   "cell_type": "markdown",
   "id": "467a158d",
   "metadata": {},
   "source": [
    "- The lowest height (55 cm) and the highest height (250 cm) seem incorrect;\n",
    "- Minimum weight (22kg) seems incorrect considering the youngest patient is 29 years old;\n",
    "- Negative systolic pressure seems incorrect;\n",
    "- Systolic and diastolic pressures with exobirtant maximum values seem incorrect;"
   ]
  },
  {
   "cell_type": "markdown",
   "id": "5fa6c1d3",
   "metadata": {
    "ExecuteTime": {
     "end_time": "2022-05-11T13:48:00.650342Z",
     "start_time": "2022-05-11T13:48:00.638341Z"
    }
   },
   "source": [
    "### 1.7.2. Categorical Attributes"
   ]
  },
  {
   "cell_type": "code",
   "execution_count": 13,
   "id": "5a9d6f7f",
   "metadata": {
    "ExecuteTime": {
     "end_time": "2022-06-23T14:34:25.027531Z",
     "start_time": "2022-06-23T14:34:24.922535Z"
    }
   },
   "outputs": [
    {
     "data": {
      "text/html": [
       "<div>\n",
       "<style scoped>\n",
       "    .dataframe tbody tr th:only-of-type {\n",
       "        vertical-align: middle;\n",
       "    }\n",
       "\n",
       "    .dataframe tbody tr th {\n",
       "        vertical-align: top;\n",
       "    }\n",
       "\n",
       "    .dataframe thead th {\n",
       "        text-align: right;\n",
       "    }\n",
       "</style>\n",
       "<table border=\"1\" class=\"dataframe\">\n",
       "  <thead>\n",
       "    <tr style=\"text-align: right;\">\n",
       "      <th></th>\n",
       "      <th>gender</th>\n",
       "      <th>cholesterol</th>\n",
       "      <th>gluc</th>\n",
       "      <th>smoke</th>\n",
       "      <th>alco</th>\n",
       "      <th>active</th>\n",
       "      <th>cardio</th>\n",
       "    </tr>\n",
       "  </thead>\n",
       "  <tbody>\n",
       "    <tr>\n",
       "      <th>count</th>\n",
       "      <td>56000</td>\n",
       "      <td>56000</td>\n",
       "      <td>56000</td>\n",
       "      <td>56000</td>\n",
       "      <td>56000</td>\n",
       "      <td>56000</td>\n",
       "      <td>56000</td>\n",
       "    </tr>\n",
       "    <tr>\n",
       "      <th>unique</th>\n",
       "      <td>2</td>\n",
       "      <td>3</td>\n",
       "      <td>3</td>\n",
       "      <td>2</td>\n",
       "      <td>2</td>\n",
       "      <td>2</td>\n",
       "      <td>2</td>\n",
       "    </tr>\n",
       "    <tr>\n",
       "      <th>top</th>\n",
       "      <td>0</td>\n",
       "      <td>1</td>\n",
       "      <td>1</td>\n",
       "      <td>0</td>\n",
       "      <td>0</td>\n",
       "      <td>1</td>\n",
       "      <td>0</td>\n",
       "    </tr>\n",
       "    <tr>\n",
       "      <th>freq</th>\n",
       "      <td>36401</td>\n",
       "      <td>41910</td>\n",
       "      <td>47619</td>\n",
       "      <td>51030</td>\n",
       "      <td>52929</td>\n",
       "      <td>45011</td>\n",
       "      <td>28033</td>\n",
       "    </tr>\n",
       "  </tbody>\n",
       "</table>\n",
       "</div>"
      ],
      "text/plain": [
       "        gender  cholesterol   gluc  smoke   alco  active  cardio\n",
       "count    56000        56000  56000  56000  56000   56000   56000\n",
       "unique       2            3      3      2      2       2       2\n",
       "top          0            1      1      0      0       1       0\n",
       "freq     36401        41910  47619  51030  52929   45011   28033"
      ]
     },
     "execution_count": 13,
     "metadata": {},
     "output_type": "execute_result"
    }
   ],
   "source": [
    "cat_attributes.astype('object').describe()"
   ]
  },
  {
   "cell_type": "markdown",
   "id": "ab310e2d",
   "metadata": {},
   "source": [
    "- 65.00% of patients are of one gender;\n",
    "- 91.13% of patients are non-smokers;\n",
    "- 94.52% of patients do not drink alcohol:;\n",
    "- 80.38% of patients practice pshysical activity;"
   ]
  },
  {
   "cell_type": "code",
   "execution_count": 14,
   "id": "93f12aa4",
   "metadata": {
    "ExecuteTime": {
     "end_time": "2022-06-23T14:34:27.091594Z",
     "start_time": "2022-06-23T14:34:25.030535Z"
    }
   },
   "outputs": [
    {
     "data": {
      "image/png": "[encoded data removed]",
      "text/plain": [
       "<Figure size 432x288 with 2 Axes>"
      ]
     },
     "metadata": {
      "needs_background": "light"
     },
     "output_type": "display_data"
    }
   ],
   "source": [
    "cat_columns = cat_attributes.columns.tolist()\n",
    "\n",
    "corr_dict = {}\n",
    "\n",
    "for main_cols in cat_columns:\n",
    "    corr_list = []\n",
    "    \n",
    "    for secundary_cols in cat_columns:\n",
    "        #cramer v\n",
    "        cat_corr = cramer_v(cat_attributes[main_cols], cat_attributes[secundary_cols])\n",
    "        \n",
    "        # add to list\n",
    "        corr_list.append(cat_corr)\n",
    "    \n",
    "    # add to dict each attribute correlation\n",
    "    corr_dict[main_cols] = corr_list\n",
    "    \n",
    "df_corr = pd.DataFrame(corr_dict)\n",
    "df_corr = df_corr.set_index(df_corr.columns)\n",
    "sns.heatmap(df_corr, annot=True);"
   ]
  },
  {
   "cell_type": "markdown",
   "id": "a8725f62",
   "metadata": {},
   "source": [
    "# 2.0. Feature Engineering"
   ]
  },
  {
   "cell_type": "code",
   "execution_count": 15,
   "id": "40e70866",
   "metadata": {
    "ExecuteTime": {
     "end_time": "2022-06-23T14:34:27.107539Z",
     "start_time": "2022-06-23T14:34:27.096534Z"
    }
   },
   "outputs": [],
   "source": [
    "df02 = df01.copy()"
   ]
  },
  {
   "cell_type": "markdown",
   "id": "e5ccabcb",
   "metadata": {},
   "source": [
    "## 2.1. Mental Map of Hypothesis"
   ]
  },
  {
   "cell_type": "code",
   "execution_count": 16,
   "id": "20091ff9",
   "metadata": {
    "ExecuteTime": {
     "end_time": "2022-06-23T14:34:27.949532Z",
     "start_time": "2022-06-23T14:34:27.112535Z"
    }
   },
   "outputs": [
    {
     "ename": "FileNotFoundError",
     "evalue": "No such file or directory: '../images/CARDIO_CATCH_DESEASE.png'",
     "output_type": "error",
     "traceback": [
      "\u001b[1;31m---------------------------------------------------------------------------\u001b[0m",
      "\u001b[1;31mTypeError\u001b[0m                                 Traceback (most recent call last)",
      "File \u001b[1;32m~\\anaconda3\\envs\\cardio-disease-diagnosis\\lib\\site-packages\\IPython\\core\\display.py:1032\u001b[0m, in \u001b[0;36mImage._data_and_metadata\u001b[1;34m(self, always_both)\u001b[0m\n\u001b[0;32m   1031\u001b[0m \u001b[38;5;28;01mtry\u001b[39;00m:\n\u001b[1;32m-> 1032\u001b[0m     b64_data \u001b[38;5;241m=\u001b[39m \u001b[43mb2a_base64\u001b[49m\u001b[43m(\u001b[49m\u001b[38;5;28;43mself\u001b[39;49m\u001b[38;5;241;43m.\u001b[39;49m\u001b[43mdata\u001b[49m\u001b[43m)\u001b[49m\u001b[38;5;241m.\u001b[39mdecode(\u001b[38;5;124m'\u001b[39m\u001b[38;5;124mascii\u001b[39m\u001b[38;5;124m'\u001b[39m)\n\u001b[0;32m   1033\u001b[0m \u001b[38;5;28;01mexcept\u001b[39;00m \u001b[38;5;167;01mTypeError\u001b[39;00m \u001b[38;5;28;01mas\u001b[39;00m e:\n",
      "\u001b[1;31mTypeError\u001b[0m: a bytes-like object is required, not 'str'",
      "\nThe above exception was the direct cause of the following exception:\n",
      "\u001b[1;31mFileNotFoundError\u001b[0m                         Traceback (most recent call last)",
      "File \u001b[1;32m~\\anaconda3\\envs\\cardio-disease-diagnosis\\lib\\site-packages\\IPython\\core\\formatters.py:973\u001b[0m, in \u001b[0;36mMimeBundleFormatter.__call__\u001b[1;34m(self, obj, include, exclude)\u001b[0m\n\u001b[0;32m    970\u001b[0m     method \u001b[38;5;241m=\u001b[39m get_real_method(obj, \u001b[38;5;28mself\u001b[39m\u001b[38;5;241m.\u001b[39mprint_method)\n\u001b[0;32m    972\u001b[0m     \u001b[38;5;28;01mif\u001b[39;00m method \u001b[38;5;129;01mis\u001b[39;00m \u001b[38;5;129;01mnot\u001b[39;00m \u001b[38;5;28;01mNone\u001b[39;00m:\n\u001b[1;32m--> 973\u001b[0m         \u001b[38;5;28;01mreturn\u001b[39;00m \u001b[43mmethod\u001b[49m\u001b[43m(\u001b[49m\u001b[43minclude\u001b[49m\u001b[38;5;241;43m=\u001b[39;49m\u001b[43minclude\u001b[49m\u001b[43m,\u001b[49m\u001b[43m \u001b[49m\u001b[43mexclude\u001b[49m\u001b[38;5;241;43m=\u001b[39;49m\u001b[43mexclude\u001b[49m\u001b[43m)\u001b[49m\n\u001b[0;32m    974\u001b[0m     \u001b[38;5;28;01mreturn\u001b[39;00m \u001b[38;5;28;01mNone\u001b[39;00m\n\u001b[0;32m    975\u001b[0m \u001b[38;5;28;01melse\u001b[39;00m:\n",
      "File \u001b[1;32m~\\anaconda3\\envs\\cardio-disease-diagnosis\\lib\\site-packages\\IPython\\core\\display.py:1022\u001b[0m, in \u001b[0;36mImage._repr_mimebundle_\u001b[1;34m(self, include, exclude)\u001b[0m\n\u001b[0;32m   1020\u001b[0m \u001b[38;5;28;01mif\u001b[39;00m \u001b[38;5;28mself\u001b[39m\u001b[38;5;241m.\u001b[39membed:\n\u001b[0;32m   1021\u001b[0m     mimetype \u001b[38;5;241m=\u001b[39m \u001b[38;5;28mself\u001b[39m\u001b[38;5;241m.\u001b[39m_mimetype\n\u001b[1;32m-> 1022\u001b[0m     data, metadata \u001b[38;5;241m=\u001b[39m \u001b[38;5;28;43mself\u001b[39;49m\u001b[38;5;241;43m.\u001b[39;49m\u001b[43m_data_and_metadata\u001b[49m\u001b[43m(\u001b[49m\u001b[43malways_both\u001b[49m\u001b[38;5;241;43m=\u001b[39;49m\u001b[38;5;28;43;01mTrue\u001b[39;49;00m\u001b[43m)\u001b[49m\n\u001b[0;32m   1023\u001b[0m     \u001b[38;5;28;01mif\u001b[39;00m metadata:\n\u001b[0;32m   1024\u001b[0m         metadata \u001b[38;5;241m=\u001b[39m {mimetype: metadata}\n",
      "File \u001b[1;32m~\\anaconda3\\envs\\cardio-disease-diagnosis\\lib\\site-packages\\IPython\\core\\display.py:1034\u001b[0m, in \u001b[0;36mImage._data_and_metadata\u001b[1;34m(self, always_both)\u001b[0m\n\u001b[0;32m   1032\u001b[0m     b64_data \u001b[38;5;241m=\u001b[39m b2a_base64(\u001b[38;5;28mself\u001b[39m\u001b[38;5;241m.\u001b[39mdata)\u001b[38;5;241m.\u001b[39mdecode(\u001b[38;5;124m'\u001b[39m\u001b[38;5;124mascii\u001b[39m\u001b[38;5;124m'\u001b[39m)\n\u001b[0;32m   1033\u001b[0m \u001b[38;5;28;01mexcept\u001b[39;00m \u001b[38;5;167;01mTypeError\u001b[39;00m \u001b[38;5;28;01mas\u001b[39;00m e:\n\u001b[1;32m-> 1034\u001b[0m     \u001b[38;5;28;01mraise\u001b[39;00m \u001b[38;5;167;01mFileNotFoundError\u001b[39;00m(\n\u001b[0;32m   1035\u001b[0m         \u001b[38;5;124m\"\u001b[39m\u001b[38;5;124mNo such file or directory: \u001b[39m\u001b[38;5;124m'\u001b[39m\u001b[38;5;132;01m%s\u001b[39;00m\u001b[38;5;124m'\u001b[39m\u001b[38;5;124m\"\u001b[39m \u001b[38;5;241m%\u001b[39m (\u001b[38;5;28mself\u001b[39m\u001b[38;5;241m.\u001b[39mdata)) \u001b[38;5;28;01mfrom\u001b[39;00m \u001b[38;5;21;01me\u001b[39;00m\n\u001b[0;32m   1036\u001b[0m md \u001b[38;5;241m=\u001b[39m {}\n\u001b[0;32m   1037\u001b[0m \u001b[38;5;28;01mif\u001b[39;00m \u001b[38;5;28mself\u001b[39m\u001b[38;5;241m.\u001b[39mmetadata:\n",
      "\u001b[1;31mFileNotFoundError\u001b[0m: No such file or directory: '../images/CARDIO_CATCH_DESEASE.png'"
     ]
    },
    {
     "ename": "FileNotFoundError",
     "evalue": "No such file or directory: '../images/CARDIO_CATCH_DESEASE.png'",
     "output_type": "error",
     "traceback": [
      "\u001b[1;31m---------------------------------------------------------------------------\u001b[0m",
      "\u001b[1;31mTypeError\u001b[0m                                 Traceback (most recent call last)",
      "File \u001b[1;32m~\\anaconda3\\envs\\cardio-disease-diagnosis\\lib\\site-packages\\IPython\\core\\display.py:1032\u001b[0m, in \u001b[0;36mImage._data_and_metadata\u001b[1;34m(self, always_both)\u001b[0m\n\u001b[0;32m   1031\u001b[0m \u001b[38;5;28;01mtry\u001b[39;00m:\n\u001b[1;32m-> 1032\u001b[0m     b64_data \u001b[38;5;241m=\u001b[39m \u001b[43mb2a_base64\u001b[49m\u001b[43m(\u001b[49m\u001b[38;5;28;43mself\u001b[39;49m\u001b[38;5;241;43m.\u001b[39;49m\u001b[43mdata\u001b[49m\u001b[43m)\u001b[49m\u001b[38;5;241m.\u001b[39mdecode(\u001b[38;5;124m'\u001b[39m\u001b[38;5;124mascii\u001b[39m\u001b[38;5;124m'\u001b[39m)\n\u001b[0;32m   1033\u001b[0m \u001b[38;5;28;01mexcept\u001b[39;00m \u001b[38;5;167;01mTypeError\u001b[39;00m \u001b[38;5;28;01mas\u001b[39;00m e:\n",
      "\u001b[1;31mTypeError\u001b[0m: a bytes-like object is required, not 'str'",
      "\nThe above exception was the direct cause of the following exception:\n",
      "\u001b[1;31mFileNotFoundError\u001b[0m                         Traceback (most recent call last)",
      "File \u001b[1;32m~\\anaconda3\\envs\\cardio-disease-diagnosis\\lib\\site-packages\\IPython\\core\\formatters.py:343\u001b[0m, in \u001b[0;36mBaseFormatter.__call__\u001b[1;34m(self, obj)\u001b[0m\n\u001b[0;32m    341\u001b[0m     method \u001b[38;5;241m=\u001b[39m get_real_method(obj, \u001b[38;5;28mself\u001b[39m\u001b[38;5;241m.\u001b[39mprint_method)\n\u001b[0;32m    342\u001b[0m     \u001b[38;5;28;01mif\u001b[39;00m method \u001b[38;5;129;01mis\u001b[39;00m \u001b[38;5;129;01mnot\u001b[39;00m \u001b[38;5;28;01mNone\u001b[39;00m:\n\u001b[1;32m--> 343\u001b[0m         \u001b[38;5;28;01mreturn\u001b[39;00m \u001b[43mmethod\u001b[49m\u001b[43m(\u001b[49m\u001b[43m)\u001b[49m\n\u001b[0;32m    344\u001b[0m     \u001b[38;5;28;01mreturn\u001b[39;00m \u001b[38;5;28;01mNone\u001b[39;00m\n\u001b[0;32m    345\u001b[0m \u001b[38;5;28;01melse\u001b[39;00m:\n",
      "File \u001b[1;32m~\\anaconda3\\envs\\cardio-disease-diagnosis\\lib\\site-packages\\IPython\\core\\display.py:1054\u001b[0m, in \u001b[0;36mImage._repr_png_\u001b[1;34m(self)\u001b[0m\n\u001b[0;32m   1052\u001b[0m \u001b[38;5;28;01mdef\u001b[39;00m \u001b[38;5;21m_repr_png_\u001b[39m(\u001b[38;5;28mself\u001b[39m):\n\u001b[0;32m   1053\u001b[0m     \u001b[38;5;28;01mif\u001b[39;00m \u001b[38;5;28mself\u001b[39m\u001b[38;5;241m.\u001b[39membed \u001b[38;5;129;01mand\u001b[39;00m \u001b[38;5;28mself\u001b[39m\u001b[38;5;241m.\u001b[39mformat \u001b[38;5;241m==\u001b[39m \u001b[38;5;28mself\u001b[39m\u001b[38;5;241m.\u001b[39m_FMT_PNG:\n\u001b[1;32m-> 1054\u001b[0m         \u001b[38;5;28;01mreturn\u001b[39;00m \u001b[38;5;28;43mself\u001b[39;49m\u001b[38;5;241;43m.\u001b[39;49m\u001b[43m_data_and_metadata\u001b[49m\u001b[43m(\u001b[49m\u001b[43m)\u001b[49m\n",
      "File \u001b[1;32m~\\anaconda3\\envs\\cardio-disease-diagnosis\\lib\\site-packages\\IPython\\core\\display.py:1034\u001b[0m, in \u001b[0;36mImage._data_and_metadata\u001b[1;34m(self, always_both)\u001b[0m\n\u001b[0;32m   1032\u001b[0m     b64_data \u001b[38;5;241m=\u001b[39m b2a_base64(\u001b[38;5;28mself\u001b[39m\u001b[38;5;241m.\u001b[39mdata)\u001b[38;5;241m.\u001b[39mdecode(\u001b[38;5;124m'\u001b[39m\u001b[38;5;124mascii\u001b[39m\u001b[38;5;124m'\u001b[39m)\n\u001b[0;32m   1033\u001b[0m \u001b[38;5;28;01mexcept\u001b[39;00m \u001b[38;5;167;01mTypeError\u001b[39;00m \u001b[38;5;28;01mas\u001b[39;00m e:\n\u001b[1;32m-> 1034\u001b[0m     \u001b[38;5;28;01mraise\u001b[39;00m \u001b[38;5;167;01mFileNotFoundError\u001b[39;00m(\n\u001b[0;32m   1035\u001b[0m         \u001b[38;5;124m\"\u001b[39m\u001b[38;5;124mNo such file or directory: \u001b[39m\u001b[38;5;124m'\u001b[39m\u001b[38;5;132;01m%s\u001b[39;00m\u001b[38;5;124m'\u001b[39m\u001b[38;5;124m\"\u001b[39m \u001b[38;5;241m%\u001b[39m (\u001b[38;5;28mself\u001b[39m\u001b[38;5;241m.\u001b[39mdata)) \u001b[38;5;28;01mfrom\u001b[39;00m \u001b[38;5;21;01me\u001b[39;00m\n\u001b[0;32m   1036\u001b[0m md \u001b[38;5;241m=\u001b[39m {}\n\u001b[0;32m   1037\u001b[0m \u001b[38;5;28;01mif\u001b[39;00m \u001b[38;5;28mself\u001b[39m\u001b[38;5;241m.\u001b[39mmetadata:\n",
      "\u001b[1;31mFileNotFoundError\u001b[0m: No such file or directory: '../images/CARDIO_CATCH_DESEASE.png'"
     ]
    },
    {
     "data": {
      "text/plain": [
       "<IPython.core.display.Image object>"
      ]
     },
     "execution_count": 16,
     "metadata": {},
     "output_type": "execute_result"
    }
   ],
   "source": [
    "Image('../images/CARDIO_CATCH_DESEASE.png')"
   ]
  },
  {
   "cell_type": "markdown",
   "id": "15397ebc",
   "metadata": {},
   "source": [
    "## 2.2. Hypothesis Creation"
   ]
  },
  {
   "cell_type": "markdown",
   "id": "654b2366",
   "metadata": {},
   "source": [
    "### 2.2.1. Objective Features Hypotheses"
   ]
  },
  {
   "cell_type": "markdown",
   "id": "4518e36e",
   "metadata": {
    "ExecuteTime": {
     "end_time": "2022-05-11T17:05:17.539970Z",
     "start_time": "2022-05-11T17:05:17.525972Z"
    }
   },
   "source": [
    "1. Both genders have the same proportion of cardiovascular diseases.\n",
    "\n",
    "2. People over 40 have more than twice as many cardiovascular diseases, on average.\n",
    "\n",
    "3. The higher the weight/height ratio, the greater the amount of cardiovascular disease.\n",
    "\n",
    "4. Between 40% and 50% of people over 100kg have cardiovascular disease.\n",
    "\n",
    "5. People with heights below 150cm have half as many cardiovascular diseases on average."
   ]
  },
  {
   "cell_type": "markdown",
   "id": "80c4264c",
   "metadata": {},
   "source": [
    "### 2.2.2. Examination Features Hypotheses"
   ]
  },
  {
   "cell_type": "markdown",
   "id": "fdb319db",
   "metadata": {
    "ExecuteTime": {
     "end_time": "2022-05-11T17:05:36.759970Z",
     "start_time": "2022-05-11T17:05:36.743975Z"
    }
   },
   "source": [
    "1. People with cholesterol well above normal are twice as likely to have cardiovascular disease, on average.\n",
    "\n",
    "2. Less than 25% of people with normal cholesterol and glucose have cardiovascular disease.\n",
    "\n",
    "3. People with all three glucose levels have a similar percentage (+/-5%) of cardiovascular disease.\n",
    "\n",
    "4. People with systolic blood pressure above 120 mmHg have 50% more cardiovascular diseases compared to those with pressure below 120 mmHg.\n",
    "\n",
    "5. People with a diastolic pressure above 80 mmHg have 50% more cardiovascular diseases compared to those with a pressure below 80 mmHg. \n",
    "\n",
    "6. People with blood pressure (ap_hi / api_lo) higher than 2 have 30% more cardiovascular diseases than those with pressure below. \n"
   ]
  },
  {
   "cell_type": "markdown",
   "id": "cf2c23e4",
   "metadata": {},
   "source": [
    "### 2.2.3. Subjective Features Hypotheses"
   ]
  },
  {
   "cell_type": "markdown",
   "id": "67553bf0",
   "metadata": {},
   "source": [
    "1. People who drink have 20% less cardiovascular disease, on average.\n",
    "\n",
    "2. People who practice physical activity have 30% less cardiovascular disease, on average.\n",
    "\n",
    "3. People who smoke, drink, and do not exercise have 3 times more cardiovascular disease on average.\n",
    "\n",
    "4. People who smoke have a similar percentage (+/-5%) of cardiovascular diseases compared to those who do not smoke.\n",
    "\n",
    "5. People who drink and exercise have 50% less cardiovascular disease compared to those who don't, on average."
   ]
  },
  {
   "cell_type": "markdown",
   "id": "c5232815",
   "metadata": {},
   "source": [
    "## 2.3. Final Hypothesis List"
   ]
  },
  {
   "cell_type": "markdown",
   "id": "f2efc2a7",
   "metadata": {},
   "source": [
    "1. Both genders have the same proportion of cardiovascular diseases.\n",
    "\n",
    "2. People over 40 have more than twice as many cardiovascular diseases, on average.\n",
    "\n",
    "3. The higher the weight/height ratio, the greater the amount of cardiovascular disease.\n",
    "\n",
    "4. Between 40% and 50% of people over 100kg have cardiovascular disease.\n",
    "\n",
    "5. People with heights below 150cm have half as many cardiovascular diseases on average.\n",
    "\n",
    "6. People with cholesterol well above normal are twice as likely to have cardiovascular disease, on average.\n",
    "\n",
    "7. Less than 25% of people with normal cholesterol and glucose have cardiovascular disease.\n",
    "\n",
    "8. People with all three glucose levels have a similar percentage (+/-5%) of cardiovascular disease.\n",
    "\n",
    "9. People with systolic blood pressure above 120 mmHg have 50% more cardiovascular diseases compared to those with pressure below 120 mmHg.\n",
    "\n",
    "10. People with a diastolic pressure above 80 mmHg have 50% more cardiovascular diseases compared to those with a pressure below 80 mmHg. \n",
    "\n",
    "11. People with blood pressure (ap_hi / api_lo) higher than 2 have 30% more cardiovascular diseases than those with pressure below. \n",
    "\n",
    "12. People who drink have 20% less cardiovascular disease, on average.\n",
    "\n",
    "13. People who practice physical activity have 30% less cardiovascular disease, on average.\n",
    "\n",
    "14. People who smoke, drink, and do not exercise have 3 times more cardiovascular disease on average.\n",
    "\n",
    "15. People who smoke have a similar percentage (+/-5%) of cardiovascular diseases compared to those who do not smoke.\n",
    "\n",
    "16. People who drink and exercise have 50% less cardiovascular disease compared to those who don't, on average."
   ]
  },
  {
   "cell_type": "markdown",
   "id": "0a732fb8",
   "metadata": {},
   "source": [
    "## 2.4. Feature Engineering\n",
    "\n",
    "**References:**\n",
    "\n",
    " - Blood Pressure Stages: https://www.webmd.com/hypertension-high-blood-pressure/guide/diastolic-and-systolic-blood-pressure-know-your-numbers#1\n",
    " \n",
    " - Weight Status: https://www.cdc.gov/healthyweight/assessing/bmi/adult_bmi/index.html"
   ]
  },
  {
   "cell_type": "code",
   "execution_count": 17,
   "id": "e6074d59",
   "metadata": {
    "ExecuteTime": {
     "end_time": "2022-06-23T14:34:31.599187Z",
     "start_time": "2022-06-23T14:34:27.952535Z"
    }
   },
   "outputs": [],
   "source": [
    "# create a feature for body mass index (BMI)\n",
    "df02['bmi'] = np.round(df02['weight']/((df02['height']/100)**2), 2)\n",
    "\n",
    "# create a feature for (ap_hi / api_lo)\n",
    "df02['ap_hi/ap_lo'] = np.round(df02['ap_hi']/df02['ap_lo'], 2)\n",
    "\n",
    "# create feature for people who smoke, drink and are not active\n",
    "df02['bad_habits'] = df02[['smoke', 'alco', 'active']].apply(lambda x: 1 if (x['smoke'] == 1) & \n",
    "                                                                            (x['alco'] == 1) & (x['active'] == 0) else 0, \n",
    "                                                             axis=1) \n",
    "\n",
    "# create feature for people who drink and are active\n",
    "df02['drink_active'] = df02[['alco', 'active']].apply(lambda x: 1 if (x['alco'] == 1) & (x['active'] == 1) else 0, \n",
    "                                                      axis=1)"
   ]
  },
  {
   "cell_type": "code",
   "execution_count": 18,
   "id": "0fa4dad5",
   "metadata": {
    "ExecuteTime": {
     "end_time": "2022-06-23T14:34:31.663172Z",
     "start_time": "2022-06-23T14:34:31.601167Z"
    }
   },
   "outputs": [],
   "source": [
    "# weight status based on BMI\n",
    "df02['weight_status'] = df02['bmi'].apply(lambda x: 'underweight' if x < 18.5 else \n",
    "                                                    'healthy'     if (x >= 18.5) & (x < 25) else \n",
    "                                                    'overweight'  if (x >= 25) & (x < 30) else \n",
    "                                                    'obesity')"
   ]
  },
  {
   "cell_type": "code",
   "execution_count": 19,
   "id": "98c80b7c",
   "metadata": {
    "ExecuteTime": {
     "end_time": "2022-06-23T14:34:34.122693Z",
     "start_time": "2022-06-23T14:34:31.666169Z"
    }
   },
   "outputs": [],
   "source": [
    "# blood pressure stages\n",
    "df02['ap_stages'] = df02[['ap_hi', 'ap_lo']].apply(lambda x: 'hp_crisis'  if (x['ap_hi'] > 180) | (x['ap_lo'] > 120) else\n",
    "                                                             'hp_stage_2' if (x['ap_hi'] >= 140) | (x['ap_lo'] >= 90) else\n",
    "                                                             'hp_stage_1' if (x['ap_hi'] >= 130) | (x['ap_lo'] >= 80) else \n",
    "                                                             'elevated'   if (x['ap_hi'] >= 120) else \n",
    "                                                             'normal', axis=1)"
   ]
  },
  {
   "cell_type": "code",
   "execution_count": 20,
   "id": "98f1d76b",
   "metadata": {
    "ExecuteTime": {
     "end_time": "2022-06-23T14:34:34.170703Z",
     "start_time": "2022-06-23T14:34:34.125697Z"
    }
   },
   "outputs": [],
   "source": [
    "# transformation cholesterol in categorical data\n",
    "df02['cholesterol'] = df02['cholesterol'].apply(lambda x: 'normal' if x == 1 else \n",
    "                                                          'above_normal' if x == 2 else \n",
    "                                                          'well_above_normal')"
   ]
  },
  {
   "cell_type": "code",
   "execution_count": 21,
   "id": "646be257",
   "metadata": {
    "ExecuteTime": {
     "end_time": "2022-06-23T14:34:34.219744Z",
     "start_time": "2022-06-23T14:34:34.174696Z"
    }
   },
   "outputs": [],
   "source": [
    "# transformation glucose in categorical data\n",
    "df02['gluc'] = df02['gluc'].apply(lambda x: 'normal' if x == 1 else \n",
    "                                            'above_normal' if x == 2 else \n",
    "                                            'well_above_normal')"
   ]
  },
  {
   "cell_type": "code",
   "execution_count": 22,
   "id": "1e3a8bf3",
   "metadata": {
    "ExecuteTime": {
     "end_time": "2022-06-23T14:34:34.249696Z",
     "start_time": "2022-06-23T14:34:34.227698Z"
    }
   },
   "outputs": [],
   "source": [
    "# rearrange columns order\n",
    "df02 = df02[['id', 'age', 'gender', 'height', 'weight', 'weight_status', 'bmi',\n",
    "             'ap_hi', 'ap_lo', 'ap_hi/ap_lo', 'ap_stages', 'cholesterol', 'gluc', \n",
    "             'smoke', 'alco', 'active', 'bad_habits', 'drink_active', 'cardio']]"
   ]
  },
  {
   "cell_type": "markdown",
   "id": "aebe0714",
   "metadata": {},
   "source": [
    "# 3.0. Data Filtering"
   ]
  },
  {
   "cell_type": "code",
   "execution_count": 23,
   "id": "7c7b9b54",
   "metadata": {
    "ExecuteTime": {
     "end_time": "2022-06-23T14:34:34.281695Z",
     "start_time": "2022-06-23T14:34:34.258706Z"
    }
   },
   "outputs": [],
   "source": [
    "df03 = df02.copy()"
   ]
  },
  {
   "cell_type": "markdown",
   "id": "a05538d5",
   "metadata": {},
   "source": [
    "## 3.1. Filtering Rows\n",
    "\n",
    "- Heights outside the range 135cm to 225cm will not be considered;\n",
    "\n",
    "- Weight below 35 kg will not be considered.\n",
    "\n",
    "- Blood pressure lower than 30 will not be considered.\n",
    "\n",
    "- Blood pressure higher than 200 will not be considered.\n",
    "\n",
    "- Dialostic blood pressure higher than systolic will not be considered."
   ]
  },
  {
   "cell_type": "code",
   "execution_count": 24,
   "id": "7014334c",
   "metadata": {
    "ExecuteTime": {
     "end_time": "2022-06-23T14:34:34.643702Z",
     "start_time": "2022-06-23T14:34:34.286701Z"
    }
   },
   "outputs": [
    {
     "data": {
      "text/html": [
       "<div>\n",
       "<style scoped>\n",
       "    .dataframe tbody tr th:only-of-type {\n",
       "        vertical-align: middle;\n",
       "    }\n",
       "\n",
       "    .dataframe tbody tr th {\n",
       "        vertical-align: top;\n",
       "    }\n",
       "\n",
       "    .dataframe thead th {\n",
       "        text-align: right;\n",
       "    }\n",
       "</style>\n",
       "<table border=\"1\" class=\"dataframe\">\n",
       "  <thead>\n",
       "    <tr style=\"text-align: right;\">\n",
       "      <th></th>\n",
       "      <th>id</th>\n",
       "      <th>age</th>\n",
       "      <th>gender</th>\n",
       "      <th>height</th>\n",
       "      <th>weight</th>\n",
       "      <th>weight_status</th>\n",
       "      <th>bmi</th>\n",
       "      <th>ap_hi</th>\n",
       "      <th>ap_lo</th>\n",
       "      <th>ap_hi/ap_lo</th>\n",
       "      <th>ap_stages</th>\n",
       "      <th>cholesterol</th>\n",
       "      <th>gluc</th>\n",
       "      <th>smoke</th>\n",
       "      <th>alco</th>\n",
       "      <th>active</th>\n",
       "      <th>bad_habits</th>\n",
       "      <th>drink_active</th>\n",
       "      <th>cardio</th>\n",
       "    </tr>\n",
       "  </thead>\n",
       "  <tbody>\n",
       "    <tr>\n",
       "      <th>count</th>\n",
       "      <td>56000</td>\n",
       "      <td>56000.00</td>\n",
       "      <td>56000</td>\n",
       "      <td>56000</td>\n",
       "      <td>56000.0</td>\n",
       "      <td>56000</td>\n",
       "      <td>56000.00</td>\n",
       "      <td>56000</td>\n",
       "      <td>56000</td>\n",
       "      <td>56000.0</td>\n",
       "      <td>56000</td>\n",
       "      <td>56000</td>\n",
       "      <td>56000</td>\n",
       "      <td>56000</td>\n",
       "      <td>56000</td>\n",
       "      <td>56000</td>\n",
       "      <td>56000</td>\n",
       "      <td>56000</td>\n",
       "      <td>56000</td>\n",
       "    </tr>\n",
       "    <tr>\n",
       "      <th>unique</th>\n",
       "      <td>56000</td>\n",
       "      <td>2375.00</td>\n",
       "      <td>2</td>\n",
       "      <td>102</td>\n",
       "      <td>259.0</td>\n",
       "      <td>4</td>\n",
       "      <td>2250.00</td>\n",
       "      <td>146</td>\n",
       "      <td>152</td>\n",
       "      <td>237.0</td>\n",
       "      <td>5</td>\n",
       "      <td>3</td>\n",
       "      <td>3</td>\n",
       "      <td>2</td>\n",
       "      <td>2</td>\n",
       "      <td>2</td>\n",
       "      <td>2</td>\n",
       "      <td>2</td>\n",
       "      <td>2</td>\n",
       "    </tr>\n",
       "    <tr>\n",
       "      <th>top</th>\n",
       "      <td>67617</td>\n",
       "      <td>59.98</td>\n",
       "      <td>0</td>\n",
       "      <td>165</td>\n",
       "      <td>65.0</td>\n",
       "      <td>healthy</td>\n",
       "      <td>23.88</td>\n",
       "      <td>120</td>\n",
       "      <td>80</td>\n",
       "      <td>1.5</td>\n",
       "      <td>hp_stage_1</td>\n",
       "      <td>normal</td>\n",
       "      <td>normal</td>\n",
       "      <td>0</td>\n",
       "      <td>0</td>\n",
       "      <td>1</td>\n",
       "      <td>0</td>\n",
       "      <td>0</td>\n",
       "      <td>0</td>\n",
       "    </tr>\n",
       "    <tr>\n",
       "      <th>freq</th>\n",
       "      <td>1</td>\n",
       "      <td>83.00</td>\n",
       "      <td>36401</td>\n",
       "      <td>4664</td>\n",
       "      <td>3084.0</td>\n",
       "      <td>20513</td>\n",
       "      <td>925.00</td>\n",
       "      <td>22188</td>\n",
       "      <td>27916</td>\n",
       "      <td>20484.0</td>\n",
       "      <td>26070</td>\n",
       "      <td>41910</td>\n",
       "      <td>47619</td>\n",
       "      <td>51030</td>\n",
       "      <td>52929</td>\n",
       "      <td>45011</td>\n",
       "      <td>55770</td>\n",
       "      <td>53411</td>\n",
       "      <td>28033</td>\n",
       "    </tr>\n",
       "  </tbody>\n",
       "</table>\n",
       "</div>"
      ],
      "text/plain": [
       "           id       age  gender  height   weight weight_status       bmi  \\\n",
       "count   56000  56000.00   56000   56000  56000.0         56000  56000.00   \n",
       "unique  56000   2375.00       2     102    259.0             4   2250.00   \n",
       "top     67617     59.98       0     165     65.0       healthy     23.88   \n",
       "freq        1     83.00   36401    4664   3084.0         20513    925.00   \n",
       "\n",
       "        ap_hi  ap_lo  ap_hi/ap_lo   ap_stages cholesterol    gluc  smoke  \\\n",
       "count   56000  56000      56000.0       56000       56000   56000  56000   \n",
       "unique    146    152        237.0           5           3       3      2   \n",
       "top       120     80          1.5  hp_stage_1      normal  normal      0   \n",
       "freq    22188  27916      20484.0       26070       41910   47619  51030   \n",
       "\n",
       "         alco  active  bad_habits  drink_active  cardio  \n",
       "count   56000   56000       56000         56000   56000  \n",
       "unique      2       2           2             2       2  \n",
       "top         0       1           0             0       0  \n",
       "freq    52929   45011       55770         53411   28033  "
      ]
     },
     "execution_count": 24,
     "metadata": {},
     "output_type": "execute_result"
    }
   ],
   "source": [
    "df02.astype('object').describe()"
   ]
  },
  {
   "cell_type": "code",
   "execution_count": 25,
   "id": "c916db6b",
   "metadata": {
    "ExecuteTime": {
     "end_time": "2022-06-23T14:34:34.753698Z",
     "start_time": "2022-06-23T14:34:34.647698Z"
    }
   },
   "outputs": [
    {
     "data": {
      "text/plain": [
       "0.98"
      ]
     },
     "execution_count": 25,
     "metadata": {},
     "output_type": "execute_result"
    }
   ],
   "source": [
    "# select heights between the range of 135cm to 225cm\n",
    "df03 = df03[(df03['height'] >= 135) & (df03['height'] <= 225)]\n",
    "\n",
    "# select weight below 35 kg\n",
    "df03 = df03[df03['weight'] >= 35]\n",
    "\n",
    "# select positive dialostic blood pressure and lower than 200\n",
    "df03 = df03[(df03['ap_lo'] > 30) & (df03['ap_lo'] < 200)]\n",
    "\n",
    "# select positive systolic blood pressure and lower than 200\n",
    "df03 = df03[(df03['ap_hi'] > 30) & (df03['ap_hi'] < 200)]\n",
    "\n",
    "# select systolic blood pressure higher than dialostic blood pressure\n",
    "df03 = df03[df03['ap_hi'] > df03['ap_lo']]\n",
    "\n",
    "# display dataset lose after filtering rows\n",
    "np.round(df03.shape[0]/df02.shape[0], 2)"
   ]
  },
  {
   "cell_type": "markdown",
   "id": "21cf013d",
   "metadata": {
    "ExecuteTime": {
     "end_time": "2022-05-23T18:01:45.325270Z",
     "start_time": "2022-05-23T18:01:45.302267Z"
    }
   },
   "source": [
    "- Data filtering resulted in little data loss, keeping 98% of the dataset;"
   ]
  },
  {
   "cell_type": "markdown",
   "id": "76d804db",
   "metadata": {
    "ExecuteTime": {
     "end_time": "2022-05-11T13:51:04.884921Z",
     "start_time": "2022-05-11T13:51:04.867920Z"
    }
   },
   "source": [
    "## 3.2. Columns Selection"
   ]
  },
  {
   "cell_type": "code",
   "execution_count": 26,
   "id": "b39ff403",
   "metadata": {
    "ExecuteTime": {
     "end_time": "2022-06-23T14:34:34.784699Z",
     "start_time": "2022-06-23T14:34:34.756715Z"
    }
   },
   "outputs": [],
   "source": [
    "df03 = df03.drop(['id'], axis=1)"
   ]
  },
  {
   "cell_type": "markdown",
   "id": "0dc40159",
   "metadata": {},
   "source": [
    "# 4.0. Exploratory Data Analysis"
   ]
  },
  {
   "cell_type": "code",
   "execution_count": 27,
   "id": "385e6f90",
   "metadata": {
    "ExecuteTime": {
     "end_time": "2022-06-23T14:34:34.880703Z",
     "start_time": "2022-06-23T14:34:34.787700Z"
    }
   },
   "outputs": [],
   "source": [
    "df04 = df03.copy()"
   ]
  },
  {
   "cell_type": "markdown",
   "id": "94f7ee66",
   "metadata": {},
   "source": [
    "## 4.1. Univariate Analysis"
   ]
  },
  {
   "cell_type": "markdown",
   "id": "69caedf0",
   "metadata": {},
   "source": [
    "### 4.1.1. Target Variable"
   ]
  },
  {
   "cell_type": "code",
   "execution_count": 28,
   "id": "8264aec3",
   "metadata": {
    "ExecuteTime": {
     "end_time": "2022-06-23T14:34:35.262697Z",
     "start_time": "2022-06-23T14:34:34.891703Z"
    }
   },
   "outputs": [
    {
     "data": {
      "image/png": "[encoded data removed]",
      "text/plain": [
       "<Figure size 432x288 with 1 Axes>"
      ]
     },
     "metadata": {
      "needs_background": "light"
     },
     "output_type": "display_data"
    }
   ],
   "source": [
    "df04['cardio'].hist();"
   ]
  },
  {
   "cell_type": "markdown",
   "id": "9e5462a0",
   "metadata": {},
   "source": [
    "### 4.1.2. Numerical Variable"
   ]
  },
  {
   "cell_type": "code",
   "execution_count": 29,
   "id": "0af3f7cd",
   "metadata": {
    "ExecuteTime": {
     "end_time": "2022-06-23T14:34:37.637701Z",
     "start_time": "2022-06-23T14:34:35.266698Z"
    }
   },
   "outputs": [
    {
     "data": {
      "image/png": "[encoded data removed]",
      "text/plain": [
       "<Figure size 864x864 with 9 Axes>"
      ]
     },
     "metadata": {
      "needs_background": "light"
     },
     "output_type": "display_data"
    }
   ],
   "source": [
    "# select numerical attributes\n",
    "num_attributes = df04[['age', 'height', 'weight', 'bmi', 'ap_hi', 'ap_lo', 'ap_hi/ap_lo']]\n",
    "\n",
    "# display histplot of numerical attributes\n",
    "num_attributes.hist(figsize=(12,12));"
   ]
  },
  {
   "cell_type": "markdown",
   "id": "15e6693a",
   "metadata": {},
   "source": [
    "#### 4.1.2.1. Age"
   ]
  },
  {
   "cell_type": "code",
   "execution_count": 30,
   "id": "28247d53",
   "metadata": {
    "ExecuteTime": {
     "end_time": "2022-06-23T14:34:40.161703Z",
     "start_time": "2022-06-23T14:34:37.641705Z"
    }
   },
   "outputs": [
    {
     "data": {
      "image/png": "[encoded data removed]",
      "text/plain": [
       "<Figure size 1080x216 with 2 Axes>"
      ]
     },
     "metadata": {
      "needs_background": "light"
     },
     "output_type": "display_data"
    }
   ],
   "source": [
    "# setup figure size\n",
    "plt.subplots(figsize=(15,3))\n",
    "\n",
    "# boxplot\n",
    "plt.subplot(1, 2, 1)\n",
    "sns.boxplot(x='age', data=num_attributes);\n",
    "\n",
    "# distplot\n",
    "plt.subplot(1, 2, 2)\n",
    "sns.distplot(x=num_attributes['age']);"
   ]
  },
  {
   "cell_type": "markdown",
   "id": "cbce85ed",
   "metadata": {},
   "source": [
    "#### 4.1.2.2. Height"
   ]
  },
  {
   "cell_type": "code",
   "execution_count": 31,
   "id": "b6a0183d",
   "metadata": {
    "ExecuteTime": {
     "end_time": "2022-06-23T14:34:41.465773Z",
     "start_time": "2022-06-23T14:34:40.166697Z"
    }
   },
   "outputs": [
    {
     "data": {
      "image/png": "[encoded data removed]",
      "text/plain": [
       "<Figure size 1080x216 with 2 Axes>"
      ]
     },
     "metadata": {
      "needs_background": "light"
     },
     "output_type": "display_data"
    }
   ],
   "source": [
    "# setup figure size\n",
    "plt.subplots(figsize=(15,3))\n",
    "\n",
    "# boxplot\n",
    "plt.subplot(1, 2, 1)\n",
    "sns.boxplot(x='height', data=num_attributes);\n",
    "\n",
    "# distplot\n",
    "plt.subplot(1, 2, 2)\n",
    "sns.distplot(x=num_attributes['height']);"
   ]
  },
  {
   "cell_type": "markdown",
   "id": "11a86298",
   "metadata": {},
   "source": [
    "#### 4.1.2.3. Weight"
   ]
  },
  {
   "cell_type": "code",
   "execution_count": 32,
   "id": "18500fdf",
   "metadata": {
    "ExecuteTime": {
     "end_time": "2022-06-23T14:34:42.613762Z",
     "start_time": "2022-06-23T14:34:41.469761Z"
    }
   },
   "outputs": [
    {
     "data": {
      "image/png": "[encoded data removed]",
      "text/plain": [
       "<Figure size 1080x216 with 2 Axes>"
      ]
     },
     "metadata": {
      "needs_background": "light"
     },
     "output_type": "display_data"
    }
   ],
   "source": [
    "# setup figure size\n",
    "plt.subplots(figsize=(15,3))\n",
    "\n",
    "# boxplot\n",
    "plt.subplot(1, 2, 1)\n",
    "sns.boxplot(x='weight', data=num_attributes);\n",
    "\n",
    "# distplot\n",
    "plt.subplot(1, 2, 2)\n",
    "sns.distplot(x=num_attributes['weight']);"
   ]
  },
  {
   "cell_type": "markdown",
   "id": "44d3b139",
   "metadata": {},
   "source": [
    "#### 4.1.2.4. BMI"
   ]
  },
  {
   "cell_type": "code",
   "execution_count": 33,
   "id": "db526904",
   "metadata": {
    "ExecuteTime": {
     "end_time": "2022-06-23T14:34:44.025294Z",
     "start_time": "2022-06-23T14:34:42.626766Z"
    }
   },
   "outputs": [
    {
     "data": {
      "image/png": "[encoded data removed]",
      "text/plain": [
       "<Figure size 1080x216 with 2 Axes>"
      ]
     },
     "metadata": {
      "needs_background": "light"
     },
     "output_type": "display_data"
    }
   ],
   "source": [
    "# setup figure size\n",
    "plt.subplots(figsize=(15,3))\n",
    "\n",
    "# boxplot\n",
    "plt.subplot(1, 2, 1)\n",
    "sns.boxplot(x='bmi', data=num_attributes);\n",
    "\n",
    "# distplot\n",
    "plt.subplot(1, 2, 2)\n",
    "sns.distplot(x=num_attributes['bmi']);"
   ]
  },
  {
   "cell_type": "markdown",
   "id": "addc6d3a",
   "metadata": {
    "ExecuteTime": {
     "end_time": "2022-05-12T21:36:53.645067Z",
     "start_time": "2022-05-12T21:36:53.637067Z"
    }
   },
   "source": [
    "#### 4.1.2.5. Systolic Blood Pressure"
   ]
  },
  {
   "cell_type": "code",
   "execution_count": 34,
   "id": "f71ffc18",
   "metadata": {
    "ExecuteTime": {
     "end_time": "2022-06-23T14:34:44.961301Z",
     "start_time": "2022-06-23T14:34:44.032298Z"
    }
   },
   "outputs": [
    {
     "data": {
      "image/png": "[encoded data removed]",
      "text/plain": [
       "<Figure size 1080x216 with 2 Axes>"
      ]
     },
     "metadata": {
      "needs_background": "light"
     },
     "output_type": "display_data"
    }
   ],
   "source": [
    "# setup figure size\n",
    "plt.subplots(figsize=(15,3))\n",
    "\n",
    "# boxplot\n",
    "plt.subplot(1, 2, 1)\n",
    "sns.boxplot(x='ap_hi', data=num_attributes);\n",
    "\n",
    "# distplot\n",
    "plt.subplot(1, 2, 2)\n",
    "sns.distplot(x=num_attributes['ap_hi']);"
   ]
  },
  {
   "cell_type": "markdown",
   "id": "dc8f9378",
   "metadata": {
    "ExecuteTime": {
     "end_time": "2022-05-12T21:37:13.374084Z",
     "start_time": "2022-05-12T21:37:13.356069Z"
    }
   },
   "source": [
    "#### 4.1.2.6. Diastolic Blood Pressure"
   ]
  },
  {
   "cell_type": "code",
   "execution_count": 35,
   "id": "2b5fbfda",
   "metadata": {
    "ExecuteTime": {
     "end_time": "2022-06-23T14:34:46.057293Z",
     "start_time": "2022-06-23T14:34:44.966292Z"
    }
   },
   "outputs": [
    {
     "data": {
      "image/png": "[encoded data removed]",
      "text/plain": [
       "<Figure size 1080x216 with 2 Axes>"
      ]
     },
     "metadata": {
      "needs_background": "light"
     },
     "output_type": "display_data"
    }
   ],
   "source": [
    "# setup figure size\n",
    "plt.subplots(figsize=(15,3))\n",
    "\n",
    "# boxplot\n",
    "plt.subplot(1, 2, 1)\n",
    "sns.boxplot(x='ap_lo', data=num_attributes);\n",
    "\n",
    "# distplot\n",
    "plt.subplot(1, 2, 2)\n",
    "sns.distplot(x=num_attributes['ap_lo']);"
   ]
  },
  {
   "cell_type": "markdown",
   "id": "8daa2b18",
   "metadata": {},
   "source": [
    "#### 4.1.2.7. Blood Pressure Ratio"
   ]
  },
  {
   "cell_type": "code",
   "execution_count": 36,
   "id": "55bbcaa6",
   "metadata": {
    "ExecuteTime": {
     "end_time": "2022-06-23T14:34:47.188294Z",
     "start_time": "2022-06-23T14:34:46.066306Z"
    }
   },
   "outputs": [
    {
     "data": {
      "image/png": "[encoded data removed]",
      "text/plain": [
       "<Figure size 1080x216 with 2 Axes>"
      ]
     },
     "metadata": {
      "needs_background": "light"
     },
     "output_type": "display_data"
    }
   ],
   "source": [
    "# setup figure size\n",
    "plt.subplots(figsize=(15,3))\n",
    "\n",
    "# boxplot\n",
    "plt.subplot(1, 2, 1)\n",
    "sns.boxplot(x='ap_hi/ap_lo', data=num_attributes);\n",
    "\n",
    "# distplot\n",
    "plt.subplot(1, 2, 2)\n",
    "sns.distplot(x=num_attributes['ap_hi/ap_lo']);"
   ]
  },
  {
   "cell_type": "markdown",
   "id": "82a3fd80",
   "metadata": {},
   "source": [
    "### 4.1.3. Categorical Variable"
   ]
  },
  {
   "cell_type": "code",
   "execution_count": 37,
   "id": "0ba788aa",
   "metadata": {
    "ExecuteTime": {
     "end_time": "2022-06-23T14:34:47.220290Z",
     "start_time": "2022-06-23T14:34:47.192312Z"
    }
   },
   "outputs": [],
   "source": [
    "# select categorical and binary attributes\n",
    "cat_attributes = df04[['gender', 'weight_status', 'ap_stages', 'cholesterol', 'gluc', \n",
    "                       'smoke', 'alco', 'active', 'bad_habits', 'drink_active']]"
   ]
  },
  {
   "cell_type": "code",
   "execution_count": 38,
   "id": "d8c746cc",
   "metadata": {
    "ExecuteTime": {
     "end_time": "2022-06-23T14:34:49.062395Z",
     "start_time": "2022-06-23T14:34:47.223296Z"
    }
   },
   "outputs": [
    {
     "data": {
      "image/png": "[encoded data removed]",
      "text/plain": [
       "<Figure size 1440x864 with 10 Axes>"
      ]
     },
     "metadata": {
      "needs_background": "light"
     },
     "output_type": "display_data"
    }
   ],
   "source": [
    "# setup figure size\n",
    "plt.figure(figsize=(20,12))\n",
    "\n",
    "# gender\n",
    "plt.subplot(4, 3, 1)\n",
    "sns.countplot(x=cat_attributes['gender']);\n",
    "\n",
    "# weight_status\n",
    "plt.subplot(4, 3, 2)\n",
    "sns.countplot(x=cat_attributes['weight_status']);\n",
    "\n",
    "# ap_stages\n",
    "plt.subplot(4, 3, 3)\n",
    "sns.countplot(x=cat_attributes['ap_stages']);\n",
    "\n",
    "# cholesterol\n",
    "plt.subplot(4, 3, 4)\n",
    "sns.countplot(x=cat_attributes['cholesterol']);\n",
    "\n",
    "# gluc\n",
    "plt.subplot(4, 3, 5)\n",
    "sns.countplot(x=cat_attributes['gluc']);\n",
    "\n",
    "# smoke\n",
    "plt.subplot(4, 3, 6)\n",
    "sns.countplot(x=cat_attributes['smoke']);\n",
    "\n",
    "# alco\n",
    "plt.subplot(4, 3, 7)\n",
    "sns.countplot(x=cat_attributes['alco']);\n",
    "\n",
    "# active\n",
    "plt.subplot(4, 3, 8)\n",
    "sns.countplot(x=cat_attributes['active']);\n",
    "\n",
    "# bad_habits\n",
    "plt.subplot(4, 3, 9)\n",
    "sns.countplot(x=cat_attributes['bad_habits']);\n",
    "\n",
    "# drink_active\n",
    "plt.subplot(4, 3, 10)\n",
    "sns.countplot(x=cat_attributes['drink_active']);"
   ]
  },
  {
   "cell_type": "markdown",
   "id": "e783760d",
   "metadata": {},
   "source": [
    "## 4.2. Bivariate Analysis"
   ]
  },
  {
   "cell_type": "markdown",
   "id": "55d1a1c6",
   "metadata": {},
   "source": [
    "### H1. Both genders have the same proportion of cardiovascular diseases.\n",
    "**TRUE:** The generos have similar percentages of cardiovascular disease, with variance of 1% between them."
   ]
  },
  {
   "cell_type": "code",
   "execution_count": 39,
   "id": "9ef159a1",
   "metadata": {
    "ExecuteTime": {
     "end_time": "2022-06-23T14:34:49.573458Z",
     "start_time": "2022-06-23T14:34:49.071405Z"
    }
   },
   "outputs": [
    {
     "data": {
      "image/png": "[encoded data removed]",
      "text/plain": [
       "<Figure size 474.375x432 with 1 Axes>"
      ]
     },
     "metadata": {
      "needs_background": "light"
     },
     "output_type": "display_data"
    }
   ],
   "source": [
    "# number of cardios for gender\n",
    "aux = df04[['gender', 'cardio']].groupby(['gender', 'cardio']).size().reset_index().rename(columns={0: 'cardio_count'})\n",
    "\n",
    "# percentage of cardios by gender\n",
    "aux['pct_cardio_by_gender'] = aux[['gender', 'cardio_count']].apply(\n",
    "                                lambda x: x['cardio_count']/aux[aux['gender'] == x['gender']]['cardio_count'].sum(), \n",
    "                                axis=1)\n",
    "# display graph\n",
    "graph = sns.catplot(data=aux, kind='bar', x='gender', y='pct_cardio_by_gender', hue='cardio',\n",
    "                    ci='sd', palette='dark', alpha=.6, height=6);\n",
    "graph.set_axis_labels('Gender', 'Porcentage of Cardios')\n",
    "plt.title('Porcentage of Cardios by Gender');"
   ]
  },
  {
   "cell_type": "markdown",
   "id": "5547f2f8",
   "metadata": {},
   "source": [
    "### H2. People over than 40 years old have more than twice as many cardiovascular diseases, on average.\n",
    "**TRUE:** People over than 40 years old have 2.23 more cardio deseases than younger."
   ]
  },
  {
   "cell_type": "code",
   "execution_count": 40,
   "id": "fa0e663e",
   "metadata": {
    "ExecuteTime": {
     "end_time": "2022-06-23T14:34:49.859456Z",
     "start_time": "2022-06-23T14:34:49.577459Z"
    }
   },
   "outputs": [
    {
     "data": {
      "image/png": "[encoded data removed]",
      "text/plain": [
       "<Figure size 432x432 with 1 Axes>"
      ]
     },
     "metadata": {
      "needs_background": "light"
     },
     "output_type": "display_data"
    }
   ],
   "source": [
    "plt.figure(figsize=(6,6))\n",
    "\n",
    "# select data of interest\n",
    "aux = df04.loc[:, ['age', 'cardio']]\n",
    "\n",
    "# separete people older and younger than 40\n",
    "aux['older_40'] = aux['age'].apply(lambda x: 'older_than_40' if x > 40 else 'younger_than_40')\n",
    "\n",
    "# calculate de the average of cardios by group of people separate by age\n",
    "aux1 = aux[['older_40', 'cardio']].groupby('older_40').mean().reset_index()\n",
    "\n",
    "# display graph\n",
    "graph = sns.barplot(x='older_40', y='cardio', data=aux1, ci='sd', palette='dark', alpha=.6)\n",
    "graph.bar_label(graph.containers[0]);\n",
    "plt.xlabel('Group of People Separate by 40 years old')\n",
    "plt.ylabel('Percentage of Cardios')\n",
    "plt.title('Porcentage of Cardios by Group of Patients Older than 40 Years');"
   ]
  },
  {
   "cell_type": "markdown",
   "id": "856f8880",
   "metadata": {},
   "source": [
    "### H3. The higher the weight/height ratio, the greater the amount of cardiovascular disease.\n",
    "**TRUE:** There is a corelation of 0.43 of BMI with the presence of cardiovascular disease."
   ]
  },
  {
   "cell_type": "code",
   "execution_count": 41,
   "id": "40bc9e6b",
   "metadata": {
    "ExecuteTime": {
     "end_time": "2022-06-23T14:34:50.892187Z",
     "start_time": "2022-06-23T14:34:49.866464Z"
    }
   },
   "outputs": [
    {
     "data": {
      "image/png": "[encoded data removed]",
      "text/plain": [
       "<Figure size 1440x432 with 3 Axes>"
      ]
     },
     "metadata": {
      "needs_background": "light"
     },
     "output_type": "display_data"
    }
   ],
   "source": [
    "plt.figure(figsize=(20,6))\n",
    "\n",
    "# average of people with cardio desease grouped by BMI\n",
    "aux = df04[['bmi', 'cardio']].groupby('bmi').mean().reset_index()\n",
    "\n",
    "# plot graph of linear regression\n",
    "plt.subplot(1,2,1)\n",
    "sns.regplot(x='bmi', y='cardio', data=aux);\n",
    "\n",
    "# plot graph of correlation between cardios and BMI\n",
    "plt.subplot(1,2,2)\n",
    "sns.heatmap(aux.corr( method='pearson'), annot=True);"
   ]
  },
  {
   "cell_type": "markdown",
   "id": "89596d1b",
   "metadata": {},
   "source": [
    "### H4. Between 40% and 50% of people over than 100kg have cardiovascular disease.\n",
    "**FALSE:** Almost 70% of people over than 100kg have a cardiovascular disease."
   ]
  },
  {
   "cell_type": "code",
   "execution_count": 42,
   "id": "56df06c3",
   "metadata": {
    "ExecuteTime": {
     "end_time": "2022-06-23T14:34:50.924181Z",
     "start_time": "2022-06-23T14:34:50.898186Z"
    }
   },
   "outputs": [
    {
     "data": {
      "text/html": [
       "<div>\n",
       "<style scoped>\n",
       "    .dataframe tbody tr th:only-of-type {\n",
       "        vertical-align: middle;\n",
       "    }\n",
       "\n",
       "    .dataframe tbody tr th {\n",
       "        vertical-align: top;\n",
       "    }\n",
       "\n",
       "    .dataframe thead th {\n",
       "        text-align: right;\n",
       "    }\n",
       "</style>\n",
       "<table border=\"1\" class=\"dataframe\">\n",
       "  <thead>\n",
       "    <tr style=\"text-align: right;\">\n",
       "      <th></th>\n",
       "      <th>cardio</th>\n",
       "      <th>cardio_count</th>\n",
       "      <th>pct_cardio</th>\n",
       "    </tr>\n",
       "  </thead>\n",
       "  <tbody>\n",
       "    <tr>\n",
       "      <th>0</th>\n",
       "      <td>0</td>\n",
       "      <td>779</td>\n",
       "      <td>0.318089</td>\n",
       "    </tr>\n",
       "    <tr>\n",
       "      <th>1</th>\n",
       "      <td>1</td>\n",
       "      <td>1670</td>\n",
       "      <td>0.681911</td>\n",
       "    </tr>\n",
       "  </tbody>\n",
       "</table>\n",
       "</div>"
      ],
      "text/plain": [
       "   cardio  cardio_count  pct_cardio\n",
       "0       0           779    0.318089\n",
       "1       1          1670    0.681911"
      ]
     },
     "execution_count": 42,
     "metadata": {},
     "output_type": "execute_result"
    }
   ],
   "source": [
    "# select data from people over than 100kg\n",
    "aux = df04[df04['weight'] > 100]\n",
    "\n",
    "# number of cardios from people over than 100kg\n",
    "aux1 = aux[['cardio']].groupby('cardio').size().reset_index().rename(columns={0: 'cardio_count'})\n",
    "\n",
    "# porcentage of cardios \n",
    "aux1['pct_cardio'] = aux1['cardio_count']/aux1['cardio_count'].sum()\n",
    "\n",
    "# display table\n",
    "aux1"
   ]
  },
  {
   "cell_type": "markdown",
   "id": "3a9de6e3",
   "metadata": {},
   "source": [
    "### H5. People with heights below 150cm have half as many cardiovascular diseases on average.\n",
    "**FALSE:** Group of people smaller than 150cm have a similar percentage of cardiac as the larger ones."
   ]
  },
  {
   "cell_type": "code",
   "execution_count": 43,
   "id": "26143980",
   "metadata": {
    "ExecuteTime": {
     "end_time": "2022-06-23T14:34:51.671196Z",
     "start_time": "2022-06-23T14:34:50.927183Z"
    }
   },
   "outputs": [
    {
     "data": {
      "image/png": "[encoded data removed]",
      "text/plain": [
       "<Figure size 474.375x432 with 1 Axes>"
      ]
     },
     "metadata": {
      "needs_background": "light"
     },
     "output_type": "display_data"
    }
   ],
   "source": [
    "# select data of interest\n",
    "aux = df04.loc[:, ['height', 'cardio']]\n",
    "\n",
    "# create a feature separating people by height\n",
    "aux['below_150'] = aux['height'].apply(lambda x: 'lower_than_150' if x < 150 else 'higher_than_150')\n",
    "\n",
    "# number of cardios\n",
    "aux1 = aux[['cardio','below_150']].groupby(['below_150', 'cardio']).size().reset_index().rename(columns={0: 'cardio_count'})\n",
    "\n",
    "# percentage of cardios for each height group\n",
    "aux1['pct_cardio'] = aux1[['below_150', 'cardio_count']].apply(\n",
    "                        lambda x: x['cardio_count']/aux1[aux1['below_150'] == x['below_150']]['cardio_count'].sum(), \n",
    "                        axis=1)\n",
    "\n",
    "# display graph\n",
    "graph = sns.catplot(data=aux1, kind='bar', x='below_150', y='pct_cardio', hue='cardio',\n",
    "                    ci='sd', palette='dark', alpha=.6, height=6);\n",
    "graph.set_axis_labels('Height Group', 'Porcentage of Cardios')\n",
    "plt.title('Porcentage of Cardios by People Separate by Height of 150cm');"
   ]
  },
  {
   "cell_type": "markdown",
   "id": "fb6ac324",
   "metadata": {},
   "source": [
    "### H6. People with cholesterol well above normal are twice as likely to have cardiovascular disease than people with normal cholesterol, on average.\n",
    "**FALSE:** People with 'weel above normal' cholesterol have about 75% more cardiovascular disease than people with normal cholesterol"
   ]
  },
  {
   "cell_type": "code",
   "execution_count": 44,
   "id": "9b58fa08",
   "metadata": {
    "ExecuteTime": {
     "end_time": "2022-06-23T14:34:52.083188Z",
     "start_time": "2022-06-23T14:34:51.676211Z"
    }
   },
   "outputs": [
    {
     "data": {
      "image/png": "[encoded data removed]",
      "text/plain": [
       "<Figure size 720x432 with 1 Axes>"
      ]
     },
     "metadata": {
      "needs_background": "light"
     },
     "output_type": "display_data"
    }
   ],
   "source": [
    "plt.figure(figsize=(10,6))\n",
    "\n",
    "# average of cardio people by cholesterol status\n",
    "aux = df04[['cholesterol', 'cardio']].groupby('cholesterol').mean().reset_index()\n",
    "\n",
    "# display graph\n",
    "graph = sns.barplot(x='cholesterol', y='cardio', data=aux, ci='sd', palette='dark', alpha=.6);\n",
    "graph.bar_label(graph.containers[0]);\n",
    "plt.xlabel('Cholesterol')\n",
    "plt.ylabel('Percentage of Cardios')\n",
    "plt.title('Percentage of Cardios for Cholesterol Type');"
   ]
  },
  {
   "cell_type": "markdown",
   "id": "bb192d1d",
   "metadata": {},
   "source": [
    "### H7. Less than 25% of people with normal cholesterol and glucose have cardiovascular disease.\n",
    "**FALSE:** People with normal cholesterol and glucose have 42% of people with cardiovascular disease."
   ]
  },
  {
   "cell_type": "code",
   "execution_count": 45,
   "id": "ca713d5b",
   "metadata": {
    "ExecuteTime": {
     "end_time": "2022-06-23T14:34:52.145181Z",
     "start_time": "2022-06-23T14:34:52.090185Z"
    }
   },
   "outputs": [
    {
     "data": {
      "text/html": [
       "<div>\n",
       "<style scoped>\n",
       "    .dataframe tbody tr th:only-of-type {\n",
       "        vertical-align: middle;\n",
       "    }\n",
       "\n",
       "    .dataframe tbody tr th {\n",
       "        vertical-align: top;\n",
       "    }\n",
       "\n",
       "    .dataframe thead th {\n",
       "        text-align: right;\n",
       "    }\n",
       "</style>\n",
       "<table border=\"1\" class=\"dataframe\">\n",
       "  <thead>\n",
       "    <tr style=\"text-align: right;\">\n",
       "      <th></th>\n",
       "      <th>cardio</th>\n",
       "      <th>cardio_count</th>\n",
       "      <th>pct_cardio</th>\n",
       "    </tr>\n",
       "  </thead>\n",
       "  <tbody>\n",
       "  </tbody>\n",
       "</table>\n",
       "</div>"
      ],
      "text/plain": [
       "Empty DataFrame\n",
       "Columns: [cardio, cardio_count, pct_cardio]\n",
       "Index: []"
      ]
     },
     "execution_count": 45,
     "metadata": {},
     "output_type": "execute_result"
    }
   ],
   "source": [
    "# select data of interest\n",
    "aux = df04.loc[(df04['cholesterol'] == 1) & (df04['gluc'] == 1)]\n",
    "\n",
    "# group cardio people\n",
    "aux1 = aux[['cardio']].groupby('cardio').size().reset_index().rename(columns={0: 'cardio_count'})\n",
    "\n",
    "# percentagem of cardios\n",
    "aux1['pct_cardio'] = aux1['cardio_count']/aux1['cardio_count'].sum()\n",
    "\n",
    "# display table\n",
    "aux1"
   ]
  },
  {
   "cell_type": "markdown",
   "id": "4b6e81c6",
   "metadata": {},
   "source": [
    "### H8. People with all three glucose levels have a similar percentage (+/-5%) of cardiovascular disease.\n",
    "**FALSE:** People with higher levels of glucose have a higher percentage of cardiovascular disease."
   ]
  },
  {
   "cell_type": "code",
   "execution_count": 46,
   "id": "0157c502",
   "metadata": {
    "ExecuteTime": {
     "end_time": "2022-06-23T14:34:52.589722Z",
     "start_time": "2022-06-23T14:34:52.148183Z"
    }
   },
   "outputs": [
    {
     "data": {
      "image/png": "[encoded data removed]",
      "text/plain": [
       "<Figure size 432x288 with 1 Axes>"
      ]
     },
     "metadata": {
      "needs_background": "light"
     },
     "output_type": "display_data"
    }
   ],
   "source": [
    "# average of cardios for glucose status\n",
    "aux = df04[['gluc', 'cardio']].groupby('gluc').mean().reset_index()\n",
    "\n",
    "# display graph\n",
    "graph = sns.barplot(x='gluc', y='cardio', data=aux, ci='sd', palette='dark', alpha=.6)\n",
    "graph.bar_label(graph.containers[0]);\n",
    "plt.xlabel('Glucose')\n",
    "plt.ylabel('Average of Cardios')\n",
    "plt.title('Percentage of Cardios for Glucose Status');"
   ]
  },
  {
   "cell_type": "markdown",
   "id": "1f755734",
   "metadata": {},
   "source": [
    "### H9. People with systolic blood pressure above 120 mmHg have 50% more cardiovascular diseases compared to those with pressure below 120 mmHg.\n",
    "**FALSE:** People with a systolic blood pressure above 120 mmHg have more than twice as many diseases as those below, on average."
   ]
  },
  {
   "cell_type": "code",
   "execution_count": 47,
   "id": "7545ccd3",
   "metadata": {
    "ExecuteTime": {
     "end_time": "2022-06-23T14:34:53.588720Z",
     "start_time": "2022-06-23T14:34:52.604713Z"
    }
   },
   "outputs": [
    {
     "data": {
      "image/png": "[encoded data removed]",
      "text/plain": [
       "<Figure size 474.375x432 with 1 Axes>"
      ]
     },
     "metadata": {
      "needs_background": "light"
     },
     "output_type": "display_data"
    }
   ],
   "source": [
    "# select data of interest\n",
    "aux = df04.loc[:, ['ap_hi', 'cardio']]\n",
    "\n",
    "# create a feature separating people with systolic blood pressure above 120\n",
    "aux['ap_hi_120'] = aux['ap_hi'].apply(lambda x: 'ap_hi_higher_120' if x >= 120 else 'ap_hi_lower_120')\n",
    "\n",
    "# number of cardio by systolic blood pressure\n",
    "aux1 = aux[['ap_hi_120', 'cardio']].groupby(['ap_hi_120', 'cardio']).size().reset_index().rename(columns={0: 'cardio_count'})\n",
    "\n",
    "# percentage of cardio\n",
    "aux1['pct_cardio'] = aux1[['ap_hi_120', 'cardio_count']].apply(\n",
    "                            lambda x: x['cardio_count']/aux1[aux1['ap_hi_120'] == x['ap_hi_120']]['cardio_count'].sum(), \n",
    "                            axis=1)\n",
    "\n",
    "# plot graph\n",
    "graph = sns.catplot(data=aux1, kind='bar', x='ap_hi_120', y='pct_cardio', hue='cardio',\n",
    "                    ci='sd', palette='dark', alpha=.6, height=6);\n",
    "graph.set_axis_labels('Systolic Pressure Group', 'Porcentage of Cardios')\n",
    "plt.title('Porcentage of Cardios by Systolic Pressure');"
   ]
  },
  {
   "cell_type": "markdown",
   "id": "6ca8e631",
   "metadata": {},
   "source": [
    "### H10. People with a diastolic pressure above 80 mmHg have 50% more cardiovascular diseases compared to those with a pressure below 80 mmHg. \n",
    "**FALSE:** People with a diastolic blood pressure above 80 mmHg have almost twice as many diseases as those below, on average."
   ]
  },
  {
   "cell_type": "code",
   "execution_count": 48,
   "id": "a8c6cd20",
   "metadata": {
    "ExecuteTime": {
     "end_time": "2022-06-23T14:34:54.315712Z",
     "start_time": "2022-06-23T14:34:53.592713Z"
    }
   },
   "outputs": [
    {
     "data": {
      "image/png": "[encoded data removed]",
      "text/plain": [
       "<Figure size 474.375x432 with 1 Axes>"
      ]
     },
     "metadata": {
      "needs_background": "light"
     },
     "output_type": "display_data"
    }
   ],
   "source": [
    "# select data of interest\n",
    "aux = df04.loc[:, ['ap_lo', 'cardio']]\n",
    "\n",
    "# create a feature separating people with diastolic blood pressure above 80\n",
    "aux['ap_lo_80'] = aux['ap_lo'].apply(lambda x: 'ap_lo_higher_80' if x >= 80 else 'ap_lo_lower_80')\n",
    "\n",
    "# number of cardio by diastolic blood pressure\n",
    "aux1 = aux[['ap_lo_80', 'cardio']].groupby(['ap_lo_80', 'cardio']).size().reset_index().rename(columns={0: 'cardio_count'})\n",
    "\n",
    "# percentage of cardio\n",
    "aux1['pct_cardio'] = aux1[['ap_lo_80', 'cardio_count']].apply(\n",
    "                            lambda x: x['cardio_count']/aux1[aux1['ap_lo_80'] == x['ap_lo_80']]['cardio_count'].sum(), \n",
    "                            axis=1)\n",
    "\n",
    "# plot graph\n",
    "graph = sns.catplot(data=aux1, kind='bar', x='ap_lo_80', y='pct_cardio', hue='cardio',\n",
    "                    ci='sd', palette='dark', alpha=.6, height=6);\n",
    "graph.set_axis_labels('Diastolic Pressure Group', 'Porcentage of Cardios')\n",
    "plt.title('Porcentage of Cardios by Diastolic Pressure');"
   ]
  },
  {
   "cell_type": "markdown",
   "id": "e7575cc7",
   "metadata": {},
   "source": [
    "### H11. People with blood pressure (ap_hi / api_lo) higher than 2 have 30% more cardiovascular diseases than those with pressure below. \n",
    "**TRUE:** People with blood pressure over 2 have 36% higher presence of cardiovascular disease."
   ]
  },
  {
   "cell_type": "code",
   "execution_count": 49,
   "id": "ff9f91ab",
   "metadata": {
    "ExecuteTime": {
     "end_time": "2022-06-23T14:34:55.145718Z",
     "start_time": "2022-06-23T14:34:54.323713Z"
    }
   },
   "outputs": [
    {
     "data": {
      "image/png": "[encoded data removed]",
      "text/plain": [
       "<Figure size 474.375x432 with 1 Axes>"
      ]
     },
     "metadata": {
      "needs_background": "light"
     },
     "output_type": "display_data"
    }
   ],
   "source": [
    "# select data of interest\n",
    "aux = df04.loc[:, ['ap_hi/ap_lo', 'cardio']]\n",
    "\n",
    "# create a feature separating people by ap_hi / api_lo\n",
    "aux['ap_ratio'] = aux['ap_hi/ap_lo'].apply(lambda x: 'higher_than_2' if x >= 2 else 'lower_than_2')\n",
    "\n",
    "# number of cardio by blood pressure\n",
    "aux1 = aux[['ap_ratio', 'cardio']].groupby(['ap_ratio', 'cardio']).size().reset_index().rename(columns={0: 'cardio_count'})\n",
    "\n",
    "# percentage of cardio\n",
    "aux1['pct_cardio'] = aux1[['ap_ratio', 'cardio_count']].apply(\n",
    "                            lambda x: x['cardio_count']/aux1[aux1['ap_ratio'] == x['ap_ratio']]['cardio_count'].sum(), \n",
    "                            axis=1)\n",
    "\n",
    "# plot graph\n",
    "graph = sns.catplot(data=aux1, kind='bar', x='ap_ratio', y='pct_cardio', hue='cardio',\n",
    "                    ci='sd', palette='dark', alpha=.6, height=6);\n",
    "graph.set_axis_labels('Blood Pressure Group', 'Porcentage of Cardios')\n",
    "plt.title('Porcentage of Cardios by Blood Pressure');"
   ]
  },
  {
   "cell_type": "markdown",
   "id": "3118389f",
   "metadata": {},
   "source": [
    "### H12. People who drink have 20% less cardiovascular disease, on average.\n",
    "**FALSE:** Peoples have similar cardio percentages independent of alcoholic habits."
   ]
  },
  {
   "cell_type": "code",
   "execution_count": 50,
   "id": "ec438e75",
   "metadata": {
    "ExecuteTime": {
     "end_time": "2022-06-23T14:34:55.192716Z",
     "start_time": "2022-06-23T14:34:55.149719Z"
    }
   },
   "outputs": [
    {
     "data": {
      "text/html": [
       "<div>\n",
       "<style scoped>\n",
       "    .dataframe tbody tr th:only-of-type {\n",
       "        vertical-align: middle;\n",
       "    }\n",
       "\n",
       "    .dataframe tbody tr th {\n",
       "        vertical-align: top;\n",
       "    }\n",
       "\n",
       "    .dataframe thead th {\n",
       "        text-align: right;\n",
       "    }\n",
       "</style>\n",
       "<table border=\"1\" class=\"dataframe\">\n",
       "  <thead>\n",
       "    <tr style=\"text-align: right;\">\n",
       "      <th></th>\n",
       "      <th>alco</th>\n",
       "      <th>cardio</th>\n",
       "    </tr>\n",
       "  </thead>\n",
       "  <tbody>\n",
       "    <tr>\n",
       "      <th>0</th>\n",
       "      <td>0</td>\n",
       "      <td>0.495218</td>\n",
       "    </tr>\n",
       "    <tr>\n",
       "      <th>1</th>\n",
       "      <td>1</td>\n",
       "      <td>0.469518</td>\n",
       "    </tr>\n",
       "  </tbody>\n",
       "</table>\n",
       "</div>"
      ],
      "text/plain": [
       "   alco    cardio\n",
       "0     0  0.495218\n",
       "1     1  0.469518"
      ]
     },
     "execution_count": 50,
     "metadata": {},
     "output_type": "execute_result"
    }
   ],
   "source": [
    "# select data of interest\n",
    "aux = df04.loc[:, ['alco', 'cardio']]\n",
    "\n",
    "# average of cardios by alcohol habits\n",
    "aux1 = aux[['alco', 'cardio']].groupby('alco').mean().reset_index()\n",
    "\n",
    "# display table\n",
    "aux1"
   ]
  },
  {
   "cell_type": "markdown",
   "id": "953ae016",
   "metadata": {},
   "source": [
    "### H13. People who practice physical activity have 30% less cardiovascular disease, on average.\n",
    "**FALSE:** Peoples have similar cardio percentages independent of be active, with less than 5% of variance."
   ]
  },
  {
   "cell_type": "code",
   "execution_count": 51,
   "id": "5bbbb0b7",
   "metadata": {
    "ExecuteTime": {
     "end_time": "2022-06-23T14:34:55.240715Z",
     "start_time": "2022-06-23T14:34:55.198723Z"
    }
   },
   "outputs": [
    {
     "data": {
      "text/html": [
       "<div>\n",
       "<style scoped>\n",
       "    .dataframe tbody tr th:only-of-type {\n",
       "        vertical-align: middle;\n",
       "    }\n",
       "\n",
       "    .dataframe tbody tr th {\n",
       "        vertical-align: top;\n",
       "    }\n",
       "\n",
       "    .dataframe thead th {\n",
       "        text-align: right;\n",
       "    }\n",
       "</style>\n",
       "<table border=\"1\" class=\"dataframe\">\n",
       "  <thead>\n",
       "    <tr style=\"text-align: right;\">\n",
       "      <th></th>\n",
       "      <th>active</th>\n",
       "      <th>cardio</th>\n",
       "    </tr>\n",
       "  </thead>\n",
       "  <tbody>\n",
       "    <tr>\n",
       "      <th>0</th>\n",
       "      <td>0</td>\n",
       "      <td>0.528000</td>\n",
       "    </tr>\n",
       "    <tr>\n",
       "      <th>1</th>\n",
       "      <td>1</td>\n",
       "      <td>0.485469</td>\n",
       "    </tr>\n",
       "  </tbody>\n",
       "</table>\n",
       "</div>"
      ],
      "text/plain": [
       "   active    cardio\n",
       "0       0  0.528000\n",
       "1       1  0.485469"
      ]
     },
     "execution_count": 51,
     "metadata": {},
     "output_type": "execute_result"
    }
   ],
   "source": [
    "# select data of interest\n",
    "aux = df04.loc[:, ['active', 'cardio']]\n",
    "\n",
    "# average of cardios by active people\n",
    "aux1 = aux[['active', 'cardio']].groupby('active').mean().reset_index()\n",
    "\n",
    "# display table\n",
    "aux1"
   ]
  },
  {
   "cell_type": "markdown",
   "id": "c1656352",
   "metadata": {},
   "source": [
    "### H14. People who smoke, drink, and do not exercise have 3 times more cardiovascular disease on average.\n",
    "**FALSE:** People with bad health habits have similar percentage of cardios."
   ]
  },
  {
   "cell_type": "code",
   "execution_count": 52,
   "id": "36e906b5",
   "metadata": {
    "ExecuteTime": {
     "end_time": "2022-06-23T14:34:55.286718Z",
     "start_time": "2022-06-23T14:34:55.243714Z"
    }
   },
   "outputs": [
    {
     "data": {
      "text/html": [
       "<div>\n",
       "<style scoped>\n",
       "    .dataframe tbody tr th:only-of-type {\n",
       "        vertical-align: middle;\n",
       "    }\n",
       "\n",
       "    .dataframe tbody tr th {\n",
       "        vertical-align: top;\n",
       "    }\n",
       "\n",
       "    .dataframe thead th {\n",
       "        text-align: right;\n",
       "    }\n",
       "</style>\n",
       "<table border=\"1\" class=\"dataframe\">\n",
       "  <thead>\n",
       "    <tr style=\"text-align: right;\">\n",
       "      <th></th>\n",
       "      <th>bad_habits</th>\n",
       "      <th>cardio</th>\n",
       "    </tr>\n",
       "  </thead>\n",
       "  <tbody>\n",
       "    <tr>\n",
       "      <th>0</th>\n",
       "      <td>0</td>\n",
       "      <td>0.493688</td>\n",
       "    </tr>\n",
       "    <tr>\n",
       "      <th>1</th>\n",
       "      <td>1</td>\n",
       "      <td>0.526549</td>\n",
       "    </tr>\n",
       "  </tbody>\n",
       "</table>\n",
       "</div>"
      ],
      "text/plain": [
       "   bad_habits    cardio\n",
       "0           0  0.493688\n",
       "1           1  0.526549"
      ]
     },
     "execution_count": 52,
     "metadata": {},
     "output_type": "execute_result"
    }
   ],
   "source": [
    "# select data of interest\n",
    "aux = df04.loc[:, ['bad_habits', 'cardio']]\n",
    "\n",
    "# average of cardios by health habits\n",
    "aux1 = aux[['bad_habits', 'cardio']].groupby('bad_habits').mean().reset_index()\n",
    "\n",
    "# display table\n",
    "aux1"
   ]
  },
  {
   "cell_type": "markdown",
   "id": "fcf57167",
   "metadata": {},
   "source": [
    "### H15. People who smoke have a similar percentage (+/-5%) of cardiovascular diseases compared to those who do not smoke.\n",
    "**TRUE:** People who smoke have a similar percentage of cardios."
   ]
  },
  {
   "cell_type": "code",
   "execution_count": 53,
   "id": "b3d5bde7",
   "metadata": {
    "ExecuteTime": {
     "end_time": "2022-06-23T14:34:56.241267Z",
     "start_time": "2022-06-23T14:34:55.298721Z"
    }
   },
   "outputs": [
    {
     "data": {
      "text/html": [
       "<div>\n",
       "<style scoped>\n",
       "    .dataframe tbody tr th:only-of-type {\n",
       "        vertical-align: middle;\n",
       "    }\n",
       "\n",
       "    .dataframe tbody tr th {\n",
       "        vertical-align: top;\n",
       "    }\n",
       "\n",
       "    .dataframe thead th {\n",
       "        text-align: right;\n",
       "    }\n",
       "</style>\n",
       "<table border=\"1\" class=\"dataframe\">\n",
       "  <thead>\n",
       "    <tr style=\"text-align: right;\">\n",
       "      <th></th>\n",
       "      <th>smoke</th>\n",
       "      <th>cardio</th>\n",
       "      <th>cardio_count</th>\n",
       "      <th>pct_cardio</th>\n",
       "    </tr>\n",
       "  </thead>\n",
       "  <tbody>\n",
       "    <tr>\n",
       "      <th>0</th>\n",
       "      <td>0</td>\n",
       "      <td>0</td>\n",
       "      <td>25106</td>\n",
       "      <td>0.503308</td>\n",
       "    </tr>\n",
       "    <tr>\n",
       "      <th>1</th>\n",
       "      <td>0</td>\n",
       "      <td>1</td>\n",
       "      <td>24776</td>\n",
       "      <td>0.496692</td>\n",
       "    </tr>\n",
       "    <tr>\n",
       "      <th>2</th>\n",
       "      <td>1</td>\n",
       "      <td>0</td>\n",
       "      <td>2594</td>\n",
       "      <td>0.535729</td>\n",
       "    </tr>\n",
       "    <tr>\n",
       "      <th>3</th>\n",
       "      <td>1</td>\n",
       "      <td>1</td>\n",
       "      <td>2248</td>\n",
       "      <td>0.464271</td>\n",
       "    </tr>\n",
       "  </tbody>\n",
       "</table>\n",
       "</div>"
      ],
      "text/plain": [
       "   smoke  cardio  cardio_count  pct_cardio\n",
       "0      0       0         25106    0.503308\n",
       "1      0       1         24776    0.496692\n",
       "2      1       0          2594    0.535729\n",
       "3      1       1          2248    0.464271"
      ]
     },
     "execution_count": 53,
     "metadata": {},
     "output_type": "execute_result"
    },
    {
     "data": {
      "image/png": "[encoded data removed]",
      "text/plain": [
       "<Figure size 474.375x432 with 1 Axes>"
      ]
     },
     "metadata": {
      "needs_background": "light"
     },
     "output_type": "display_data"
    }
   ],
   "source": [
    "# select data of interest\n",
    "aux = df04.loc[:, ['smoke', 'cardio']]\n",
    "\n",
    "# average of cardios by health habits\n",
    "aux1 = aux[['smoke', 'cardio']].groupby(['smoke', 'cardio']).size().reset_index().rename(columns={0: 'cardio_count'})\n",
    "\n",
    "# percentage of cardio\n",
    "aux1['pct_cardio'] = aux1[['smoke', 'cardio_count']].apply(\n",
    "                            lambda x: x['cardio_count']/aux1[aux1['smoke'] == x['smoke']]['cardio_count'].sum(), \n",
    "                            axis=1)\n",
    "\n",
    "# plot graph\n",
    "graph = sns.catplot(data=aux1, kind='bar', x='smoke', y='pct_cardio', hue='cardio',\n",
    "                    ci='sd', palette='dark', alpha=.6, height=6);\n",
    "graph.set_axis_labels('People who Smoke', 'Porcentage of Cardios')\n",
    "plt.title('Porcentage of Cardios by Smoke');\n",
    "\n",
    "# display table\n",
    "aux1"
   ]
  },
  {
   "cell_type": "markdown",
   "id": "b6cfea61",
   "metadata": {},
   "source": [
    "### H16. People who drink and exercise have 50% less cardiovascular disease compared to those who don't, on average.\n",
    "**FALSE:** People who drink and exercise have similar percentage of cardiovascular disease."
   ]
  },
  {
   "cell_type": "code",
   "execution_count": 54,
   "id": "b562844a",
   "metadata": {
    "ExecuteTime": {
     "end_time": "2022-06-23T14:34:58.594751Z",
     "start_time": "2022-06-23T14:34:56.246253Z"
    }
   },
   "outputs": [
    {
     "data": {
      "image/png": "[encoded data removed]",
      "text/plain": [
       "<Figure size 474.375x432 with 1 Axes>"
      ]
     },
     "metadata": {
      "needs_background": "light"
     },
     "output_type": "display_data"
    }
   ],
   "source": [
    "# select data of interest\n",
    "aux = df04.loc[:, ['alco', 'active', 'cardio']]\n",
    "\n",
    "# create a feature for people who drink and are active\n",
    "aux['alco_active'] = aux[['alco', 'active']].apply(lambda x: 'yes' if (x['alco'] == 1) & (x['active'] == 1) else \n",
    "                                                             'no', axis=1)\n",
    "\n",
    "# number of cardio by blood pressure\n",
    "aux1 = aux[['alco_active', 'cardio']].groupby(['alco_active', 'cardio']).size().reset_index().rename(columns={0: 'cardio_count'})\n",
    "\n",
    "# percentage of cardio\n",
    "aux1['pct_cardio'] = aux1[['alco_active', 'cardio_count']].apply(\n",
    "                            lambda x: x['cardio_count']/aux1[aux1['alco_active'] == x['alco_active']]['cardio_count'].sum(), \n",
    "                            axis=1)\n",
    "\n",
    "# plot graph\n",
    "graph = sns.catplot(data=aux1, kind='bar', x='alco_active', y='pct_cardio', hue='cardio',\n",
    "                    ci='sd', palette='dark', alpha=.6, height=6);\n",
    "graph.set_axis_labels('People who Drinks and are Active', 'Porcentage of Cardios')\n",
    "plt.title('Porcentage of Cardios by Drink and Active Habits');"
   ]
  },
  {
   "cell_type": "markdown",
   "id": "5765d81a",
   "metadata": {
    "ExecuteTime": {
     "end_time": "2022-05-14T13:55:45.003808Z",
     "start_time": "2022-05-14T13:55:44.980809Z"
    }
   },
   "source": [
    "### 4.2.1. Hypotheses Summary"
   ]
  },
  {
   "cell_type": "code",
   "execution_count": 55,
   "id": "52b9a847",
   "metadata": {
    "ExecuteTime": {
     "end_time": "2022-06-23T14:34:58.673751Z",
     "start_time": "2022-06-23T14:34:58.602747Z"
    },
    "scrolled": false
   },
   "outputs": [
    {
     "data": {
      "text/html": [
       "<div>\n",
       "<style scoped>\n",
       "    .dataframe tbody tr th:only-of-type {\n",
       "        vertical-align: middle;\n",
       "    }\n",
       "\n",
       "    .dataframe tbody tr th {\n",
       "        vertical-align: top;\n",
       "    }\n",
       "\n",
       "    .dataframe thead th {\n",
       "        text-align: right;\n",
       "    }\n",
       "</style>\n",
       "<table border=\"1\" class=\"dataframe\">\n",
       "  <thead>\n",
       "    <tr style=\"text-align: right;\">\n",
       "      <th></th>\n",
       "      <th>ID</th>\n",
       "      <th>Hypothesis</th>\n",
       "      <th>Conclusion</th>\n",
       "      <th>Relevance</th>\n",
       "    </tr>\n",
       "  </thead>\n",
       "  <tbody>\n",
       "    <tr>\n",
       "      <th>0</th>\n",
       "      <td>H1</td>\n",
       "      <td>Both genders have the same proportion of cardi...</td>\n",
       "      <td>True</td>\n",
       "      <td>Low</td>\n",
       "    </tr>\n",
       "    <tr>\n",
       "      <th>1</th>\n",
       "      <td>H2</td>\n",
       "      <td>People over than 40 years old have more than t...</td>\n",
       "      <td>True</td>\n",
       "      <td>High</td>\n",
       "    </tr>\n",
       "    <tr>\n",
       "      <th>2</th>\n",
       "      <td>H3</td>\n",
       "      <td>The higher the weight/height ratio, the greate...</td>\n",
       "      <td>True</td>\n",
       "      <td>Medium</td>\n",
       "    </tr>\n",
       "    <tr>\n",
       "      <th>3</th>\n",
       "      <td>H4</td>\n",
       "      <td>Between 40% and 50% of people over than 100kg ...</td>\n",
       "      <td>False</td>\n",
       "      <td>High</td>\n",
       "    </tr>\n",
       "    <tr>\n",
       "      <th>4</th>\n",
       "      <td>H5</td>\n",
       "      <td>People with heights below 150cm have half as m...</td>\n",
       "      <td>False</td>\n",
       "      <td>Low</td>\n",
       "    </tr>\n",
       "    <tr>\n",
       "      <th>5</th>\n",
       "      <td>H6</td>\n",
       "      <td>People with cholesterol well above normal are ...</td>\n",
       "      <td>False</td>\n",
       "      <td>High</td>\n",
       "    </tr>\n",
       "    <tr>\n",
       "      <th>6</th>\n",
       "      <td>H7</td>\n",
       "      <td>Less than 25% of people with normal cholestero...</td>\n",
       "      <td>False</td>\n",
       "      <td>Low</td>\n",
       "    </tr>\n",
       "    <tr>\n",
       "      <th>7</th>\n",
       "      <td>H8</td>\n",
       "      <td>People with all three glucose levels have a si...</td>\n",
       "      <td>False</td>\n",
       "      <td>Medium</td>\n",
       "    </tr>\n",
       "    <tr>\n",
       "      <th>8</th>\n",
       "      <td>H9</td>\n",
       "      <td>People with systolic blood pressure above 120 ...</td>\n",
       "      <td>False</td>\n",
       "      <td>High</td>\n",
       "    </tr>\n",
       "    <tr>\n",
       "      <th>9</th>\n",
       "      <td>H10</td>\n",
       "      <td>People with a diastolic pressure above 80 mmHg...</td>\n",
       "      <td>False</td>\n",
       "      <td>High</td>\n",
       "    </tr>\n",
       "    <tr>\n",
       "      <th>10</th>\n",
       "      <td>H11</td>\n",
       "      <td>People with blood pressure (ap_hi / api_lo) hi...</td>\n",
       "      <td>True</td>\n",
       "      <td>High</td>\n",
       "    </tr>\n",
       "    <tr>\n",
       "      <th>11</th>\n",
       "      <td>H12</td>\n",
       "      <td>People who drink have 20% less cardiovascular ...</td>\n",
       "      <td>False</td>\n",
       "      <td>Low</td>\n",
       "    </tr>\n",
       "    <tr>\n",
       "      <th>12</th>\n",
       "      <td>H13</td>\n",
       "      <td>People who practice physical activity have 30%...</td>\n",
       "      <td>False</td>\n",
       "      <td>Low</td>\n",
       "    </tr>\n",
       "    <tr>\n",
       "      <th>13</th>\n",
       "      <td>H14</td>\n",
       "      <td>People who smoke, drink, and do not exercise h...</td>\n",
       "      <td>False</td>\n",
       "      <td>Low</td>\n",
       "    </tr>\n",
       "    <tr>\n",
       "      <th>14</th>\n",
       "      <td>H15</td>\n",
       "      <td>People who smoke have a similar percentage (+/...</td>\n",
       "      <td>True</td>\n",
       "      <td>Low</td>\n",
       "    </tr>\n",
       "    <tr>\n",
       "      <th>15</th>\n",
       "      <td>H16</td>\n",
       "      <td>People who drink and exercise have 50% less ca...</td>\n",
       "      <td>False</td>\n",
       "      <td>Low</td>\n",
       "    </tr>\n",
       "  </tbody>\n",
       "</table>\n",
       "</div>"
      ],
      "text/plain": [
       "     ID                                         Hypothesis Conclusion  \\\n",
       "0    H1  Both genders have the same proportion of cardi...       True   \n",
       "1    H2  People over than 40 years old have more than t...       True   \n",
       "2    H3  The higher the weight/height ratio, the greate...       True   \n",
       "3    H4  Between 40% and 50% of people over than 100kg ...      False   \n",
       "4    H5  People with heights below 150cm have half as m...      False   \n",
       "5    H6  People with cholesterol well above normal are ...      False   \n",
       "6    H7  Less than 25% of people with normal cholestero...      False   \n",
       "7    H8  People with all three glucose levels have a si...      False   \n",
       "8    H9  People with systolic blood pressure above 120 ...      False   \n",
       "9   H10  People with a diastolic pressure above 80 mmHg...      False   \n",
       "10  H11  People with blood pressure (ap_hi / api_lo) hi...       True   \n",
       "11  H12  People who drink have 20% less cardiovascular ...      False   \n",
       "12  H13  People who practice physical activity have 30%...      False   \n",
       "13  H14  People who smoke, drink, and do not exercise h...      False   \n",
       "14  H15  People who smoke have a similar percentage (+/...       True   \n",
       "15  H16  People who drink and exercise have 50% less ca...      False   \n",
       "\n",
       "   Relevance  \n",
       "0        Low  \n",
       "1       High  \n",
       "2     Medium  \n",
       "3       High  \n",
       "4        Low  \n",
       "5       High  \n",
       "6        Low  \n",
       "7     Medium  \n",
       "8       High  \n",
       "9       High  \n",
       "10      High  \n",
       "11       Low  \n",
       "12       Low  \n",
       "13       Low  \n",
       "14       Low  \n",
       "15       Low  "
      ]
     },
     "execution_count": 55,
     "metadata": {},
     "output_type": "execute_result"
    }
   ],
   "source": [
    "# hypothesis description\n",
    "h1 = \"Both genders have the same proportion of cardiovascular diseases.\"\n",
    "h2 = \"People over than 40 years old have more than twice as many cardiovascular diseases, on average.\"\n",
    "h3 = \"The higher the weight/height ratio, the greater the amount of cardiovascular disease.\"\n",
    "h4 = \"Between 40% and 50% of people over than 100kg have cardiovascular disease.\"\n",
    "h5 = \"People with heights below 150cm have half as many cardiovascular diseases on average.\"\n",
    "h6 = \"People with cholesterol well above normal are twice as likely to have cardiovascular disease than people with normal cholesterol, on average.\"\n",
    "h7 = \"Less than 25% of people with normal cholesterol and glucose have cardiovascular disease.\"\n",
    "h8 = \"People with all three glucose levels have a similar percentage (+/-5%) of cardiovascular disease.\"\n",
    "h9 = \"People with systolic blood pressure above 120 mmHg have 50% more cardiovascular diseases compared to those with pressure below 120 mmHg.\"\n",
    "h10 = \"People with a diastolic pressure above 80 mmHg have 50% more cardiovascular diseases compared to those with a pressure below 80 mmHg.\"\n",
    "h11 = \"People with blood pressure (ap_hi / api_lo) higher than 2 have 30% more cardiovascular diseases than those with pressure below.\"\n",
    "h12 = \"People who drink have 20% less cardiovascular disease, on average.\"\n",
    "h13 = \"People who practice physical activity have 30% less cardiovascular disease, on average.\"\n",
    "h14 = \"People who smoke, drink, and do not exercise have 3 times more cardiovascular disease on average.\"\n",
    "h15 = \"People who smoke have a similar percentage (+/-5%) of cardiovascular diseases compared to those who do not smoke.\"\n",
    "h16 = \"People who drink and exercise have 50% less cardiovascular disease compared to those who don't, on average.\"\n",
    "\n",
    "# hypothesis results\n",
    "hip_tab = {'ID': ['H1', 'H2', 'H3', 'H4', 'H5', 'H6', 'H7', 'H8', 'H9', 'H10', 'H11', 'H12', 'H13', 'H14', 'H15', 'H16'],\n",
    "           'Hypothesis': [h1, h2, h3, h4, h5, h6, h7, h8, h9, h10, h11, h12, h13, h14, h15, h16],\n",
    "           'Conclusion': ['True', 'True', 'True', 'False', 'False', 'False', 'False', 'False', \n",
    "                          'False', 'False', 'True', 'False', 'False', 'False', 'True', 'False'],\n",
    "           'Relevance':  ['Low', 'High', 'Medium', 'High', 'Low', 'High', 'Low', 'Medium', 'High', 'High', \n",
    "                          'High', 'Low', 'Low', 'Low', 'Low', 'Low']}\n",
    "\n",
    "# create hypothesis dataframe\n",
    "df_hyp = pd.DataFrame(hip_tab)\n",
    "\n",
    "# display hypothesis summary\n",
    "df_hyp"
   ]
  },
  {
   "cell_type": "markdown",
   "id": "8bd3869e",
   "metadata": {},
   "source": [
    "## 4.3. Multivariate Analysis"
   ]
  },
  {
   "cell_type": "code",
   "execution_count": 56,
   "id": "ae427022",
   "metadata": {
    "ExecuteTime": {
     "end_time": "2022-06-23T14:34:58.721751Z",
     "start_time": "2022-06-23T14:34:58.678749Z"
    }
   },
   "outputs": [],
   "source": [
    "# select numeric attributes\n",
    "num_attributes = df04[['age', 'height', 'weight', 'bmi', 'ap_hi', 'ap_lo', 'ap_hi/ap_lo']]\n",
    "\n",
    "# select binary attributes\n",
    "bin_attributes = df04[['smoke', 'alco', 'active', 'bad_habits', 'drink_active', 'cardio']]\n",
    "\n",
    "# select attributes with categorical characteristics\n",
    "cat_attributes = df04[['gender', 'weight_status', 'ap_stages', 'cholesterol', 'gluc']]"
   ]
  },
  {
   "cell_type": "markdown",
   "id": "8c54d215",
   "metadata": {},
   "source": [
    "### 4.3.1. Numerical Attributes"
   ]
  },
  {
   "cell_type": "code",
   "execution_count": 57,
   "id": "6fd51d29",
   "metadata": {
    "ExecuteTime": {
     "end_time": "2022-06-23T14:34:59.374279Z",
     "start_time": "2022-06-23T14:34:58.726753Z"
    }
   },
   "outputs": [
    {
     "data": {
      "image/png": "[encoded data removed]",
      "text/plain": [
       "<Figure size 720x576 with 2 Axes>"
      ]
     },
     "metadata": {
      "needs_background": "light"
     },
     "output_type": "display_data"
    }
   ],
   "source": [
    "# calculate correlations by pearson\n",
    "num_corr = num_attributes.corr(method='pearson')\n",
    "\n",
    "# mask to only show values from below\n",
    "mask = np.triu(np.ones_like(num_corr, dtype=np.bool_))\n",
    "\n",
    "# plot heatmap\n",
    "plt.figure(figsize=(10,8))\n",
    "sns.heatmap(num_corr, mask=mask, linewidths=0.5, annot=True);"
   ]
  },
  {
   "cell_type": "markdown",
   "id": "4dd9e4d5",
   "metadata": {},
   "source": [
    "### 4.3.2. Binary Attributes"
   ]
  },
  {
   "cell_type": "code",
   "execution_count": 58,
   "id": "dc6d1306",
   "metadata": {
    "ExecuteTime": {
     "end_time": "2022-06-23T14:35:00.293284Z",
     "start_time": "2022-06-23T14:34:59.377277Z"
    }
   },
   "outputs": [
    {
     "data": {
      "image/png": "[encoded data removed]",
      "text/plain": [
       "<Figure size 720x576 with 2 Axes>"
      ]
     },
     "metadata": {
      "needs_background": "light"
     },
     "output_type": "display_data"
    }
   ],
   "source": [
    "# numeric attributes columns\n",
    "num_columns = list(num_attributes.columns)\n",
    "\n",
    "# binary attributes columns\n",
    "bin_columns = list(bin_attributes.columns)\n",
    "\n",
    "# empty dict to store point bisserial correlations\n",
    "bin_correlations = {}\n",
    "\n",
    "for bin_col in bin_columns:\n",
    "    # empty list for each binary attribute correlation \n",
    "    bin_correlations[bin_col] = []\n",
    "    \n",
    "    for num_col in num_columns:\n",
    "        # calculate point bisserial correlations\n",
    "        pb = pointbiserialr(bin_attributes[bin_col], num_attributes[num_col])\n",
    "        \n",
    "        # store correlation  \n",
    "        bin_correlations[bin_col].append(pb[0])\n",
    "\n",
    "# dataset of all point bisserial correlation \n",
    "pb_corr = pd.DataFrame(bin_correlations).set_index(num_attributes.columns)\n",
    "\n",
    "\n",
    "# mask to only show values from below\n",
    "mask = np.triu(np.ones_like(pb_corr, dtype=np.bool_))\n",
    "\n",
    "# plot heatmap\n",
    "plt.figure(figsize=(10,8))\n",
    "sns.heatmap(pb_corr, linewidths=0.5, annot=True);\n",
    "plt.title(\"Pointbiserialr\");"
   ]
  },
  {
   "cell_type": "markdown",
   "id": "8184d5d6",
   "metadata": {},
   "source": [
    "### 4.3.3. Categorical Attributes"
   ]
  },
  {
   "cell_type": "code",
   "execution_count": 59,
   "id": "90c6d914",
   "metadata": {
    "ExecuteTime": {
     "end_time": "2022-06-23T14:35:01.040294Z",
     "start_time": "2022-06-23T14:35:00.300278Z"
    }
   },
   "outputs": [
    {
     "data": {
      "image/png": "[encoded data removed]",
      "text/plain": [
       "<Figure size 720x576 with 2 Axes>"
      ]
     },
     "metadata": {
      "needs_background": "light"
     },
     "output_type": "display_data"
    }
   ],
   "source": [
    "# cramer v of gender\n",
    "a1 = cramer_v(cat_attributes['gender'], cat_attributes['gender'])\n",
    "a2 = cramer_v(cat_attributes['gender'], cat_attributes['cholesterol'])\n",
    "a3 = cramer_v(cat_attributes['gender'], cat_attributes['gluc'])\n",
    "\n",
    "# cramer v of cholesterol\n",
    "a4 = cramer_v(cat_attributes['cholesterol'], cat_attributes['gender'])\n",
    "a5 = cramer_v(cat_attributes['cholesterol'], cat_attributes['cholesterol'])\n",
    "a6 = cramer_v(cat_attributes['cholesterol'], cat_attributes['gluc'])\n",
    "\n",
    "# cramer v of glucose\n",
    "a7 = cramer_v(cat_attributes['gluc'], cat_attributes['gender'])\n",
    "a8 = cramer_v(cat_attributes['gluc'], cat_attributes['cholesterol'])\n",
    "a9 = cramer_v(cat_attributes['gluc'], cat_attributes['gluc'])\n",
    "\n",
    "# dataset of all cramer v correlation \n",
    "cat_corr = pd.DataFrame( {'gender': [a1, a2, a3], \n",
    "                          'cholesterol': [a4, a5, a6],\n",
    "                          'gluc': [a7, a8, a9]  })\n",
    "\n",
    "# set index with columns name\n",
    "cat_corr = cat_corr.set_index( cat_corr.columns )\n",
    "\n",
    "# mask to only show values from below\n",
    "mask = np.triu(np.ones_like(cat_corr, dtype=np.bool_))\n",
    "\n",
    "# plot heatmap\n",
    "plt.figure(figsize=(10,8))\n",
    "sns.heatmap(cat_corr, mask=mask, linewidths=0.5, annot=True);"
   ]
  },
  {
   "cell_type": "markdown",
   "id": "05d21aa1",
   "metadata": {},
   "source": [
    "# 5.0. Data Preparation"
   ]
  },
  {
   "cell_type": "code",
   "execution_count": 60,
   "id": "53a7d7e1",
   "metadata": {
    "ExecuteTime": {
     "end_time": "2022-06-23T14:35:01.072276Z",
     "start_time": "2022-06-23T14:35:01.049278Z"
    }
   },
   "outputs": [],
   "source": [
    "df05 = df04.copy()"
   ]
  },
  {
   "cell_type": "markdown",
   "id": "7420a780",
   "metadata": {},
   "source": [
    "## 5.1. Normalizing"
   ]
  },
  {
   "cell_type": "markdown",
   "id": "c624a87f",
   "metadata": {},
   "source": [
    "## 5.2. Rescaling"
   ]
  },
  {
   "cell_type": "code",
   "execution_count": 61,
   "id": "b433aea5",
   "metadata": {
    "ExecuteTime": {
     "end_time": "2022-06-23T14:35:01.215277Z",
     "start_time": "2022-06-23T14:35:01.078277Z"
    }
   },
   "outputs": [],
   "source": [
    "rs = RobustScaler()\n",
    "mms = MinMaxScaler()\n",
    "\n",
    "# age - MinMax Scaler\n",
    "df05['age'] = mms.fit_transform(df05[['age']].values)\n",
    "# save age scaler object\n",
    "pickle.dump(mms, open('../parameter/age_scaler.pkl', 'wb'))\n",
    "\n",
    "# height - Robust Scaler\n",
    "df05['height'] = rs.fit_transform(df05[['height']].values)\n",
    "# save height scaler object\n",
    "pickle.dump(rs, open('../parameter/height_scaler.pkl', 'wb'))\n",
    "\n",
    "# weight - Robust Scaler\n",
    "df05['weight'] = rs.fit_transform(df05[['weight']].values)\n",
    "# save weight scaler object\n",
    "pickle.dump(rs, open('../parameter/weight_scaler.pkl', 'wb'))\n",
    "\n",
    "# BMI - MinMax Scaler\n",
    "df05['bmi'] = mms.fit_transform(df05[['bmi']].values)\n",
    "# save BMI scaler object\n",
    "pickle.dump(mms, open('../parameter/bmi_scaler.pkl', 'wb'))\n",
    "\n",
    "# ap_hi - Robust Scaler\n",
    "df05['ap_hi'] = rs.fit_transform(df05[['ap_hi']].values)\n",
    "# save ap_hi scaler object\n",
    "pickle.dump(rs, open('../parameter/ap_hi_scaler.pkl', 'wb'))\n",
    "\n",
    "# ap_lo - Robust Scaler\n",
    "df05['ap_lo'] = rs.fit_transform(df05[['ap_lo']].values)\n",
    "# save ap_lo scaler object\n",
    "pickle.dump(rs, open('../parameter/ap_lo_scaler.pkl', 'wb'))\n",
    "\n",
    "# ap_hi/ap_lo - MinMax Scaler\n",
    "df05['ap_hi/ap_lo'] = mms.fit_transform(df05[['ap_hi/ap_lo']].values)\n",
    "# save ap_ratio scaler object\n",
    "pickle.dump(mms, open('../parameter/ap_ratio_scaler.pkl', 'wb'))"
   ]
  },
  {
   "cell_type": "markdown",
   "id": "74934a28",
   "metadata": {},
   "source": [
    "## 5.3. Transformation"
   ]
  },
  {
   "cell_type": "markdown",
   "id": "35c9a474",
   "metadata": {},
   "source": [
    "### 5.3.1. Encoding"
   ]
  },
  {
   "cell_type": "code",
   "execution_count": 62,
   "id": "14250629",
   "metadata": {
    "ExecuteTime": {
     "end_time": "2022-06-23T14:35:01.230300Z",
     "start_time": "2022-06-23T14:35:01.219280Z"
    }
   },
   "outputs": [],
   "source": [
    "le = LabelEncoder()"
   ]
  },
  {
   "cell_type": "code",
   "execution_count": 63,
   "id": "8c44b63d",
   "metadata": {
    "ExecuteTime": {
     "end_time": "2022-06-23T14:35:01.469344Z",
     "start_time": "2022-06-23T14:35:01.235279Z"
    }
   },
   "outputs": [],
   "source": [
    "# blood pressure category\n",
    "df05['ap_stages'] = le.fit_transform(df05['ap_stages'])\n",
    "# save ap_ratio scaler object\n",
    "pickle.dump(le, open('../parameter/ap_stages_encoder.pkl', 'wb'))\n",
    "\n",
    "# BMI class\n",
    "df05['weight_status'] = le.fit_transform(df05['weight_status'])\n",
    "# save ap_ratio scaler object\n",
    "pickle.dump(le, open('../parameter/weight_status_encoder.pkl', 'wb'))\n",
    "\n",
    "# cholesterol\n",
    "df05['cholesterol'] = le.fit_transform(df05['cholesterol'])\n",
    "# save ap_ratio scaler object\n",
    "pickle.dump(le, open('../parameter/cholesterol_encoder.pkl', 'wb'))\n",
    "\n",
    "# glucose\n",
    "df05['gluc'] = le.fit_transform(df05['gluc'])\n",
    "# save ap_ratio scaler object\n",
    "pickle.dump(le, open('../parameter/gluc_encoder.pkl', 'wb'))"
   ]
  },
  {
   "cell_type": "markdown",
   "id": "7b1b85b6",
   "metadata": {},
   "source": [
    "### 5.3.2. Nature Transformation"
   ]
  },
  {
   "cell_type": "markdown",
   "id": "83cfb5ab",
   "metadata": {},
   "source": [
    "# 6.0. Feature Selection"
   ]
  },
  {
   "cell_type": "code",
   "execution_count": 64,
   "id": "8a582aed",
   "metadata": {
    "ExecuteTime": {
     "end_time": "2022-06-23T14:35:01.499289Z",
     "start_time": "2022-06-23T14:35:01.476279Z"
    }
   },
   "outputs": [],
   "source": [
    "df06 = df05.copy()"
   ]
  },
  {
   "cell_type": "markdown",
   "id": "bdac7870",
   "metadata": {},
   "source": [
    "## 6.1. Split Dataframe into Training and Validation Dataset"
   ]
  },
  {
   "cell_type": "code",
   "execution_count": 65,
   "id": "eba37af3",
   "metadata": {
    "ExecuteTime": {
     "end_time": "2022-06-23T14:35:01.531278Z",
     "start_time": "2022-06-23T14:35:01.507282Z"
    }
   },
   "outputs": [],
   "source": [
    "# features dataset\n",
    "X = df06.drop(['cardio'],axis=1)\n",
    "\n",
    "# response dataset\n",
    "y = df06['cardio']"
   ]
  },
  {
   "cell_type": "code",
   "execution_count": 66,
   "id": "5427d347",
   "metadata": {
    "ExecuteTime": {
     "end_time": "2022-06-23T14:35:01.593280Z",
     "start_time": "2022-06-23T14:35:01.540280Z"
    }
   },
   "outputs": [],
   "source": [
    "# split dataset into training  and validation\n",
    "X_train, X_val, y_train, y_val = ms.train_test_split(X, y, test_size=0.2, random_state=42)"
   ]
  },
  {
   "cell_type": "markdown",
   "id": "0f80df78",
   "metadata": {},
   "source": [
    "## 6.2. Manual Selection - Exploratory Data Analysis"
   ]
  },
  {
   "cell_type": "code",
   "execution_count": 67,
   "id": "d50b447a",
   "metadata": {
    "ExecuteTime": {
     "end_time": "2022-06-23T14:35:01.624276Z",
     "start_time": "2022-06-23T14:35:01.597278Z"
    }
   },
   "outputs": [],
   "source": [
    "manual_selection = ['age', 'weight', 'cholesterol', 'ap_hi', 'ap_lo', 'ap_hi/ap_lo']\n",
    "# save features select object\n",
    "pickle.dump(manual_selection, open('../parameter/feat_select_manual.pkl', 'wb'))\n",
    "\n",
    "# manual selection features\n",
    "X_train_manual = X_train[manual_selection]\n",
    "X_val_manual = X_val[manual_selection]"
   ]
  },
  {
   "cell_type": "markdown",
   "id": "7030e633",
   "metadata": {},
   "source": [
    "## 6.3. Boruta as Feature Selector"
   ]
  },
  {
   "cell_type": "code",
   "execution_count": 68,
   "id": "3be68e09",
   "metadata": {
    "ExecuteTime": {
     "end_time": "2022-06-23T14:36:18.206512Z",
     "start_time": "2022-06-23T14:35:01.630281Z"
    },
    "scrolled": true
   },
   "outputs": [
    {
     "name": "stdout",
     "output_type": "stream",
     "text": [
      "Iteration: \t1 / 100\n",
      "Confirmed: \t0\n",
      "Tentative: \t17\n",
      "Rejected: \t0\n",
      "Iteration: \t2 / 100\n",
      "Confirmed: \t0\n",
      "Tentative: \t17\n",
      "Rejected: \t0\n",
      "Iteration: \t3 / 100\n",
      "Confirmed: \t0\n",
      "Tentative: \t17\n",
      "Rejected: \t0\n",
      "Iteration: \t4 / 100\n",
      "Confirmed: \t0\n",
      "Tentative: \t17\n",
      "Rejected: \t0\n",
      "Iteration: \t5 / 100\n",
      "Confirmed: \t0\n",
      "Tentative: \t17\n",
      "Rejected: \t0\n",
      "Iteration: \t6 / 100\n",
      "Confirmed: \t0\n",
      "Tentative: \t17\n",
      "Rejected: \t0\n",
      "Iteration: \t7 / 100\n",
      "Confirmed: \t0\n",
      "Tentative: \t17\n",
      "Rejected: \t0\n",
      "Iteration: \t8 / 100\n",
      "Confirmed: \t5\n",
      "Tentative: \t1\n",
      "Rejected: \t11\n",
      "Iteration: \t9 / 100\n",
      "Confirmed: \t5\n",
      "Tentative: \t1\n",
      "Rejected: \t11\n",
      "Iteration: \t10 / 100\n",
      "Confirmed: \t5\n",
      "Tentative: \t1\n",
      "Rejected: \t11\n",
      "Iteration: \t11 / 100\n",
      "Confirmed: \t5\n",
      "Tentative: \t1\n",
      "Rejected: \t11\n",
      "Iteration: \t12 / 100\n",
      "Confirmed: \t5\n",
      "Tentative: \t1\n",
      "Rejected: \t11\n",
      "Iteration: \t13 / 100\n",
      "Confirmed: \t5\n",
      "Tentative: \t1\n",
      "Rejected: \t11\n",
      "Iteration: \t14 / 100\n",
      "Confirmed: \t5\n",
      "Tentative: \t1\n",
      "Rejected: \t11\n",
      "Iteration: \t15 / 100\n",
      "Confirmed: \t5\n",
      "Tentative: \t1\n",
      "Rejected: \t11\n",
      "Iteration: \t16 / 100\n",
      "Confirmed: \t5\n",
      "Tentative: \t1\n",
      "Rejected: \t11\n",
      "Iteration: \t17 / 100\n",
      "Confirmed: \t5\n",
      "Tentative: \t1\n",
      "Rejected: \t11\n",
      "Iteration: \t18 / 100\n",
      "Confirmed: \t5\n",
      "Tentative: \t1\n",
      "Rejected: \t11\n",
      "Iteration: \t19 / 100\n",
      "Confirmed: \t5\n",
      "Tentative: \t1\n",
      "Rejected: \t11\n",
      "Iteration: \t20 / 100\n",
      "Confirmed: \t5\n",
      "Tentative: \t1\n",
      "Rejected: \t11\n",
      "Iteration: \t21 / 100\n",
      "Confirmed: \t5\n",
      "Tentative: \t1\n",
      "Rejected: \t11\n",
      "Iteration: \t22 / 100\n",
      "Confirmed: \t5\n",
      "Tentative: \t1\n",
      "Rejected: \t11\n",
      "Iteration: \t23 / 100\n",
      "Confirmed: \t5\n",
      "Tentative: \t1\n",
      "Rejected: \t11\n",
      "Iteration: \t24 / 100\n",
      "Confirmed: \t5\n",
      "Tentative: \t1\n",
      "Rejected: \t11\n",
      "Iteration: \t25 / 100\n",
      "Confirmed: \t5\n",
      "Tentative: \t1\n",
      "Rejected: \t11\n",
      "Iteration: \t26 / 100\n",
      "Confirmed: \t5\n",
      "Tentative: \t0\n",
      "Rejected: \t12\n",
      "\n",
      "\n",
      "BorutaPy finished running.\n",
      "\n",
      "Iteration: \t27 / 100\n",
      "Confirmed: \t5\n",
      "Tentative: \t0\n",
      "Rejected: \t12\n"
     ]
    }
   ],
   "source": [
    "# prepare dataset for Boruta\n",
    "X_train_n = X_train.values\n",
    "y_train_n = y_train.values.ravel()\n",
    "\n",
    "# define Random Forest Regressor\n",
    "extra_clf = ExtraTreesClassifier(n_jobs=-1)\n",
    "\n",
    "# define Boruta\n",
    "boruta = BorutaPy(extra_clf, n_estimators='auto', verbose=2, random_state=42).fit(X_train_n, y_train_n)"
   ]
  },
  {
   "cell_type": "code",
   "execution_count": 69,
   "id": "ad1e2c0b",
   "metadata": {
    "ExecuteTime": {
     "end_time": "2022-06-23T14:36:18.254525Z",
     "start_time": "2022-06-23T14:36:18.219515Z"
    }
   },
   "outputs": [],
   "source": [
    "# best features from imbalanced dataset\n",
    "cols_selected = boruta.support_.tolist()\n",
    "cols_selected_boruta = X_train.iloc[:, cols_selected].columns.to_list()\n",
    "\n",
    "# check weak features\n",
    "cols_weak = boruta.support_weak_.tolist()\n",
    "cols_selected_weak = X_train.iloc[:, cols_weak].columns.to_list()\n",
    "\n",
    "# not selected features\n",
    "cols_not_selected_boruta = list(np.setdiff1d(X_train.columns, cols_selected_boruta))\n",
    "\n",
    "# display best features\n",
    "cols_selected_boruta\n",
    "# save features select object\n",
    "pickle.dump(cols_selected_boruta, open('../parameter/feat_select_boruta.pkl', 'wb'))"
   ]
  },
  {
   "cell_type": "markdown",
   "id": "1422d5d5",
   "metadata": {},
   "source": [
    "### 6.3.1. Attributes Selection as Boruta"
   ]
  },
  {
   "cell_type": "code",
   "execution_count": 70,
   "id": "baf0a151",
   "metadata": {
    "ExecuteTime": {
     "end_time": "2022-06-23T14:36:18.286512Z",
     "start_time": "2022-06-23T14:36:18.265511Z"
    }
   },
   "outputs": [],
   "source": [
    "# select features by boruta\n",
    "X_train_boruta = X_train[cols_selected_boruta]\n",
    "X_val_boruta = X_val[cols_selected_boruta]"
   ]
  },
  {
   "cell_type": "markdown",
   "id": "417a56b3",
   "metadata": {},
   "source": [
    "## 6.4. PCA - Principal Component Analysis"
   ]
  },
  {
   "cell_type": "code",
   "execution_count": 71,
   "id": "3f29fee1",
   "metadata": {
    "ExecuteTime": {
     "end_time": "2022-06-23T14:36:18.556211Z",
     "start_time": "2022-06-23T14:36:18.290516Z"
    }
   },
   "outputs": [],
   "source": [
    "# define the number of eigenvectors (autovetor) + eigenvalues (autovalores)\n",
    "pca = decomposition.PCA().fit(X_train)"
   ]
  },
  {
   "cell_type": "code",
   "execution_count": 72,
   "id": "2e9b3de4",
   "metadata": {
    "ExecuteTime": {
     "end_time": "2022-06-23T14:36:18.572210Z",
     "start_time": "2022-06-23T14:36:18.560210Z"
    }
   },
   "outputs": [],
   "source": [
    "# return autovalores\n",
    "pca.explained_variance_ratio_\n",
    "\n",
    "# accumulated sum of autovalores\n",
    "np.cumsum(pca.explained_variance_ratio_)\n",
    "\n",
    "# determine the number of eigenvalues that represents 95% of the variability\n",
    "k = np.argmax(np.cumsum(pca.explained_variance_ratio_) > 0.98)"
   ]
  },
  {
   "cell_type": "code",
   "execution_count": 73,
   "id": "e5a1f584",
   "metadata": {
    "ExecuteTime": {
     "end_time": "2022-06-23T14:36:18.967735Z",
     "start_time": "2022-06-23T14:36:18.580212Z"
    }
   },
   "outputs": [
    {
     "data": {
      "text/plain": [
       "<matplotlib.lines.Line2D at 0x2e7bc27c100>"
      ]
     },
     "execution_count": 73,
     "metadata": {},
     "output_type": "execute_result"
    },
    {
     "data": {
      "image/png": "[encoded data removed]",
      "text/plain": [
       "<Figure size 720x360 with 1 Axes>"
      ]
     },
     "metadata": {
      "needs_background": "light"
     },
     "output_type": "display_data"
    }
   ],
   "source": [
    "plt.figure(figsize=(10,5))\n",
    "plt.plot(np.cumsum(pca.explained_variance_ratio_))\n",
    "plt.axvline(k, color='red', linestyle='--')\n",
    "plt.axhline(0.95, color='red', linestyle='--')"
   ]
  },
  {
   "cell_type": "markdown",
   "id": "964cdf60",
   "metadata": {},
   "source": [
    "### 6.4.1. Attributes Selection as PCA"
   ]
  },
  {
   "cell_type": "code",
   "execution_count": 74,
   "id": "e8534dfd",
   "metadata": {
    "ExecuteTime": {
     "end_time": "2022-06-23T14:36:19.569745Z",
     "start_time": "2022-06-23T14:36:18.971730Z"
    }
   },
   "outputs": [],
   "source": [
    "# define the number of eigenvectors (autovetor) + eigenvalues (autovalores)\n",
    "pca = decomposition.PCA().fit( X_train )\n",
    "k = np.argmax(np.cumsum(pca.explained_variance_ratio_) > 0.98)\n",
    "\n",
    "# change data to new space\n",
    "pca = decomposition.PCA(k).fit(X_train)\n",
    "# save features select object\n",
    "pickle.dump(pca, open('../parameter/feat_select_pca.pkl', 'wb'))\n",
    "\n",
    "# select features by pca\n",
    "X_train_pca = pca.transform(X_train)\n",
    "X_val_pca = pca.transform(X_val)"
   ]
  },
  {
   "cell_type": "markdown",
   "id": "763d3ec6",
   "metadata": {},
   "source": [
    "## 6.5. Feature Importance - Random Forest"
   ]
  },
  {
   "cell_type": "code",
   "execution_count": 75,
   "id": "f98c6e1d",
   "metadata": {
    "ExecuteTime": {
     "end_time": "2022-06-23T14:36:30.887800Z",
     "start_time": "2022-06-23T14:36:19.577731Z"
    }
   },
   "outputs": [
    {
     "data": {
      "image/png": "[encoded data removed]",
      "text/plain": [
       "<Figure size 864x432 with 1 Axes>"
      ]
     },
     "metadata": {
      "needs_background": "light"
     },
     "output_type": "display_data"
    }
   ],
   "source": [
    "# train random forest classifier\n",
    "rf = RandomForestClassifier(random_state=42).fit(X_train, y_train)\n",
    "\n",
    "# feature importance data frame\n",
    "feat_imp = pd.DataFrame({'feature': X_train.columns, 'feature_importance': rf.feature_importances_})\\\n",
    "                        .sort_values('feature_importance', ascending=False)\\\n",
    "                        .reset_index(drop=True)\n",
    "\n",
    "# plot feature importance\n",
    "plt.subplots(figsize=(12,6))\n",
    "sns.barplot(x='feature_importance', y='feature', data=feat_imp, orient='h', color='royalblue')\\\n",
    "            .set_title('Feature Importance');"
   ]
  },
  {
   "cell_type": "code",
   "execution_count": 76,
   "id": "edc5c957",
   "metadata": {
    "ExecuteTime": {
     "end_time": "2022-06-23T14:36:30.919363Z",
     "start_time": "2022-06-23T14:36:30.890365Z"
    }
   },
   "outputs": [
    {
     "data": {
      "text/html": [
       "<div>\n",
       "<style scoped>\n",
       "    .dataframe tbody tr th:only-of-type {\n",
       "        vertical-align: middle;\n",
       "    }\n",
       "\n",
       "    .dataframe tbody tr th {\n",
       "        vertical-align: top;\n",
       "    }\n",
       "\n",
       "    .dataframe thead th {\n",
       "        text-align: right;\n",
       "    }\n",
       "</style>\n",
       "<table border=\"1\" class=\"dataframe\">\n",
       "  <thead>\n",
       "    <tr style=\"text-align: right;\">\n",
       "      <th></th>\n",
       "      <th>feature</th>\n",
       "      <th>feature_importance</th>\n",
       "    </tr>\n",
       "  </thead>\n",
       "  <tbody>\n",
       "    <tr>\n",
       "      <th>0</th>\n",
       "      <td>age</td>\n",
       "      <td>0.245663</td>\n",
       "    </tr>\n",
       "    <tr>\n",
       "      <th>1</th>\n",
       "      <td>bmi</td>\n",
       "      <td>0.150032</td>\n",
       "    </tr>\n",
       "    <tr>\n",
       "      <th>2</th>\n",
       "      <td>ap_hi</td>\n",
       "      <td>0.122639</td>\n",
       "    </tr>\n",
       "    <tr>\n",
       "      <th>3</th>\n",
       "      <td>weight</td>\n",
       "      <td>0.113104</td>\n",
       "    </tr>\n",
       "    <tr>\n",
       "      <th>4</th>\n",
       "      <td>height</td>\n",
       "      <td>0.109668</td>\n",
       "    </tr>\n",
       "    <tr>\n",
       "      <th>5</th>\n",
       "      <td>ap_lo</td>\n",
       "      <td>0.055669</td>\n",
       "    </tr>\n",
       "    <tr>\n",
       "      <th>6</th>\n",
       "      <td>ap_hi/ap_lo</td>\n",
       "      <td>0.040430</td>\n",
       "    </tr>\n",
       "    <tr>\n",
       "      <th>7</th>\n",
       "      <td>ap_stages</td>\n",
       "      <td>0.038902</td>\n",
       "    </tr>\n",
       "    <tr>\n",
       "      <th>8</th>\n",
       "      <td>cholesterol</td>\n",
       "      <td>0.037985</td>\n",
       "    </tr>\n",
       "  </tbody>\n",
       "</table>\n",
       "</div>"
      ],
      "text/plain": [
       "       feature  feature_importance\n",
       "0          age            0.245663\n",
       "1          bmi            0.150032\n",
       "2        ap_hi            0.122639\n",
       "3       weight            0.113104\n",
       "4       height            0.109668\n",
       "5        ap_lo            0.055669\n",
       "6  ap_hi/ap_lo            0.040430\n",
       "7    ap_stages            0.038902\n",
       "8  cholesterol            0.037985"
      ]
     },
     "execution_count": 76,
     "metadata": {},
     "output_type": "execute_result"
    }
   ],
   "source": [
    "# features importance higher than 0.02\n",
    "feat_imp_select = feat_imp.loc[feat_imp['feature_importance'] > 0.02]\n",
    "feat_imp_select"
   ]
  },
  {
   "cell_type": "code",
   "execution_count": 77,
   "id": "84757041",
   "metadata": {
    "ExecuteTime": {
     "end_time": "2022-06-23T14:36:30.935364Z",
     "start_time": "2022-06-23T14:36:30.923369Z"
    }
   },
   "outputs": [
    {
     "data": {
      "text/plain": [
       "['age',\n",
       " 'bmi',\n",
       " 'ap_hi',\n",
       " 'weight',\n",
       " 'height',\n",
       " 'ap_lo',\n",
       " 'ap_hi/ap_lo',\n",
       " 'ap_stages',\n",
       " 'cholesterol']"
      ]
     },
     "execution_count": 77,
     "metadata": {},
     "output_type": "execute_result"
    }
   ],
   "source": [
    "# top features list\n",
    "feat_list = feat_imp_select['feature'].to_list()\n",
    "# save features select object\n",
    "pickle.dump(feat_list, open('../parameter/feat_select_imp.pkl', 'wb'))\n",
    "\n",
    "# display features select\n",
    "feat_list"
   ]
  },
  {
   "cell_type": "markdown",
   "id": "a21a5451",
   "metadata": {},
   "source": [
    "### 6.5.1. Attributes Selection as Feature Importance"
   ]
  },
  {
   "cell_type": "code",
   "execution_count": 78,
   "id": "351e0604",
   "metadata": {
    "ExecuteTime": {
     "end_time": "2022-06-23T14:36:30.967362Z",
     "start_time": "2022-06-23T14:36:30.940366Z"
    }
   },
   "outputs": [],
   "source": [
    "# select features by importance\n",
    "X_train_feat_imp = X_train[feat_list].copy()\n",
    "X_val_feat_imp = X_val[feat_list].copy()"
   ]
  },
  {
   "cell_type": "markdown",
   "id": "471a83ca",
   "metadata": {},
   "source": [
    "# 7.0. Machine Learning Model\n",
    "\n",
    "\n",
    "**References:**\n",
    "\n",
    "- Evaluation Metrics for Evaluation Models: https://neptune.ai/blog/evaluation-metrics-binary-classification#:~:text=Simply%20put%20a%20classification%20metric,to%20classes%3A%20positive%20and%20negative."
   ]
  },
  {
   "cell_type": "code",
   "execution_count": 79,
   "id": "3800a3f5",
   "metadata": {
    "ExecuteTime": {
     "end_time": "2022-06-23T14:36:30.999360Z",
     "start_time": "2022-06-23T14:36:30.970363Z"
    }
   },
   "outputs": [],
   "source": [
    "# select data for machine learning models\n",
    "x_train = X_train.copy()\n",
    "x_val = X_val.copy()\n",
    "\n",
    "# manual feature selection\n",
    "x_train_manual = X_train_manual.copy()\n",
    "x_val_manual = X_val_manual.copy()\n",
    "\n",
    "# boruta feature selection\n",
    "x_train_boruta = X_train_boruta.copy()\n",
    "x_val_boruta = X_val_boruta.copy()\n",
    "\n",
    "# pca feature selection\n",
    "x_train_pca = X_train_pca.copy()\n",
    "x_val_pca = X_val_pca.copy()\n",
    "\n",
    "# importance feature selection\n",
    "x_train_feat_imp = X_train_feat_imp.copy()\n",
    "x_val_feat_imp = X_val_feat_imp.copy()"
   ]
  },
  {
   "cell_type": "markdown",
   "id": "5a052d5a",
   "metadata": {},
   "source": [
    "## 7.1. Random Forest Classifier "
   ]
  },
  {
   "cell_type": "code",
   "execution_count": 80,
   "id": "ce7625e7",
   "metadata": {
    "ExecuteTime": {
     "end_time": "2022-06-23T14:37:03.385070Z",
     "start_time": "2022-06-23T14:36:31.002365Z"
    }
   },
   "outputs": [],
   "source": [
    "# model definition\n",
    "model_rf = RandomForestClassifier(n_estimators=100, n_jobs=-1).fit(x_train, y_train)\n",
    "\n",
    "# model definition by manual selection\n",
    "model_rf_manual = RandomForestClassifier(n_estimators=100, n_jobs=-1).fit(x_train_manual, y_train)\n",
    "\n",
    "# model definition by boruta\n",
    "model_rf_boruta = RandomForestClassifier(n_estimators=100, n_jobs=-1).fit(x_train_boruta, y_train)\n",
    "\n",
    "# model definition by pca\n",
    "model_rf_pca = RandomForestClassifier(n_estimators=100, n_jobs=-1).fit(x_train_pca, y_train)\n",
    "\n",
    "# model definition by importance\n",
    "model_rf_feat_imp = RandomForestClassifier(n_estimators=100, n_jobs=-1).fit(x_train_feat_imp, y_train)"
   ]
  },
  {
   "cell_type": "markdown",
   "id": "a657d0f8",
   "metadata": {
    "ExecuteTime": {
     "end_time": "2022-05-11T14:02:41.321634Z",
     "start_time": "2022-05-11T14:02:41.309629Z"
    }
   },
   "source": [
    "### 7.1.1. Random Forest Classifier - Performance"
   ]
  },
  {
   "cell_type": "code",
   "execution_count": 81,
   "id": "b8be08b2",
   "metadata": {
    "ExecuteTime": {
     "end_time": "2022-06-23T14:37:03.887096Z",
     "start_time": "2022-06-23T14:37:03.399083Z"
    }
   },
   "outputs": [
    {
     "data": {
      "text/html": [
       "<div>\n",
       "<style scoped>\n",
       "    .dataframe tbody tr th:only-of-type {\n",
       "        vertical-align: middle;\n",
       "    }\n",
       "\n",
       "    .dataframe tbody tr th {\n",
       "        vertical-align: top;\n",
       "    }\n",
       "\n",
       "    .dataframe thead th {\n",
       "        text-align: right;\n",
       "    }\n",
       "</style>\n",
       "<table border=\"1\" class=\"dataframe\">\n",
       "  <thead>\n",
       "    <tr style=\"text-align: right;\">\n",
       "      <th></th>\n",
       "      <th>Model</th>\n",
       "      <th>Accuracy</th>\n",
       "      <th>Precision</th>\n",
       "      <th>Recall</th>\n",
       "      <th>F1-Score</th>\n",
       "      <th>ROC-AUC</th>\n",
       "    </tr>\n",
       "  </thead>\n",
       "  <tbody>\n",
       "    <tr>\n",
       "      <th>0</th>\n",
       "      <td>Random Forest Classifier</td>\n",
       "      <td>0.716857</td>\n",
       "      <td>0.718171</td>\n",
       "      <td>0.69446</td>\n",
       "      <td>0.706117</td>\n",
       "      <td>0.71641</td>\n",
       "    </tr>\n",
       "  </tbody>\n",
       "</table>\n",
       "</div>"
      ],
      "text/plain": [
       "                      Model  Accuracy Precision   Recall  F1-Score  ROC-AUC\n",
       "0  Random Forest Classifier  0.716857  0.718171  0.69446  0.706117  0.71641"
      ]
     },
     "execution_count": 81,
     "metadata": {},
     "output_type": "execute_result"
    }
   ],
   "source": [
    "# prediction\n",
    "pred_rf = model_rf.predict(x_val)\n",
    "\n",
    "# evaluate performance of model\n",
    "rf_performance = pd.DataFrame(['Random Forest Classifier',\n",
    "                               accuracy_score(y_val, pred_rf), \n",
    "                               precision_score(y_val, pred_rf), \n",
    "                               recall_score(y_val, pred_rf), \n",
    "                               f1_score(y_val, pred_rf),\n",
    "                               roc_auc_score(y_val, pred_rf)]).T\n",
    "\n",
    "# set metris as columns name\n",
    "rf_performance.columns = ['Model', 'Accuracy', 'Precision', 'Recall', 'F1-Score', 'ROC-AUC']\n",
    "\n",
    "# display performance\n",
    "rf_performance"
   ]
  },
  {
   "cell_type": "markdown",
   "id": "4fce4fe4",
   "metadata": {},
   "source": [
    "#### 7.1.1.1. Random Forest Classifier - Performance - Manual Selection"
   ]
  },
  {
   "cell_type": "code",
   "execution_count": 82,
   "id": "17d64644",
   "metadata": {
    "ExecuteTime": {
     "end_time": "2022-06-23T14:37:04.344322Z",
     "start_time": "2022-06-23T14:37:03.946067Z"
    }
   },
   "outputs": [
    {
     "data": {
      "text/html": [
       "<div>\n",
       "<style scoped>\n",
       "    .dataframe tbody tr th:only-of-type {\n",
       "        vertical-align: middle;\n",
       "    }\n",
       "\n",
       "    .dataframe tbody tr th {\n",
       "        vertical-align: top;\n",
       "    }\n",
       "\n",
       "    .dataframe thead th {\n",
       "        text-align: right;\n",
       "    }\n",
       "</style>\n",
       "<table border=\"1\" class=\"dataframe\">\n",
       "  <thead>\n",
       "    <tr style=\"text-align: right;\">\n",
       "      <th></th>\n",
       "      <th>Model</th>\n",
       "      <th>Accuracy</th>\n",
       "      <th>Precision</th>\n",
       "      <th>Recall</th>\n",
       "      <th>F1-Score</th>\n",
       "      <th>ROC-AUC</th>\n",
       "    </tr>\n",
       "  </thead>\n",
       "  <tbody>\n",
       "    <tr>\n",
       "      <th>0</th>\n",
       "      <td>Random Forest Classifier - Manual Selection</td>\n",
       "      <td>0.673824</td>\n",
       "      <td>0.667102</td>\n",
       "      <td>0.666853</td>\n",
       "      <td>0.666978</td>\n",
       "      <td>0.673684</td>\n",
       "    </tr>\n",
       "  </tbody>\n",
       "</table>\n",
       "</div>"
      ],
      "text/plain": [
       "                                         Model  Accuracy Precision    Recall  \\\n",
       "0  Random Forest Classifier - Manual Selection  0.673824  0.667102  0.666853   \n",
       "\n",
       "   F1-Score   ROC-AUC  \n",
       "0  0.666978  0.673684  "
      ]
     },
     "execution_count": 82,
     "metadata": {},
     "output_type": "execute_result"
    }
   ],
   "source": [
    "# prediction\n",
    "pred_rf_manual = model_rf_manual.predict(x_val_manual)\n",
    "\n",
    "# evaluate performance of model\n",
    "rf_performance_manual = pd.DataFrame(['Random Forest Classifier - Manual Selection',\n",
    "                                      accuracy_score(y_val, pred_rf_manual), \n",
    "                                      precision_score(y_val, pred_rf_manual), \n",
    "                                      recall_score(y_val, pred_rf_manual), \n",
    "                                      f1_score(y_val, pred_rf_manual),\n",
    "                                      roc_auc_score(y_val, pred_rf_manual)]).T\n",
    "\n",
    "# set metris as columns name\n",
    "rf_performance_manual.columns = ['Model', 'Accuracy', 'Precision', 'Recall', 'F1-Score', 'ROC-AUC']\n",
    "\n",
    "# display performance\n",
    "rf_performance_manual"
   ]
  },
  {
   "cell_type": "markdown",
   "id": "d8d63c92",
   "metadata": {},
   "source": [
    "#### 7.1.1.2. Random Forest Classifier - Performance - Boruta"
   ]
  },
  {
   "cell_type": "code",
   "execution_count": 83,
   "id": "2ac9eb96",
   "metadata": {
    "ExecuteTime": {
     "end_time": "2022-06-23T14:37:04.835880Z",
     "start_time": "2022-06-23T14:37:04.353320Z"
    }
   },
   "outputs": [
    {
     "data": {
      "text/html": [
       "<div>\n",
       "<style scoped>\n",
       "    .dataframe tbody tr th:only-of-type {\n",
       "        vertical-align: middle;\n",
       "    }\n",
       "\n",
       "    .dataframe tbody tr th {\n",
       "        vertical-align: top;\n",
       "    }\n",
       "\n",
       "    .dataframe thead th {\n",
       "        text-align: right;\n",
       "    }\n",
       "</style>\n",
       "<table border=\"1\" class=\"dataframe\">\n",
       "  <thead>\n",
       "    <tr style=\"text-align: right;\">\n",
       "      <th></th>\n",
       "      <th>Model</th>\n",
       "      <th>Accuracy</th>\n",
       "      <th>Precision</th>\n",
       "      <th>Recall</th>\n",
       "      <th>F1-Score</th>\n",
       "      <th>ROC-AUC</th>\n",
       "    </tr>\n",
       "  </thead>\n",
       "  <tbody>\n",
       "    <tr>\n",
       "      <th>0</th>\n",
       "      <td>Random Forest Classifier - Boruta</td>\n",
       "      <td>0.686067</td>\n",
       "      <td>0.683859</td>\n",
       "      <td>0.667786</td>\n",
       "      <td>0.675727</td>\n",
       "      <td>0.685702</td>\n",
       "    </tr>\n",
       "  </tbody>\n",
       "</table>\n",
       "</div>"
      ],
      "text/plain": [
       "                               Model  Accuracy Precision    Recall  F1-Score  \\\n",
       "0  Random Forest Classifier - Boruta  0.686067  0.683859  0.667786  0.675727   \n",
       "\n",
       "    ROC-AUC  \n",
       "0  0.685702  "
      ]
     },
     "execution_count": 83,
     "metadata": {},
     "output_type": "execute_result"
    }
   ],
   "source": [
    "# prediction\n",
    "pred_rf_boruta = model_rf_boruta.predict(x_val_boruta)\n",
    "\n",
    "# evaluate performance of model\n",
    "rf_performance_boruta = pd.DataFrame(['Random Forest Classifier - Boruta',\n",
    "                                      accuracy_score(y_val, pred_rf_boruta), \n",
    "                                      precision_score(y_val, pred_rf_boruta), \n",
    "                                      recall_score(y_val, pred_rf_boruta), \n",
    "                                      f1_score(y_val, pred_rf_boruta),\n",
    "                                      roc_auc_score(y_val, pred_rf_boruta)]).T\n",
    "\n",
    "# set metris as columns name\n",
    "rf_performance_boruta.columns = ['Model', 'Accuracy', 'Precision', 'Recall', 'F1-Score', 'ROC-AUC']\n",
    "\n",
    "# display performance\n",
    "rf_performance_boruta"
   ]
  },
  {
   "cell_type": "markdown",
   "id": "96781395",
   "metadata": {},
   "source": [
    "#### 7.1.1.3. Random Forest Classifier - Performance - PCA"
   ]
  },
  {
   "cell_type": "code",
   "execution_count": 84,
   "id": "177462a8",
   "metadata": {
    "ExecuteTime": {
     "end_time": "2022-06-23T14:37:05.388879Z",
     "start_time": "2022-06-23T14:37:04.844878Z"
    }
   },
   "outputs": [
    {
     "data": {
      "text/html": [
       "<div>\n",
       "<style scoped>\n",
       "    .dataframe tbody tr th:only-of-type {\n",
       "        vertical-align: middle;\n",
       "    }\n",
       "\n",
       "    .dataframe tbody tr th {\n",
       "        vertical-align: top;\n",
       "    }\n",
       "\n",
       "    .dataframe thead th {\n",
       "        text-align: right;\n",
       "    }\n",
       "</style>\n",
       "<table border=\"1\" class=\"dataframe\">\n",
       "  <thead>\n",
       "    <tr style=\"text-align: right;\">\n",
       "      <th></th>\n",
       "      <th>Model</th>\n",
       "      <th>Accuracy</th>\n",
       "      <th>Precision</th>\n",
       "      <th>Recall</th>\n",
       "      <th>F1-Score</th>\n",
       "      <th>ROC-AUC</th>\n",
       "    </tr>\n",
       "  </thead>\n",
       "  <tbody>\n",
       "    <tr>\n",
       "      <th>0</th>\n",
       "      <td>Random Forest Classifier - PCA</td>\n",
       "      <td>0.696665</td>\n",
       "      <td>0.691212</td>\n",
       "      <td>0.688118</td>\n",
       "      <td>0.689662</td>\n",
       "      <td>0.696494</td>\n",
       "    </tr>\n",
       "  </tbody>\n",
       "</table>\n",
       "</div>"
      ],
      "text/plain": [
       "                            Model  Accuracy Precision    Recall  F1-Score  \\\n",
       "0  Random Forest Classifier - PCA  0.696665  0.691212  0.688118  0.689662   \n",
       "\n",
       "    ROC-AUC  \n",
       "0  0.696494  "
      ]
     },
     "execution_count": 84,
     "metadata": {},
     "output_type": "execute_result"
    }
   ],
   "source": [
    "# prediction\n",
    "pred_rf_pca = model_rf_pca.predict(x_val_pca)\n",
    "\n",
    "# evaluate performance of model\n",
    "rf_performance_pca = pd.DataFrame(['Random Forest Classifier - PCA',\n",
    "                                   accuracy_score(y_val, pred_rf_pca), \n",
    "                                   precision_score(y_val, pred_rf_pca), \n",
    "                                   recall_score(y_val, pred_rf_pca), \n",
    "                                   f1_score(y_val, pred_rf_pca),\n",
    "                                   roc_auc_score(y_val, pred_rf_pca)]).T\n",
    "\n",
    "# set metris as columns name\n",
    "rf_performance_pca.columns = ['Model', 'Accuracy', 'Precision', 'Recall', 'F1-Score', 'ROC-AUC']\n",
    "\n",
    "# display performance\n",
    "rf_performance_pca"
   ]
  },
  {
   "cell_type": "markdown",
   "id": "aeffffae",
   "metadata": {},
   "source": [
    "#### 7.1.1.4. Random Forest Classifier - Performance - Feature Importance"
   ]
  },
  {
   "cell_type": "code",
   "execution_count": 85,
   "id": "d2041a7c",
   "metadata": {
    "ExecuteTime": {
     "end_time": "2022-06-23T14:37:05.931539Z",
     "start_time": "2022-06-23T14:37:05.393880Z"
    }
   },
   "outputs": [
    {
     "data": {
      "text/html": [
       "<div>\n",
       "<style scoped>\n",
       "    .dataframe tbody tr th:only-of-type {\n",
       "        vertical-align: middle;\n",
       "    }\n",
       "\n",
       "    .dataframe tbody tr th {\n",
       "        vertical-align: top;\n",
       "    }\n",
       "\n",
       "    .dataframe thead th {\n",
       "        text-align: right;\n",
       "    }\n",
       "</style>\n",
       "<table border=\"1\" class=\"dataframe\">\n",
       "  <thead>\n",
       "    <tr style=\"text-align: right;\">\n",
       "      <th></th>\n",
       "      <th>Model</th>\n",
       "      <th>Accuracy</th>\n",
       "      <th>Precision</th>\n",
       "      <th>Recall</th>\n",
       "      <th>F1-Score</th>\n",
       "      <th>ROC-AUC</th>\n",
       "    </tr>\n",
       "  </thead>\n",
       "  <tbody>\n",
       "    <tr>\n",
       "      <th>0</th>\n",
       "      <td>Random Forest Classifier - Feat. Importance</td>\n",
       "      <td>0.705345</td>\n",
       "      <td>0.70281</td>\n",
       "      <td>0.690356</td>\n",
       "      <td>0.696528</td>\n",
       "      <td>0.705046</td>\n",
       "    </tr>\n",
       "  </tbody>\n",
       "</table>\n",
       "</div>"
      ],
      "text/plain": [
       "                                         Model  Accuracy Precision    Recall  \\\n",
       "0  Random Forest Classifier - Feat. Importance  0.705345   0.70281  0.690356   \n",
       "\n",
       "   F1-Score   ROC-AUC  \n",
       "0  0.696528  0.705046  "
      ]
     },
     "execution_count": 85,
     "metadata": {},
     "output_type": "execute_result"
    }
   ],
   "source": [
    "# prediction\n",
    "pred_rf_feat_imp = model_rf_feat_imp.predict(x_val_feat_imp)\n",
    "\n",
    "# evaluate performance of model\n",
    "rf_performance_feat_imp = pd.DataFrame(['Random Forest Classifier - Feat. Importance',\n",
    "                                        accuracy_score(y_val, pred_rf_feat_imp), \n",
    "                                        precision_score(y_val, pred_rf_feat_imp), \n",
    "                                        recall_score(y_val, pred_rf_feat_imp), \n",
    "                                        f1_score(y_val, pred_rf_feat_imp),\n",
    "                                        roc_auc_score(y_val, pred_rf_feat_imp)]).T\n",
    "\n",
    "# set metris as columns name\n",
    "rf_performance_feat_imp.columns = ['Model', 'Accuracy', 'Precision', 'Recall', 'F1-Score', 'ROC-AUC']\n",
    "\n",
    "# display performance\n",
    "rf_performance_feat_imp"
   ]
  },
  {
   "cell_type": "markdown",
   "id": "4ac281df",
   "metadata": {},
   "source": [
    "#### 7.1.1.5. Random Forest Classifier - Performance Comparative"
   ]
  },
  {
   "cell_type": "code",
   "execution_count": 86,
   "id": "f3561395",
   "metadata": {
    "ExecuteTime": {
     "end_time": "2022-06-23T14:37:06.895664Z",
     "start_time": "2022-06-23T14:37:05.936540Z"
    }
   },
   "outputs": [
    {
     "data": {
      "text/html": [
       "<style type=\"text/css\">\n",
       "#T_6498f_row0_col1, #T_6498f_row0_col2, #T_6498f_row0_col3, #T_6498f_row0_col4, #T_6498f_row0_col5, #T_6498f_row3_col0 {\n",
       "  background-color: darkorange;\n",
       "}\n",
       "</style>\n",
       "<table id=\"T_6498f\">\n",
       "  <thead>\n",
       "    <tr>\n",
       "      <th class=\"blank level0\" >&nbsp;</th>\n",
       "      <th id=\"T_6498f_level0_col0\" class=\"col_heading level0 col0\" >Model</th>\n",
       "      <th id=\"T_6498f_level0_col1\" class=\"col_heading level0 col1\" >Accuracy</th>\n",
       "      <th id=\"T_6498f_level0_col2\" class=\"col_heading level0 col2\" >Precision</th>\n",
       "      <th id=\"T_6498f_level0_col3\" class=\"col_heading level0 col3\" >Recall</th>\n",
       "      <th id=\"T_6498f_level0_col4\" class=\"col_heading level0 col4\" >F1-Score</th>\n",
       "      <th id=\"T_6498f_level0_col5\" class=\"col_heading level0 col5\" >ROC-AUC</th>\n",
       "    </tr>\n",
       "  </thead>\n",
       "  <tbody>\n",
       "    <tr>\n",
       "      <th id=\"T_6498f_level0_row0\" class=\"row_heading level0 row0\" >0</th>\n",
       "      <td id=\"T_6498f_row0_col0\" class=\"data row0 col0\" >Random Forest Classifier</td>\n",
       "      <td id=\"T_6498f_row0_col1\" class=\"data row0 col1\" >0.716857</td>\n",
       "      <td id=\"T_6498f_row0_col2\" class=\"data row0 col2\" >0.718171</td>\n",
       "      <td id=\"T_6498f_row0_col3\" class=\"data row0 col3\" >0.694460</td>\n",
       "      <td id=\"T_6498f_row0_col4\" class=\"data row0 col4\" >0.706117</td>\n",
       "      <td id=\"T_6498f_row0_col5\" class=\"data row0 col5\" >0.716410</td>\n",
       "    </tr>\n",
       "    <tr>\n",
       "      <th id=\"T_6498f_level0_row1\" class=\"row_heading level0 row1\" >1</th>\n",
       "      <td id=\"T_6498f_row1_col0\" class=\"data row1 col0\" >Random Forest Classifier - Manual Selection</td>\n",
       "      <td id=\"T_6498f_row1_col1\" class=\"data row1 col1\" >0.673824</td>\n",
       "      <td id=\"T_6498f_row1_col2\" class=\"data row1 col2\" >0.667102</td>\n",
       "      <td id=\"T_6498f_row1_col3\" class=\"data row1 col3\" >0.666853</td>\n",
       "      <td id=\"T_6498f_row1_col4\" class=\"data row1 col4\" >0.666978</td>\n",
       "      <td id=\"T_6498f_row1_col5\" class=\"data row1 col5\" >0.673684</td>\n",
       "    </tr>\n",
       "    <tr>\n",
       "      <th id=\"T_6498f_level0_row2\" class=\"row_heading level0 row2\" >2</th>\n",
       "      <td id=\"T_6498f_row2_col0\" class=\"data row2 col0\" >Random Forest Classifier - Boruta</td>\n",
       "      <td id=\"T_6498f_row2_col1\" class=\"data row2 col1\" >0.686067</td>\n",
       "      <td id=\"T_6498f_row2_col2\" class=\"data row2 col2\" >0.683859</td>\n",
       "      <td id=\"T_6498f_row2_col3\" class=\"data row2 col3\" >0.667786</td>\n",
       "      <td id=\"T_6498f_row2_col4\" class=\"data row2 col4\" >0.675727</td>\n",
       "      <td id=\"T_6498f_row2_col5\" class=\"data row2 col5\" >0.685702</td>\n",
       "    </tr>\n",
       "    <tr>\n",
       "      <th id=\"T_6498f_level0_row3\" class=\"row_heading level0 row3\" >3</th>\n",
       "      <td id=\"T_6498f_row3_col0\" class=\"data row3 col0\" >Random Forest Classifier - PCA</td>\n",
       "      <td id=\"T_6498f_row3_col1\" class=\"data row3 col1\" >0.696665</td>\n",
       "      <td id=\"T_6498f_row3_col2\" class=\"data row3 col2\" >0.691212</td>\n",
       "      <td id=\"T_6498f_row3_col3\" class=\"data row3 col3\" >0.688118</td>\n",
       "      <td id=\"T_6498f_row3_col4\" class=\"data row3 col4\" >0.689662</td>\n",
       "      <td id=\"T_6498f_row3_col5\" class=\"data row3 col5\" >0.696494</td>\n",
       "    </tr>\n",
       "    <tr>\n",
       "      <th id=\"T_6498f_level0_row4\" class=\"row_heading level0 row4\" >4</th>\n",
       "      <td id=\"T_6498f_row4_col0\" class=\"data row4 col0\" >Random Forest Classifier - Feat. Importance</td>\n",
       "      <td id=\"T_6498f_row4_col1\" class=\"data row4 col1\" >0.705345</td>\n",
       "      <td id=\"T_6498f_row4_col2\" class=\"data row4 col2\" >0.702810</td>\n",
       "      <td id=\"T_6498f_row4_col3\" class=\"data row4 col3\" >0.690356</td>\n",
       "      <td id=\"T_6498f_row4_col4\" class=\"data row4 col4\" >0.696528</td>\n",
       "      <td id=\"T_6498f_row4_col5\" class=\"data row4 col5\" >0.705046</td>\n",
       "    </tr>\n",
       "  </tbody>\n",
       "</table>\n"
      ],
      "text/plain": [
       "<pandas.io.formats.style.Styler at 0x2e7be43b550>"
      ]
     },
     "execution_count": 86,
     "metadata": {},
     "output_type": "execute_result"
    }
   ],
   "source": [
    "# performance comparative\n",
    "comp_performance = pd.concat([rf_performance, \n",
    "                              rf_performance_manual, \n",
    "                              rf_performance_boruta, \n",
    "                              rf_performance_pca, \n",
    "                              rf_performance_feat_imp]).reset_index(drop=True)\n",
    "\n",
    "# display performance for each feature selection\n",
    "comp_performance.style.highlight_max(color='darkorange')"
   ]
  },
  {
   "cell_type": "markdown",
   "id": "3a763f0f",
   "metadata": {},
   "source": [
    "### 7.1.2. Random Forest Classifier - Cross-Validation"
   ]
  },
  {
   "cell_type": "code",
   "execution_count": 87,
   "id": "b53508fb",
   "metadata": {
    "ExecuteTime": {
     "end_time": "2022-06-23T14:38:44.802054Z",
     "start_time": "2022-06-23T14:37:06.902660Z"
    }
   },
   "outputs": [
    {
     "data": {
      "text/html": [
       "<div>\n",
       "<style scoped>\n",
       "    .dataframe tbody tr th:only-of-type {\n",
       "        vertical-align: middle;\n",
       "    }\n",
       "\n",
       "    .dataframe tbody tr th {\n",
       "        vertical-align: top;\n",
       "    }\n",
       "\n",
       "    .dataframe thead th {\n",
       "        text-align: right;\n",
       "    }\n",
       "</style>\n",
       "<table border=\"1\" class=\"dataframe\">\n",
       "  <thead>\n",
       "    <tr style=\"text-align: right;\">\n",
       "      <th></th>\n",
       "      <th>Model</th>\n",
       "      <th>Accuracy</th>\n",
       "      <th>Precision</th>\n",
       "      <th>Recall</th>\n",
       "      <th>F1 Score</th>\n",
       "      <th>ROC AUC</th>\n",
       "    </tr>\n",
       "  </thead>\n",
       "  <tbody>\n",
       "    <tr>\n",
       "      <th>0</th>\n",
       "      <td>Random Forest Classifier</td>\n",
       "      <td>0.706686 +/- 0.008776</td>\n",
       "      <td>0.709775 +/- 0.007903</td>\n",
       "      <td>0.688871 +/- 0.01349</td>\n",
       "      <td>0.699138 +/- 0.010211</td>\n",
       "      <td>0.76885 +/- 0.00822</td>\n",
       "    </tr>\n",
       "  </tbody>\n",
       "</table>\n",
       "</div>"
      ],
      "text/plain": [
       "                      Model               Accuracy              Precision  \\\n",
       "0  Random Forest Classifier  0.706686 +/- 0.008776  0.709775 +/- 0.007903   \n",
       "\n",
       "                 Recall               F1 Score              ROC AUC  \n",
       "0  0.688871 +/- 0.01349  0.699138 +/- 0.010211  0.76885 +/- 0.00822  "
      ]
     },
     "execution_count": 87,
     "metadata": {},
     "output_type": "execute_result"
    }
   ],
   "source": [
    "# select metrics of interest\n",
    "metrics = ('accuracy', 'precision', 'recall', 'f1', 'roc_auc')\n",
    "\n",
    "# cross validation of model\n",
    "scores  = cross_validate(model_rf, x_train, y_train, scoring=metrics, cv=10)\n",
    "\n",
    "# cross validation accuracy\n",
    "acc_cv_mean = np.round(scores['test_accuracy'].mean(), 6)\n",
    "acc_cv_std = np.round(scores['test_accuracy'].std(), 6)\n",
    "\n",
    "# cross validation precision\n",
    "prec_cv_mean = np.round(scores['test_precision'].mean(), 6)\n",
    "prec_cv_std = np.round(scores['test_precision'].std(), 6)\n",
    "\n",
    "# cross validation recall\n",
    "recall_cv_mean = np.round(scores['test_recall'].mean(), 6)\n",
    "recall_cv_std = np.round(scores['test_recall'].std(), 6)\n",
    "\n",
    "# cross validation F1 score\n",
    "f1_score_cv_mean = np.round(scores['test_f1'].mean(), 6)\n",
    "f1_score_cv_std = np.round(scores['test_f1'].std(), 6)\n",
    "\n",
    "# cross validation ROC-AUC\n",
    "roc_auc_cv_mean = np.round(scores['test_roc_auc'].mean(), 6)\n",
    "roc_auc_cv_std = np.round(scores['test_roc_auc'].std(), 6)\n",
    "\n",
    "# calculate mean and std and build dataframe for each metric\n",
    "rf_performance_cv = pd.DataFrame({'Model': 'Random Forest Classifier', \n",
    "                                  'Accuracy': f'{acc_cv_mean} +/- {acc_cv_std}', \n",
    "                                  'Precision': f'{prec_cv_mean} +/- {prec_cv_std}', \n",
    "                                  'Recall': f'{recall_cv_mean} +/- {recall_cv_std}', \n",
    "                                  'F1 Score': f'{f1_score_cv_mean} +/- {f1_score_cv_std}', \n",
    "                                  'ROC AUC': f'{roc_auc_cv_mean} +/- {roc_auc_cv_std}'}, \n",
    "                                 index=[0])\n",
    "\n",
    "# display model perfomance\n",
    "rf_performance_cv"
   ]
  },
  {
   "cell_type": "markdown",
   "id": "2a47491f",
   "metadata": {},
   "source": [
    "#### 7.1.2.1. Random Forest Classifier - Cross-Validation - Manual Selection"
   ]
  },
  {
   "cell_type": "code",
   "execution_count": 88,
   "id": "f8679be6",
   "metadata": {
    "ExecuteTime": {
     "end_time": "2022-06-23T14:39:26.709073Z",
     "start_time": "2022-06-23T14:38:44.808051Z"
    }
   },
   "outputs": [
    {
     "data": {
      "text/html": [
       "<div>\n",
       "<style scoped>\n",
       "    .dataframe tbody tr th:only-of-type {\n",
       "        vertical-align: middle;\n",
       "    }\n",
       "\n",
       "    .dataframe tbody tr th {\n",
       "        vertical-align: top;\n",
       "    }\n",
       "\n",
       "    .dataframe thead th {\n",
       "        text-align: right;\n",
       "    }\n",
       "</style>\n",
       "<table border=\"1\" class=\"dataframe\">\n",
       "  <thead>\n",
       "    <tr style=\"text-align: right;\">\n",
       "      <th></th>\n",
       "      <th>Model</th>\n",
       "      <th>Accuracy</th>\n",
       "      <th>Precision</th>\n",
       "      <th>Recall</th>\n",
       "      <th>F1 Score</th>\n",
       "      <th>ROC AUC</th>\n",
       "    </tr>\n",
       "  </thead>\n",
       "  <tbody>\n",
       "    <tr>\n",
       "      <th>0</th>\n",
       "      <td>Random Forest Classifier - Manual Selection</td>\n",
       "      <td>0.679892 +/- 0.008532</td>\n",
       "      <td>0.675761 +/- 0.007878</td>\n",
       "      <td>0.678762 +/- 0.014942</td>\n",
       "      <td>0.677202 +/- 0.010132</td>\n",
       "      <td>0.738312 +/- 0.009012</td>\n",
       "    </tr>\n",
       "  </tbody>\n",
       "</table>\n",
       "</div>"
      ],
      "text/plain": [
       "                                         Model               Accuracy  \\\n",
       "0  Random Forest Classifier - Manual Selection  0.679892 +/- 0.008532   \n",
       "\n",
       "               Precision                 Recall               F1 Score  \\\n",
       "0  0.675761 +/- 0.007878  0.678762 +/- 0.014942  0.677202 +/- 0.010132   \n",
       "\n",
       "                 ROC AUC  \n",
       "0  0.738312 +/- 0.009012  "
      ]
     },
     "execution_count": 88,
     "metadata": {},
     "output_type": "execute_result"
    }
   ],
   "source": [
    "# select metrics of interest\n",
    "metrics = ('accuracy', 'precision', 'recall', 'f1', 'roc_auc')\n",
    "\n",
    "# cross validation of model\n",
    "scores  = cross_validate(model_rf_manual, x_train_manual, y_train, scoring=metrics, cv=10)\n",
    "\n",
    "# cross validation accuracy\n",
    "acc_cv_mean = np.round(scores['test_accuracy'].mean(), 6)\n",
    "acc_cv_std = np.round(scores['test_accuracy'].std(), 6)\n",
    "\n",
    "# cross validation precision\n",
    "prec_cv_mean = np.round(scores['test_precision'].mean(), 6)\n",
    "prec_cv_std = np.round(scores['test_precision'].std(), 6)\n",
    "\n",
    "# cross validation recall\n",
    "recall_cv_mean = np.round(scores['test_recall'].mean(), 6)\n",
    "recall_cv_std = np.round(scores['test_recall'].std(), 6)\n",
    "\n",
    "# cross validation F1 score\n",
    "f1_score_cv_mean = np.round(scores['test_f1'].mean(), 6)\n",
    "f1_score_cv_std = np.round(scores['test_f1'].std(), 6)\n",
    "\n",
    "# cross validation ROC-AUC\n",
    "roc_auc_cv_mean = np.round(scores['test_roc_auc'].mean(), 6)\n",
    "roc_auc_cv_std = np.round(scores['test_roc_auc'].std(), 6)\n",
    "\n",
    "# calculate mean and std and build dataframe for each metric\n",
    "rf_performance_cv_manual = pd.DataFrame({'Model': 'Random Forest Classifier - Manual Selection', \n",
    "                                         'Accuracy': f'{acc_cv_mean} +/- {acc_cv_std}', \n",
    "                                         'Precision': f'{prec_cv_mean} +/- {prec_cv_std}', \n",
    "                                         'Recall': f'{recall_cv_mean} +/- {recall_cv_std}', \n",
    "                                         'F1 Score': f'{f1_score_cv_mean} +/- {f1_score_cv_std}', \n",
    "                                         'ROC AUC': f'{roc_auc_cv_mean} +/- {roc_auc_cv_std}'}, \n",
    "                                        index=[0])\n",
    "\n",
    "# display model perfomance\n",
    "rf_performance_cv_manual"
   ]
  },
  {
   "cell_type": "markdown",
   "id": "338c43cb",
   "metadata": {},
   "source": [
    "#### 7.1.2.2. Random Forest Classifier - Cross-Validation - Boruta"
   ]
  },
  {
   "cell_type": "code",
   "execution_count": 89,
   "id": "edbf470d",
   "metadata": {
    "ExecuteTime": {
     "end_time": "2022-06-23T14:40:04.764289Z",
     "start_time": "2022-06-23T14:39:26.713058Z"
    }
   },
   "outputs": [
    {
     "data": {
      "text/html": [
       "<div>\n",
       "<style scoped>\n",
       "    .dataframe tbody tr th:only-of-type {\n",
       "        vertical-align: middle;\n",
       "    }\n",
       "\n",
       "    .dataframe tbody tr th {\n",
       "        vertical-align: top;\n",
       "    }\n",
       "\n",
       "    .dataframe thead th {\n",
       "        text-align: right;\n",
       "    }\n",
       "</style>\n",
       "<table border=\"1\" class=\"dataframe\">\n",
       "  <thead>\n",
       "    <tr style=\"text-align: right;\">\n",
       "      <th></th>\n",
       "      <th>Model</th>\n",
       "      <th>Accuracy</th>\n",
       "      <th>Precision</th>\n",
       "      <th>Recall</th>\n",
       "      <th>F1 Score</th>\n",
       "      <th>ROC AUC</th>\n",
       "    </tr>\n",
       "  </thead>\n",
       "  <tbody>\n",
       "    <tr>\n",
       "      <th>0</th>\n",
       "      <td>Random Forest Classifier - Boruta</td>\n",
       "      <td>0.684803 +/- 0.009332</td>\n",
       "      <td>0.686964 +/- 0.007534</td>\n",
       "      <td>0.666713 +/- 0.015946</td>\n",
       "      <td>0.676649 +/- 0.011612</td>\n",
       "      <td>0.746494 +/- 0.008264</td>\n",
       "    </tr>\n",
       "  </tbody>\n",
       "</table>\n",
       "</div>"
      ],
      "text/plain": [
       "                               Model               Accuracy  \\\n",
       "0  Random Forest Classifier - Boruta  0.684803 +/- 0.009332   \n",
       "\n",
       "               Precision                 Recall               F1 Score  \\\n",
       "0  0.686964 +/- 0.007534  0.666713 +/- 0.015946  0.676649 +/- 0.011612   \n",
       "\n",
       "                 ROC AUC  \n",
       "0  0.746494 +/- 0.008264  "
      ]
     },
     "execution_count": 89,
     "metadata": {},
     "output_type": "execute_result"
    }
   ],
   "source": [
    "# select metrics of interest\n",
    "metrics = ('accuracy', 'precision', 'recall', 'f1', 'roc_auc')\n",
    "\n",
    "# cross validation of model\n",
    "scores  = cross_validate(model_rf_boruta, x_train_boruta, y_train, scoring=metrics, cv=10)\n",
    "\n",
    "# cross validation accuracy\n",
    "acc_cv_mean = np.round(scores['test_accuracy'].mean(), 6)\n",
    "acc_cv_std = np.round(scores['test_accuracy'].std(), 6)\n",
    "\n",
    "# cross validation precision\n",
    "prec_cv_mean = np.round(scores['test_precision'].mean(), 6)\n",
    "prec_cv_std = np.round(scores['test_precision'].std(), 6)\n",
    "\n",
    "# cross validation recall\n",
    "recall_cv_mean = np.round(scores['test_recall'].mean(), 6)\n",
    "recall_cv_std = np.round(scores['test_recall'].std(), 6)\n",
    "\n",
    "# cross validation F1 score\n",
    "f1_score_cv_mean = np.round(scores['test_f1'].mean(), 6)\n",
    "f1_score_cv_std = np.round(scores['test_f1'].std(), 6)\n",
    "\n",
    "# cross validation ROC-AUC\n",
    "roc_auc_cv_mean = np.round(scores['test_roc_auc'].mean(), 6)\n",
    "roc_auc_cv_std = np.round(scores['test_roc_auc'].std(), 6)\n",
    "\n",
    "# calculate mean and std and build dataframe for each metric\n",
    "rf_performance_cv_boruta = pd.DataFrame({'Model': 'Random Forest Classifier - Boruta', \n",
    "                                         'Accuracy': f'{acc_cv_mean} +/- {acc_cv_std}', \n",
    "                                         'Precision': f'{prec_cv_mean} +/- {prec_cv_std}', \n",
    "                                         'Recall': f'{recall_cv_mean} +/- {recall_cv_std}', \n",
    "                                         'F1 Score': f'{f1_score_cv_mean} +/- {f1_score_cv_std}', \n",
    "                                         'ROC AUC': f'{roc_auc_cv_mean} +/- {roc_auc_cv_std}'}, \n",
    "                                        index=[0])\n",
    "\n",
    "# display model perfomance\n",
    "rf_performance_cv_boruta"
   ]
  },
  {
   "cell_type": "markdown",
   "id": "4e8da4b0",
   "metadata": {},
   "source": [
    "#### 7.1.2.3. Random Forest Classifier - Cross-Validation - PCA"
   ]
  },
  {
   "cell_type": "code",
   "execution_count": 90,
   "id": "813b6717",
   "metadata": {
    "ExecuteTime": {
     "end_time": "2022-06-23T14:41:27.935919Z",
     "start_time": "2022-06-23T14:40:04.768309Z"
    }
   },
   "outputs": [
    {
     "data": {
      "text/html": [
       "<div>\n",
       "<style scoped>\n",
       "    .dataframe tbody tr th:only-of-type {\n",
       "        vertical-align: middle;\n",
       "    }\n",
       "\n",
       "    .dataframe tbody tr th {\n",
       "        vertical-align: top;\n",
       "    }\n",
       "\n",
       "    .dataframe thead th {\n",
       "        text-align: right;\n",
       "    }\n",
       "</style>\n",
       "<table border=\"1\" class=\"dataframe\">\n",
       "  <thead>\n",
       "    <tr style=\"text-align: right;\">\n",
       "      <th></th>\n",
       "      <th>Model</th>\n",
       "      <th>Accuracy</th>\n",
       "      <th>Precision</th>\n",
       "      <th>Recall</th>\n",
       "      <th>F1 Score</th>\n",
       "      <th>ROC AUC</th>\n",
       "    </tr>\n",
       "  </thead>\n",
       "  <tbody>\n",
       "    <tr>\n",
       "      <th>0</th>\n",
       "      <td>Random Forest Classifier - PCA</td>\n",
       "      <td>0.689486 +/- 0.004097</td>\n",
       "      <td>0.689146 +/- 0.003445</td>\n",
       "      <td>0.67853 +/- 0.007138</td>\n",
       "      <td>0.683787 +/- 0.00501</td>\n",
       "      <td>0.743026 +/- 0.006235</td>\n",
       "    </tr>\n",
       "  </tbody>\n",
       "</table>\n",
       "</div>"
      ],
      "text/plain": [
       "                            Model               Accuracy  \\\n",
       "0  Random Forest Classifier - PCA  0.689486 +/- 0.004097   \n",
       "\n",
       "               Precision                Recall              F1 Score  \\\n",
       "0  0.689146 +/- 0.003445  0.67853 +/- 0.007138  0.683787 +/- 0.00501   \n",
       "\n",
       "                 ROC AUC  \n",
       "0  0.743026 +/- 0.006235  "
      ]
     },
     "execution_count": 90,
     "metadata": {},
     "output_type": "execute_result"
    }
   ],
   "source": [
    "# select metrics of interest\n",
    "metrics = ('accuracy', 'precision', 'recall', 'f1', 'roc_auc')\n",
    "\n",
    "# cross validation of model\n",
    "scores  = cross_validate(model_rf_pca, x_train_pca, y_train, scoring=metrics, cv=10)\n",
    "\n",
    "# cross validation accuracy\n",
    "acc_cv_mean = np.round(scores['test_accuracy'].mean(), 6)\n",
    "acc_cv_std = np.round(scores['test_accuracy'].std(), 6)\n",
    "\n",
    "# cross validation precision\n",
    "prec_cv_mean = np.round(scores['test_precision'].mean(), 6)\n",
    "prec_cv_std = np.round(scores['test_precision'].std(), 6)\n",
    "\n",
    "# cross validation recall\n",
    "recall_cv_mean = np.round(scores['test_recall'].mean(), 6)\n",
    "recall_cv_std = np.round(scores['test_recall'].std(), 6)\n",
    "\n",
    "# cross validation F1 score\n",
    "f1_score_cv_mean = np.round(scores['test_f1'].mean(), 6)\n",
    "f1_score_cv_std = np.round(scores['test_f1'].std(), 6)\n",
    "\n",
    "# cross validation ROC-AUC\n",
    "roc_auc_cv_mean = np.round(scores['test_roc_auc'].mean(), 6)\n",
    "roc_auc_cv_std = np.round(scores['test_roc_auc'].std(), 6)\n",
    "\n",
    "# calculate mean and std and build dataframe for each metric\n",
    "rf_performance_cv_pca = pd.DataFrame({'Model': 'Random Forest Classifier - PCA', \n",
    "                                      'Accuracy': f'{acc_cv_mean} +/- {acc_cv_std}', \n",
    "                                      'Precision': f'{prec_cv_mean} +/- {prec_cv_std}', \n",
    "                                      'Recall': f'{recall_cv_mean} +/- {recall_cv_std}', \n",
    "                                      'F1 Score': f'{f1_score_cv_mean} +/- {f1_score_cv_std}', \n",
    "                                      'ROC AUC': f'{roc_auc_cv_mean} +/- {roc_auc_cv_std}'}, \n",
    "                                     index=[0])\n",
    "\n",
    "# display model perfomance\n",
    "rf_performance_cv_pca"
   ]
  },
  {
   "cell_type": "markdown",
   "id": "b930827c",
   "metadata": {},
   "source": [
    "#### 7.1.2.4. Random Forest Classifier - Cross-Validation - Feature Importance"
   ]
  },
  {
   "cell_type": "code",
   "execution_count": 91,
   "id": "8e0b9913",
   "metadata": {
    "ExecuteTime": {
     "end_time": "2022-06-23T14:42:10.947812Z",
     "start_time": "2022-06-23T14:41:27.938898Z"
    }
   },
   "outputs": [
    {
     "data": {
      "text/html": [
       "<div>\n",
       "<style scoped>\n",
       "    .dataframe tbody tr th:only-of-type {\n",
       "        vertical-align: middle;\n",
       "    }\n",
       "\n",
       "    .dataframe tbody tr th {\n",
       "        vertical-align: top;\n",
       "    }\n",
       "\n",
       "    .dataframe thead th {\n",
       "        text-align: right;\n",
       "    }\n",
       "</style>\n",
       "<table border=\"1\" class=\"dataframe\">\n",
       "  <thead>\n",
       "    <tr style=\"text-align: right;\">\n",
       "      <th></th>\n",
       "      <th>Model</th>\n",
       "      <th>Accuracy</th>\n",
       "      <th>Precision</th>\n",
       "      <th>Recall</th>\n",
       "      <th>F1 Score</th>\n",
       "      <th>ROC AUC</th>\n",
       "    </tr>\n",
       "  </thead>\n",
       "  <tbody>\n",
       "    <tr>\n",
       "      <th>0</th>\n",
       "      <td>Random Forest Classifier - Feat. Importance</td>\n",
       "      <td>0.698394 +/- 0.010162</td>\n",
       "      <td>0.699611 +/- 0.009254</td>\n",
       "      <td>0.684208 +/- 0.0157</td>\n",
       "      <td>0.69178 +/- 0.011803</td>\n",
       "      <td>0.757667 +/- 0.009462</td>\n",
       "    </tr>\n",
       "  </tbody>\n",
       "</table>\n",
       "</div>"
      ],
      "text/plain": [
       "                                         Model               Accuracy  \\\n",
       "0  Random Forest Classifier - Feat. Importance  0.698394 +/- 0.010162   \n",
       "\n",
       "               Precision               Recall              F1 Score  \\\n",
       "0  0.699611 +/- 0.009254  0.684208 +/- 0.0157  0.69178 +/- 0.011803   \n",
       "\n",
       "                 ROC AUC  \n",
       "0  0.757667 +/- 0.009462  "
      ]
     },
     "execution_count": 91,
     "metadata": {},
     "output_type": "execute_result"
    }
   ],
   "source": [
    "# select metrics of interest\n",
    "metrics = ('accuracy', 'precision', 'recall', 'f1', 'roc_auc')\n",
    "\n",
    "# cross validation of model\n",
    "scores  = cross_validate(model_rf_feat_imp, x_train_feat_imp, y_train, scoring=metrics, cv=10)\n",
    "\n",
    "# cross validation accuracy\n",
    "acc_cv_mean = np.round(scores['test_accuracy'].mean(), 6)\n",
    "acc_cv_std = np.round(scores['test_accuracy'].std(), 6)\n",
    "\n",
    "# cross validation precision\n",
    "prec_cv_mean = np.round(scores['test_precision'].mean(), 6)\n",
    "prec_cv_std = np.round(scores['test_precision'].std(), 6)\n",
    "\n",
    "# cross validation recall\n",
    "recall_cv_mean = np.round(scores['test_recall'].mean(), 6)\n",
    "recall_cv_std = np.round(scores['test_recall'].std(), 6)\n",
    "\n",
    "# cross validation F1 score\n",
    "f1_score_cv_mean = np.round(scores['test_f1'].mean(), 6)\n",
    "f1_score_cv_std = np.round(scores['test_f1'].std(), 6)\n",
    "\n",
    "# cross validation ROC-AUC\n",
    "roc_auc_cv_mean = np.round(scores['test_roc_auc'].mean(), 6)\n",
    "roc_auc_cv_std = np.round(scores['test_roc_auc'].std(), 6)\n",
    "\n",
    "# calculate mean and std and build dataframe for each metric\n",
    "rf_performance_cv_feat_imp= pd.DataFrame({'Model': 'Random Forest Classifier - Feat. Importance', \n",
    "                                          'Accuracy': f'{acc_cv_mean} +/- {acc_cv_std}', \n",
    "                                          'Precision': f'{prec_cv_mean} +/- {prec_cv_std}', \n",
    "                                          'Recall': f'{recall_cv_mean} +/- {recall_cv_std}', \n",
    "                                          'F1 Score': f'{f1_score_cv_mean} +/- {f1_score_cv_std}', \n",
    "                                          'ROC AUC': f'{roc_auc_cv_mean} +/- {roc_auc_cv_std}'}, \n",
    "                                         index=[0])\n",
    "\n",
    "# display model perfomance\n",
    "rf_performance_cv_feat_imp"
   ]
  },
  {
   "cell_type": "markdown",
   "id": "3d3a17f0",
   "metadata": {},
   "source": [
    "#### 7.1.2.5. Random Forest Classifier - Cross-Validation - Performance Comparative"
   ]
  },
  {
   "cell_type": "code",
   "execution_count": 92,
   "id": "ba6b7c56",
   "metadata": {
    "ExecuteTime": {
     "end_time": "2022-06-23T14:42:10.978816Z",
     "start_time": "2022-06-23T14:42:10.951820Z"
    }
   },
   "outputs": [
    {
     "data": {
      "text/html": [
       "<style type=\"text/css\">\n",
       "#T_c849a_row0_col1, #T_c849a_row0_col2, #T_c849a_row0_col3, #T_c849a_row0_col4, #T_c849a_row0_col5, #T_c849a_row3_col0 {\n",
       "  background-color: darkorange;\n",
       "}\n",
       "</style>\n",
       "<table id=\"T_c849a\">\n",
       "  <thead>\n",
       "    <tr>\n",
       "      <th class=\"blank level0\" >&nbsp;</th>\n",
       "      <th id=\"T_c849a_level0_col0\" class=\"col_heading level0 col0\" >Model</th>\n",
       "      <th id=\"T_c849a_level0_col1\" class=\"col_heading level0 col1\" >Accuracy</th>\n",
       "      <th id=\"T_c849a_level0_col2\" class=\"col_heading level0 col2\" >Precision</th>\n",
       "      <th id=\"T_c849a_level0_col3\" class=\"col_heading level0 col3\" >Recall</th>\n",
       "      <th id=\"T_c849a_level0_col4\" class=\"col_heading level0 col4\" >F1 Score</th>\n",
       "      <th id=\"T_c849a_level0_col5\" class=\"col_heading level0 col5\" >ROC AUC</th>\n",
       "    </tr>\n",
       "  </thead>\n",
       "  <tbody>\n",
       "    <tr>\n",
       "      <th id=\"T_c849a_level0_row0\" class=\"row_heading level0 row0\" >0</th>\n",
       "      <td id=\"T_c849a_row0_col0\" class=\"data row0 col0\" >Random Forest Classifier</td>\n",
       "      <td id=\"T_c849a_row0_col1\" class=\"data row0 col1\" >0.706686 +/- 0.008776</td>\n",
       "      <td id=\"T_c849a_row0_col2\" class=\"data row0 col2\" >0.709775 +/- 0.007903</td>\n",
       "      <td id=\"T_c849a_row0_col3\" class=\"data row0 col3\" >0.688871 +/- 0.01349</td>\n",
       "      <td id=\"T_c849a_row0_col4\" class=\"data row0 col4\" >0.699138 +/- 0.010211</td>\n",
       "      <td id=\"T_c849a_row0_col5\" class=\"data row0 col5\" >0.76885 +/- 0.00822</td>\n",
       "    </tr>\n",
       "    <tr>\n",
       "      <th id=\"T_c849a_level0_row1\" class=\"row_heading level0 row1\" >1</th>\n",
       "      <td id=\"T_c849a_row1_col0\" class=\"data row1 col0\" >Random Forest Classifier - Manual Selection</td>\n",
       "      <td id=\"T_c849a_row1_col1\" class=\"data row1 col1\" >0.679892 +/- 0.008532</td>\n",
       "      <td id=\"T_c849a_row1_col2\" class=\"data row1 col2\" >0.675761 +/- 0.007878</td>\n",
       "      <td id=\"T_c849a_row1_col3\" class=\"data row1 col3\" >0.678762 +/- 0.014942</td>\n",
       "      <td id=\"T_c849a_row1_col4\" class=\"data row1 col4\" >0.677202 +/- 0.010132</td>\n",
       "      <td id=\"T_c849a_row1_col5\" class=\"data row1 col5\" >0.738312 +/- 0.009012</td>\n",
       "    </tr>\n",
       "    <tr>\n",
       "      <th id=\"T_c849a_level0_row2\" class=\"row_heading level0 row2\" >2</th>\n",
       "      <td id=\"T_c849a_row2_col0\" class=\"data row2 col0\" >Random Forest Classifier - Boruta</td>\n",
       "      <td id=\"T_c849a_row2_col1\" class=\"data row2 col1\" >0.684803 +/- 0.009332</td>\n",
       "      <td id=\"T_c849a_row2_col2\" class=\"data row2 col2\" >0.686964 +/- 0.007534</td>\n",
       "      <td id=\"T_c849a_row2_col3\" class=\"data row2 col3\" >0.666713 +/- 0.015946</td>\n",
       "      <td id=\"T_c849a_row2_col4\" class=\"data row2 col4\" >0.676649 +/- 0.011612</td>\n",
       "      <td id=\"T_c849a_row2_col5\" class=\"data row2 col5\" >0.746494 +/- 0.008264</td>\n",
       "    </tr>\n",
       "    <tr>\n",
       "      <th id=\"T_c849a_level0_row3\" class=\"row_heading level0 row3\" >3</th>\n",
       "      <td id=\"T_c849a_row3_col0\" class=\"data row3 col0\" >Random Forest Classifier - PCA</td>\n",
       "      <td id=\"T_c849a_row3_col1\" class=\"data row3 col1\" >0.689486 +/- 0.004097</td>\n",
       "      <td id=\"T_c849a_row3_col2\" class=\"data row3 col2\" >0.689146 +/- 0.003445</td>\n",
       "      <td id=\"T_c849a_row3_col3\" class=\"data row3 col3\" >0.67853 +/- 0.007138</td>\n",
       "      <td id=\"T_c849a_row3_col4\" class=\"data row3 col4\" >0.683787 +/- 0.00501</td>\n",
       "      <td id=\"T_c849a_row3_col5\" class=\"data row3 col5\" >0.743026 +/- 0.006235</td>\n",
       "    </tr>\n",
       "    <tr>\n",
       "      <th id=\"T_c849a_level0_row4\" class=\"row_heading level0 row4\" >4</th>\n",
       "      <td id=\"T_c849a_row4_col0\" class=\"data row4 col0\" >Random Forest Classifier - Feat. Importance</td>\n",
       "      <td id=\"T_c849a_row4_col1\" class=\"data row4 col1\" >0.698394 +/- 0.010162</td>\n",
       "      <td id=\"T_c849a_row4_col2\" class=\"data row4 col2\" >0.699611 +/- 0.009254</td>\n",
       "      <td id=\"T_c849a_row4_col3\" class=\"data row4 col3\" >0.684208 +/- 0.0157</td>\n",
       "      <td id=\"T_c849a_row4_col4\" class=\"data row4 col4\" >0.69178 +/- 0.011803</td>\n",
       "      <td id=\"T_c849a_row4_col5\" class=\"data row4 col5\" >0.757667 +/- 0.009462</td>\n",
       "    </tr>\n",
       "  </tbody>\n",
       "</table>\n"
      ],
      "text/plain": [
       "<pandas.io.formats.style.Styler at 0x2e7bb57c370>"
      ]
     },
     "execution_count": 92,
     "metadata": {},
     "output_type": "execute_result"
    }
   ],
   "source": [
    "# performance comparative\n",
    "comp_performance_cv = pd.concat([rf_performance_cv, \n",
    "                                 rf_performance_cv_manual, \n",
    "                                 rf_performance_cv_boruta, \n",
    "                                 rf_performance_cv_pca, \n",
    "                                 rf_performance_cv_feat_imp]).reset_index(drop=True)\n",
    "\n",
    "# display performance for each feature selection\n",
    "comp_performance_cv.style.highlight_max(color='darkorange')"
   ]
  },
  {
   "cell_type": "markdown",
   "id": "94d315e3",
   "metadata": {},
   "source": [
    "### 7.1.3. Test and Training Evaluation"
   ]
  },
  {
   "cell_type": "markdown",
   "id": "9a21dbae",
   "metadata": {},
   "source": [
    "#### 7.1.3.1. Data Test Preparation"
   ]
  },
  {
   "cell_type": "code",
   "execution_count": 93,
   "id": "f4773bcb",
   "metadata": {
    "ExecuteTime": {
     "end_time": "2022-06-23T14:42:12.744809Z",
     "start_time": "2022-06-23T14:42:10.983825Z"
    }
   },
   "outputs": [],
   "source": [
    "# create a copy of data test\n",
    "df_test = data_test.copy()\n",
    "\n",
    "# Data Change\n",
    "# convert age to years\n",
    "df_test['age'] = np.round(df_test['age']/365, 2)\n",
    "\n",
    "# convert gender to binary \n",
    "df_test['gender'] = df_test['gender'] - 1\n",
    "\n",
    "# Feature Engineering\n",
    "# body mass index (BMI)\n",
    "df_test['bmi'] =np.round(df_test['weight']/((df_test['height']/100)**2), 2)\n",
    "\n",
    "# blood pressure ratio (ap_hi/ap_lo)\n",
    "df_test['ap_hi/ap_lo'] = df_test[['ap_hi', 'ap_lo']].apply(lambda x: np.round(x['ap_hi']/x['ap_lo'], 2) \n",
    "                                                                              if x['ap_lo'] != 0 else 0, axis=1 )\n",
    "\n",
    "\n",
    "# people who smoke, drink and are not active\n",
    "df_test['bad_habits'] = df_test[['smoke', 'alco', 'active']].apply(lambda x: 1 if (x['smoke'] == 1) & \n",
    "                                                                                  (x['alco'] == 1) & \n",
    "                                                                                  (x['active'] == 0) else 0, \n",
    "                                                                   axis=1)\n",
    "\n",
    "# people who drink and are active\n",
    "df_test['drink_active'] = df_test[['alco', 'active']].apply(lambda x: 1 if (x['alco'] == 1) & \n",
    "                                                                           (x['active'] ==1) else 0, \n",
    "                                                            axis=1)\n",
    "# weight status based on BMI\n",
    "df_test['weight_status'] = df_test['bmi'].apply(lambda x: 'underweight' if x < 18.5 else \n",
    "                                                          'healthy'     if (x >= 18.5) & (x < 25) else \n",
    "                                                          'overweight'  if (x >= 25) & (x < 30) else \n",
    "                                                          'obesity')\n",
    "\n",
    "# blood pressure stages\n",
    "df_test['ap_stages'] = df_test[['ap_hi', 'ap_lo']].apply(lambda x: 'hp_crisis'  if (x['ap_hi'] > 180) | (x['ap_lo'] > 120) else\n",
    "                                                                   'hp_stage_2' if (x['ap_hi'] >= 140) | (x['ap_lo'] >= 90) else\n",
    "                                                                   'hp_stage_1' if (x['ap_hi'] >= 130) | (x['ap_lo'] >= 80) else \n",
    "                                                                   'elevated'   if (x['ap_hi'] >= 120) else \n",
    "                                                                   'normal', axis=1)\n",
    "\n",
    "# transformation cholesterol in categorical data\n",
    "df_test['cholesterol'] = df_test['cholesterol'].apply(lambda x: 'normal' if x == 1 else \n",
    "                                                                'above_normal' if x == 2 else \n",
    "                                                                'well_above_normal')\n",
    "\n",
    "# transformation glucose in categorical data\n",
    "df_test['gluc'] = df_test['gluc'].apply(lambda x: 'normal' if x == 1 else \n",
    "                                                  'above_normal' if x == 2 else \n",
    "                                                  'well_above_normal')\n",
    "\n",
    "\n",
    "# # Data Filtering\n",
    "# select columns\n",
    "df_test = df_test.drop(['id'], axis=1)\n",
    "\n",
    "\n",
    "# Rescale\n",
    "#load scaler\n",
    "age_scaler = pickle.load(open('../parameter/age_scaler.pkl', 'rb'))\n",
    "height_scaler = pickle.load(open('../parameter/height_scaler.pkl', 'rb'))\n",
    "weight_scaler = pickle.load(open('../parameter/weight_scaler.pkl', 'rb'))\n",
    "bmi_scaler = pickle.load(open('../parameter/bmi_scaler.pkl', 'rb'))\n",
    "ap_hi_scaler = pickle.load(open('../parameter/ap_hi_scaler.pkl', 'rb'))\n",
    "ap_lo_scaler = pickle.load(open('../parameter/ap_lo_scaler.pkl', 'rb'))\n",
    "ap_ratio_scaler = pickle.load(open('../parameter/ap_ratio_scaler.pkl', 'rb'))\n",
    "ap_stages_encoder = pickle.load(open('../parameter/ap_stages_encoder.pkl', 'rb'))\n",
    "weight_status_encoder = pickle.load(open('../parameter/weight_status_encoder.pkl', 'rb'))\n",
    "cholesterol_encoder = pickle.load(open('../parameter/cholesterol_encoder.pkl', 'rb'))\n",
    "gluc_encoder = pickle.load(open('../parameter/gluc_encoder.pkl', 'rb'))\n",
    "\n",
    "# rescale \n",
    "# age\n",
    "df_test['age'] = age_scaler.transform(df_test[['age']].values)\n",
    "\n",
    "# height\n",
    "df_test['height'] = height_scaler.transform(df_test[['height']].values)\n",
    "\n",
    "# weight\n",
    "df_test['weight'] = weight_scaler.transform(df_test[['weight']].values)\n",
    "\n",
    "# bmi\n",
    "df_test['bmi'] = bmi_scaler.transform(df_test[['bmi']].values)\n",
    "\n",
    "# ap_hi\n",
    "df_test['ap_hi'] = ap_hi_scaler.transform(df_test[['ap_hi']].values)\n",
    "\n",
    "# ap_lo\n",
    "df_test['ap_lo'] = ap_lo_scaler.transform(df_test[['ap_lo']].values)\n",
    "\n",
    "# ap_hi/ap_lo\n",
    "df_test['ap_hi/ap_lo'] = ap_ratio_scaler.transform(df_test[['ap_hi/ap_lo']].values)\n",
    "\n",
    "# encoding\n",
    "# blood pressure category\n",
    "df_test['ap_stages'] = ap_stages_encoder.transform(df_test[['ap_stages']].values)\n",
    "\n",
    "# BMI class\n",
    "df_test['weight_status'] = weight_status_encoder.transform(df_test[['weight_status']].values)\n",
    "\n",
    "# cholesterol\n",
    "df_test['cholesterol'] = cholesterol_encoder.transform(df_test[['cholesterol']].values)\n",
    "\n",
    "# glucose\n",
    "df_test['gluc'] = gluc_encoder.transform(df_test[['gluc']].values)"
   ]
  },
  {
   "cell_type": "code",
   "execution_count": 94,
   "id": "6f27f645",
   "metadata": {
    "ExecuteTime": {
     "end_time": "2022-06-23T14:42:12.792815Z",
     "start_time": "2022-06-23T14:42:12.747813Z"
    },
    "scrolled": false
   },
   "outputs": [
    {
     "data": {
      "text/html": [
       "<div>\n",
       "<style scoped>\n",
       "    .dataframe tbody tr th:only-of-type {\n",
       "        vertical-align: middle;\n",
       "    }\n",
       "\n",
       "    .dataframe tbody tr th {\n",
       "        vertical-align: top;\n",
       "    }\n",
       "\n",
       "    .dataframe thead th {\n",
       "        text-align: right;\n",
       "    }\n",
       "</style>\n",
       "<table border=\"1\" class=\"dataframe\">\n",
       "  <thead>\n",
       "    <tr style=\"text-align: right;\">\n",
       "      <th></th>\n",
       "      <th>27294</th>\n",
       "      <th>41664</th>\n",
       "      <th>58218</th>\n",
       "      <th>26161</th>\n",
       "      <th>42400</th>\n",
       "    </tr>\n",
       "  </thead>\n",
       "  <tbody>\n",
       "    <tr>\n",
       "      <th>age</th>\n",
       "      <td>0.654140</td>\n",
       "      <td>0.520769</td>\n",
       "      <td>0.762362</td>\n",
       "      <td>0.727324</td>\n",
       "      <td>0.913817</td>\n",
       "    </tr>\n",
       "    <tr>\n",
       "      <th>gender</th>\n",
       "      <td>1.000000</td>\n",
       "      <td>1.000000</td>\n",
       "      <td>0.000000</td>\n",
       "      <td>1.000000</td>\n",
       "      <td>0.000000</td>\n",
       "    </tr>\n",
       "    <tr>\n",
       "      <th>height</th>\n",
       "      <td>0.909091</td>\n",
       "      <td>1.454545</td>\n",
       "      <td>-0.454545</td>\n",
       "      <td>-0.454545</td>\n",
       "      <td>-1.181818</td>\n",
       "    </tr>\n",
       "    <tr>\n",
       "      <th>weight</th>\n",
       "      <td>1.647059</td>\n",
       "      <td>2.647059</td>\n",
       "      <td>0.470588</td>\n",
       "      <td>-0.411765</td>\n",
       "      <td>0.764706</td>\n",
       "    </tr>\n",
       "    <tr>\n",
       "      <th>ap_hi</th>\n",
       "      <td>0.500000</td>\n",
       "      <td>1.000000</td>\n",
       "      <td>1.000000</td>\n",
       "      <td>0.000000</td>\n",
       "      <td>0.500000</td>\n",
       "    </tr>\n",
       "    <tr>\n",
       "      <th>ap_lo</th>\n",
       "      <td>1.000000</td>\n",
       "      <td>1.000000</td>\n",
       "      <td>1.000000</td>\n",
       "      <td>0.000000</td>\n",
       "      <td>-1.000000</td>\n",
       "    </tr>\n",
       "    <tr>\n",
       "      <th>cholesterol</th>\n",
       "      <td>2.000000</td>\n",
       "      <td>1.000000</td>\n",
       "      <td>0.000000</td>\n",
       "      <td>1.000000</td>\n",
       "      <td>0.000000</td>\n",
       "    </tr>\n",
       "    <tr>\n",
       "      <th>gluc</th>\n",
       "      <td>2.000000</td>\n",
       "      <td>1.000000</td>\n",
       "      <td>1.000000</td>\n",
       "      <td>1.000000</td>\n",
       "      <td>0.000000</td>\n",
       "    </tr>\n",
       "    <tr>\n",
       "      <th>smoke</th>\n",
       "      <td>0.000000</td>\n",
       "      <td>0.000000</td>\n",
       "      <td>0.000000</td>\n",
       "      <td>0.000000</td>\n",
       "      <td>0.000000</td>\n",
       "    </tr>\n",
       "    <tr>\n",
       "      <th>alco</th>\n",
       "      <td>0.000000</td>\n",
       "      <td>0.000000</td>\n",
       "      <td>0.000000</td>\n",
       "      <td>0.000000</td>\n",
       "      <td>0.000000</td>\n",
       "    </tr>\n",
       "    <tr>\n",
       "      <th>active</th>\n",
       "      <td>1.000000</td>\n",
       "      <td>1.000000</td>\n",
       "      <td>0.000000</td>\n",
       "      <td>1.000000</td>\n",
       "      <td>1.000000</td>\n",
       "    </tr>\n",
       "    <tr>\n",
       "      <th>cardio</th>\n",
       "      <td>1.000000</td>\n",
       "      <td>1.000000</td>\n",
       "      <td>1.000000</td>\n",
       "      <td>0.000000</td>\n",
       "      <td>1.000000</td>\n",
       "    </tr>\n",
       "    <tr>\n",
       "      <th>bmi</th>\n",
       "      <td>0.271393</td>\n",
       "      <td>0.313357</td>\n",
       "      <td>0.252194</td>\n",
       "      <td>0.171832</td>\n",
       "      <td>0.328168</td>\n",
       "    </tr>\n",
       "    <tr>\n",
       "      <th>ap_hi/ap_lo</th>\n",
       "      <td>0.129252</td>\n",
       "      <td>0.170068</td>\n",
       "      <td>0.170068</td>\n",
       "      <td>0.149660</td>\n",
       "      <td>0.272109</td>\n",
       "    </tr>\n",
       "    <tr>\n",
       "      <th>bad_habits</th>\n",
       "      <td>0.000000</td>\n",
       "      <td>0.000000</td>\n",
       "      <td>0.000000</td>\n",
       "      <td>0.000000</td>\n",
       "      <td>0.000000</td>\n",
       "    </tr>\n",
       "    <tr>\n",
       "      <th>drink_active</th>\n",
       "      <td>0.000000</td>\n",
       "      <td>0.000000</td>\n",
       "      <td>0.000000</td>\n",
       "      <td>0.000000</td>\n",
       "      <td>0.000000</td>\n",
       "    </tr>\n",
       "    <tr>\n",
       "      <th>weight_status</th>\n",
       "      <td>1.000000</td>\n",
       "      <td>1.000000</td>\n",
       "      <td>1.000000</td>\n",
       "      <td>2.000000</td>\n",
       "      <td>1.000000</td>\n",
       "    </tr>\n",
       "    <tr>\n",
       "      <th>ap_stages</th>\n",
       "      <td>3.000000</td>\n",
       "      <td>3.000000</td>\n",
       "      <td>3.000000</td>\n",
       "      <td>2.000000</td>\n",
       "      <td>2.000000</td>\n",
       "    </tr>\n",
       "  </tbody>\n",
       "</table>\n",
       "</div>"
      ],
      "text/plain": [
       "                  27294     41664     58218     26161     42400\n",
       "age            0.654140  0.520769  0.762362  0.727324  0.913817\n",
       "gender         1.000000  1.000000  0.000000  1.000000  0.000000\n",
       "height         0.909091  1.454545 -0.454545 -0.454545 -1.181818\n",
       "weight         1.647059  2.647059  0.470588 -0.411765  0.764706\n",
       "ap_hi          0.500000  1.000000  1.000000  0.000000  0.500000\n",
       "ap_lo          1.000000  1.000000  1.000000  0.000000 -1.000000\n",
       "cholesterol    2.000000  1.000000  0.000000  1.000000  0.000000\n",
       "gluc           2.000000  1.000000  1.000000  1.000000  0.000000\n",
       "smoke          0.000000  0.000000  0.000000  0.000000  0.000000\n",
       "alco           0.000000  0.000000  0.000000  0.000000  0.000000\n",
       "active         1.000000  1.000000  0.000000  1.000000  1.000000\n",
       "cardio         1.000000  1.000000  1.000000  0.000000  1.000000\n",
       "bmi            0.271393  0.313357  0.252194  0.171832  0.328168\n",
       "ap_hi/ap_lo    0.129252  0.170068  0.170068  0.149660  0.272109\n",
       "bad_habits     0.000000  0.000000  0.000000  0.000000  0.000000\n",
       "drink_active   0.000000  0.000000  0.000000  0.000000  0.000000\n",
       "weight_status  1.000000  1.000000  1.000000  2.000000  1.000000\n",
       "ap_stages      3.000000  3.000000  3.000000  2.000000  2.000000"
      ]
     },
     "execution_count": 94,
     "metadata": {},
     "output_type": "execute_result"
    }
   ],
   "source": [
    "df_test.sample(5).T"
   ]
  },
  {
   "cell_type": "code",
   "execution_count": 95,
   "id": "821a6dcd",
   "metadata": {
    "ExecuteTime": {
     "end_time": "2022-06-23T14:42:12.840809Z",
     "start_time": "2022-06-23T14:42:12.796814Z"
    }
   },
   "outputs": [],
   "source": [
    "# select data for machine learning models\n",
    "x_test = df_test.drop(['cardio'], axis=1)\n",
    "y_test = df_test['cardio'].copy()\n",
    "\n",
    "# manual feature selection\n",
    "x_test_manual = df_test[manual_selection].copy()\n",
    "\n",
    "# boruta feature selection\n",
    "x_test_boruta = df_test[cols_selected_boruta].copy()\n",
    "\n",
    "# pca feature selection\n",
    "x_test_pca = pca.transform(x_test)\n",
    "\n",
    "# importance feature selection\n",
    "x_test_feat_imp = df_test[feat_list].copy()"
   ]
  },
  {
   "cell_type": "markdown",
   "id": "f1d1c074",
   "metadata": {
    "ExecuteTime": {
     "end_time": "2022-05-24T12:39:08.322371Z",
     "start_time": "2022-05-24T12:39:08.306375Z"
    }
   },
   "source": [
    "#### 7.1.3.2. Data Test Performance"
   ]
  },
  {
   "cell_type": "code",
   "execution_count": 96,
   "id": "4859222f",
   "metadata": {
    "ExecuteTime": {
     "end_time": "2022-06-23T14:42:13.060820Z",
     "start_time": "2022-06-23T14:42:12.845821Z"
    }
   },
   "outputs": [
    {
     "data": {
      "text/html": [
       "<div>\n",
       "<style scoped>\n",
       "    .dataframe tbody tr th:only-of-type {\n",
       "        vertical-align: middle;\n",
       "    }\n",
       "\n",
       "    .dataframe tbody tr th {\n",
       "        vertical-align: top;\n",
       "    }\n",
       "\n",
       "    .dataframe thead th {\n",
       "        text-align: right;\n",
       "    }\n",
       "</style>\n",
       "<table border=\"1\" class=\"dataframe\">\n",
       "  <thead>\n",
       "    <tr style=\"text-align: right;\">\n",
       "      <th></th>\n",
       "      <th>Model</th>\n",
       "      <th>Accuracy</th>\n",
       "      <th>Precision</th>\n",
       "      <th>Recall</th>\n",
       "      <th>F1-Score</th>\n",
       "      <th>ROC-AUC</th>\n",
       "    </tr>\n",
       "  </thead>\n",
       "  <tbody>\n",
       "    <tr>\n",
       "      <th>0</th>\n",
       "      <td>Random Forest Classifier</td>\n",
       "      <td>0.518643</td>\n",
       "      <td>0.512356</td>\n",
       "      <td>0.807188</td>\n",
       "      <td>0.626834</td>\n",
       "      <td>0.518147</td>\n",
       "    </tr>\n",
       "  </tbody>\n",
       "</table>\n",
       "</div>"
      ],
      "text/plain": [
       "                      Model  Accuracy Precision    Recall  F1-Score   ROC-AUC\n",
       "0  Random Forest Classifier  0.518643  0.512356  0.807188  0.626834  0.518147"
      ]
     },
     "execution_count": 96,
     "metadata": {},
     "output_type": "execute_result"
    }
   ],
   "source": [
    "# prediction\n",
    "pred_rf = model_rf.predict(x_test)\n",
    "\n",
    "# evaluate performance of model\n",
    "rf_performance_test = pd.DataFrame(['Random Forest Classifier',\n",
    "                                    accuracy_score(y_test, pred_rf), \n",
    "                                    precision_score(y_test, pred_rf), \n",
    "                                    recall_score(y_test, pred_rf), \n",
    "                                    f1_score(y_test, pred_rf),\n",
    "                                    roc_auc_score(y_test, pred_rf)]).T\n",
    "\n",
    "# set metris as columns name\n",
    "rf_performance_test.columns = ['Model', 'Accuracy', 'Precision', 'Recall', 'F1-Score', 'ROC-AUC']\n",
    "\n",
    "# display performance\n",
    "rf_performance_test"
   ]
  },
  {
   "cell_type": "code",
   "execution_count": 97,
   "id": "1ba85a12",
   "metadata": {
    "ExecuteTime": {
     "end_time": "2022-06-23T14:42:13.456813Z",
     "start_time": "2022-06-23T14:42:13.064816Z"
    }
   },
   "outputs": [
    {
     "data": {
      "text/html": [
       "<div>\n",
       "<style scoped>\n",
       "    .dataframe tbody tr th:only-of-type {\n",
       "        vertical-align: middle;\n",
       "    }\n",
       "\n",
       "    .dataframe tbody tr th {\n",
       "        vertical-align: top;\n",
       "    }\n",
       "\n",
       "    .dataframe thead th {\n",
       "        text-align: right;\n",
       "    }\n",
       "</style>\n",
       "<table border=\"1\" class=\"dataframe\">\n",
       "  <thead>\n",
       "    <tr style=\"text-align: right;\">\n",
       "      <th></th>\n",
       "      <th>Model</th>\n",
       "      <th>Accuracy</th>\n",
       "      <th>Precision</th>\n",
       "      <th>Recall</th>\n",
       "      <th>F1-Score</th>\n",
       "      <th>ROC-AUC</th>\n",
       "    </tr>\n",
       "  </thead>\n",
       "  <tbody>\n",
       "    <tr>\n",
       "      <th>0</th>\n",
       "      <td>Random Forest Classifier - Manual Selection</td>\n",
       "      <td>0.678429</td>\n",
       "      <td>0.67696</td>\n",
       "      <td>0.684683</td>\n",
       "      <td>0.6808</td>\n",
       "      <td>0.678418</td>\n",
       "    </tr>\n",
       "  </tbody>\n",
       "</table>\n",
       "</div>"
      ],
      "text/plain": [
       "                                         Model  Accuracy Precision    Recall  \\\n",
       "0  Random Forest Classifier - Manual Selection  0.678429   0.67696  0.684683   \n",
       "\n",
       "  F1-Score   ROC-AUC  \n",
       "0   0.6808  0.678418  "
      ]
     },
     "execution_count": 97,
     "metadata": {},
     "output_type": "execute_result"
    }
   ],
   "source": [
    "# prediction\n",
    "pred_rf = model_rf_manual.predict(x_test_manual)\n",
    "\n",
    "# evaluate performance of model\n",
    "rf_performance_manual_test = pd.DataFrame(['Random Forest Classifier - Manual Selection',\n",
    "                                           accuracy_score(y_test, pred_rf), \n",
    "                                           precision_score(y_test, pred_rf), \n",
    "                                           recall_score(y_test, pred_rf), \n",
    "                                           f1_score(y_test, pred_rf),\n",
    "                                           roc_auc_score(y_test, pred_rf)]).T\n",
    "\n",
    "# set metris as columns name\n",
    "rf_performance_manual_test.columns = ['Model', 'Accuracy', 'Precision', 'Recall', 'F1-Score', 'ROC-AUC']\n",
    "\n",
    "# display performance\n",
    "rf_performance_manual_test"
   ]
  },
  {
   "cell_type": "code",
   "execution_count": 98,
   "id": "ef4745b0",
   "metadata": {
    "ExecuteTime": {
     "end_time": "2022-06-23T14:42:13.758812Z",
     "start_time": "2022-06-23T14:42:13.461813Z"
    }
   },
   "outputs": [
    {
     "data": {
      "text/html": [
       "<div>\n",
       "<style scoped>\n",
       "    .dataframe tbody tr th:only-of-type {\n",
       "        vertical-align: middle;\n",
       "    }\n",
       "\n",
       "    .dataframe tbody tr th {\n",
       "        vertical-align: top;\n",
       "    }\n",
       "\n",
       "    .dataframe thead th {\n",
       "        text-align: right;\n",
       "    }\n",
       "</style>\n",
       "<table border=\"1\" class=\"dataframe\">\n",
       "  <thead>\n",
       "    <tr style=\"text-align: right;\">\n",
       "      <th></th>\n",
       "      <th>Model</th>\n",
       "      <th>Accuracy</th>\n",
       "      <th>Precision</th>\n",
       "      <th>Recall</th>\n",
       "      <th>F1-Score</th>\n",
       "      <th>ROC-AUC</th>\n",
       "    </tr>\n",
       "  </thead>\n",
       "  <tbody>\n",
       "    <tr>\n",
       "      <th>0</th>\n",
       "      <td>Random Forest Classifier - Boruta</td>\n",
       "      <td>0.686214</td>\n",
       "      <td>0.691981</td>\n",
       "      <td>0.673132</td>\n",
       "      <td>0.682426</td>\n",
       "      <td>0.686237</td>\n",
       "    </tr>\n",
       "  </tbody>\n",
       "</table>\n",
       "</div>"
      ],
      "text/plain": [
       "                               Model  Accuracy Precision    Recall  F1-Score  \\\n",
       "0  Random Forest Classifier - Boruta  0.686214  0.691981  0.673132  0.682426   \n",
       "\n",
       "    ROC-AUC  \n",
       "0  0.686237  "
      ]
     },
     "execution_count": 98,
     "metadata": {},
     "output_type": "execute_result"
    }
   ],
   "source": [
    "# prediction\n",
    "pred_rf = model_rf_boruta.predict(x_test_boruta)\n",
    "\n",
    "# evaluate performance of model\n",
    "rf_performance_boruta_test = pd.DataFrame(['Random Forest Classifier - Boruta',\n",
    "                                           accuracy_score(y_test, pred_rf), \n",
    "                                           precision_score(y_test, pred_rf), \n",
    "                                           recall_score(y_test, pred_rf), \n",
    "                                           f1_score(y_test, pred_rf),\n",
    "                                           roc_auc_score(y_test, pred_rf)]).T\n",
    "\n",
    "# set metris as columns name\n",
    "rf_performance_boruta_test.columns = ['Model', 'Accuracy', 'Precision', 'Recall', 'F1-Score', 'ROC-AUC']\n",
    "\n",
    "# display performance\n",
    "rf_performance_boruta_test"
   ]
  },
  {
   "cell_type": "code",
   "execution_count": 99,
   "id": "25a0d839",
   "metadata": {
    "ExecuteTime": {
     "end_time": "2022-06-23T14:42:13.933812Z",
     "start_time": "2022-06-23T14:42:13.761816Z"
    }
   },
   "outputs": [
    {
     "data": {
      "text/html": [
       "<div>\n",
       "<style scoped>\n",
       "    .dataframe tbody tr th:only-of-type {\n",
       "        vertical-align: middle;\n",
       "    }\n",
       "\n",
       "    .dataframe tbody tr th {\n",
       "        vertical-align: top;\n",
       "    }\n",
       "\n",
       "    .dataframe thead th {\n",
       "        text-align: right;\n",
       "    }\n",
       "</style>\n",
       "<table border=\"1\" class=\"dataframe\">\n",
       "  <thead>\n",
       "    <tr style=\"text-align: right;\">\n",
       "      <th></th>\n",
       "      <th>Model</th>\n",
       "      <th>Accuracy</th>\n",
       "      <th>Precision</th>\n",
       "      <th>Recall</th>\n",
       "      <th>F1-Score</th>\n",
       "      <th>ROC-AUC</th>\n",
       "    </tr>\n",
       "  </thead>\n",
       "  <tbody>\n",
       "    <tr>\n",
       "      <th>0</th>\n",
       "      <td>Random Forest Classifier - PCA</td>\n",
       "      <td>0.502429</td>\n",
       "      <td>0.502323</td>\n",
       "      <td>0.709355</td>\n",
       "      <td>0.588152</td>\n",
       "      <td>0.502073</td>\n",
       "    </tr>\n",
       "  </tbody>\n",
       "</table>\n",
       "</div>"
      ],
      "text/plain": [
       "                            Model  Accuracy Precision    Recall  F1-Score  \\\n",
       "0  Random Forest Classifier - PCA  0.502429  0.502323  0.709355  0.588152   \n",
       "\n",
       "    ROC-AUC  \n",
       "0  0.502073  "
      ]
     },
     "execution_count": 99,
     "metadata": {},
     "output_type": "execute_result"
    }
   ],
   "source": [
    "# prediction\n",
    "pred_rf = model_rf_pca.predict(x_test_pca)\n",
    "\n",
    "# evaluate performance of model\n",
    "rf_performance_pca_test = pd.DataFrame(['Random Forest Classifier - PCA',\n",
    "                                        accuracy_score(y_test, pred_rf), \n",
    "                                        precision_score(y_test, pred_rf), \n",
    "                                        recall_score(y_test, pred_rf), \n",
    "                                        f1_score(y_test, pred_rf),\n",
    "                                        roc_auc_score(y_test, pred_rf)]).T\n",
    "\n",
    "# set metris as columns name\n",
    "rf_performance_pca_test.columns = ['Model', 'Accuracy', 'Precision', 'Recall', 'F1-Score', 'ROC-AUC']\n",
    "\n",
    "# display performance\n",
    "rf_performance_pca_test"
   ]
  },
  {
   "cell_type": "code",
   "execution_count": 100,
   "id": "c046dcf4",
   "metadata": {
    "ExecuteTime": {
     "end_time": "2022-06-23T14:42:14.232822Z",
     "start_time": "2022-06-23T14:42:13.936826Z"
    }
   },
   "outputs": [
    {
     "data": {
      "text/html": [
       "<div>\n",
       "<style scoped>\n",
       "    .dataframe tbody tr th:only-of-type {\n",
       "        vertical-align: middle;\n",
       "    }\n",
       "\n",
       "    .dataframe tbody tr th {\n",
       "        vertical-align: top;\n",
       "    }\n",
       "\n",
       "    .dataframe thead th {\n",
       "        text-align: right;\n",
       "    }\n",
       "</style>\n",
       "<table border=\"1\" class=\"dataframe\">\n",
       "  <thead>\n",
       "    <tr style=\"text-align: right;\">\n",
       "      <th></th>\n",
       "      <th>Model</th>\n",
       "      <th>Accuracy</th>\n",
       "      <th>Precision</th>\n",
       "      <th>Recall</th>\n",
       "      <th>F1-Score</th>\n",
       "      <th>ROC-AUC</th>\n",
       "    </tr>\n",
       "  </thead>\n",
       "  <tbody>\n",
       "    <tr>\n",
       "      <th>0</th>\n",
       "      <td>Random Forest Classifier - Feat. Importance</td>\n",
       "      <td>0.698286</td>\n",
       "      <td>0.701678</td>\n",
       "      <td>0.691671</td>\n",
       "      <td>0.696639</td>\n",
       "      <td>0.698297</td>\n",
       "    </tr>\n",
       "  </tbody>\n",
       "</table>\n",
       "</div>"
      ],
      "text/plain": [
       "                                         Model  Accuracy Precision    Recall  \\\n",
       "0  Random Forest Classifier - Feat. Importance  0.698286  0.701678  0.691671   \n",
       "\n",
       "   F1-Score   ROC-AUC  \n",
       "0  0.696639  0.698297  "
      ]
     },
     "execution_count": 100,
     "metadata": {},
     "output_type": "execute_result"
    }
   ],
   "source": [
    "# prediction\n",
    "pred_rf = model_rf_feat_imp.predict(x_test_feat_imp)\n",
    "\n",
    "# evaluate performance of model\n",
    "rf_performance_feat_test = pd.DataFrame(['Random Forest Classifier - Feat. Importance',\n",
    "                                         accuracy_score(y_test, pred_rf), \n",
    "                                         precision_score(y_test, pred_rf), \n",
    "                                         recall_score(y_test, pred_rf), \n",
    "                                         f1_score(y_test, pred_rf),\n",
    "                                         roc_auc_score(y_test, pred_rf)]).T\n",
    "\n",
    "# set metris as columns name\n",
    "rf_performance_feat_test.columns = ['Model', 'Accuracy', 'Precision', 'Recall', 'F1-Score', 'ROC-AUC']\n",
    "\n",
    "# display performance\n",
    "rf_performance_feat_test"
   ]
  },
  {
   "cell_type": "markdown",
   "id": "910712f2",
   "metadata": {},
   "source": [
    "#### 7.1.3.3. Performance Analysis "
   ]
  },
  {
   "cell_type": "code",
   "execution_count": 101,
   "id": "144e4ca2",
   "metadata": {
    "ExecuteTime": {
     "end_time": "2022-06-23T14:42:14.264812Z",
     "start_time": "2022-06-23T14:42:14.235820Z"
    }
   },
   "outputs": [
    {
     "data": {
      "text/html": [
       "<style type=\"text/css\">\n",
       "#T_ad664_row0_col3, #T_ad664_row3_col0, #T_ad664_row4_col1, #T_ad664_row4_col2, #T_ad664_row4_col4, #T_ad664_row4_col5 {\n",
       "  background-color: darkorange;\n",
       "}\n",
       "</style>\n",
       "<table id=\"T_ad664\">\n",
       "  <thead>\n",
       "    <tr>\n",
       "      <th class=\"blank level0\" >&nbsp;</th>\n",
       "      <th id=\"T_ad664_level0_col0\" class=\"col_heading level0 col0\" >Model</th>\n",
       "      <th id=\"T_ad664_level0_col1\" class=\"col_heading level0 col1\" >Accuracy</th>\n",
       "      <th id=\"T_ad664_level0_col2\" class=\"col_heading level0 col2\" >Precision</th>\n",
       "      <th id=\"T_ad664_level0_col3\" class=\"col_heading level0 col3\" >Recall</th>\n",
       "      <th id=\"T_ad664_level0_col4\" class=\"col_heading level0 col4\" >F1-Score</th>\n",
       "      <th id=\"T_ad664_level0_col5\" class=\"col_heading level0 col5\" >ROC-AUC</th>\n",
       "    </tr>\n",
       "  </thead>\n",
       "  <tbody>\n",
       "    <tr>\n",
       "      <th id=\"T_ad664_level0_row0\" class=\"row_heading level0 row0\" >0</th>\n",
       "      <td id=\"T_ad664_row0_col0\" class=\"data row0 col0\" >Random Forest Classifier</td>\n",
       "      <td id=\"T_ad664_row0_col1\" class=\"data row0 col1\" >0.518643</td>\n",
       "      <td id=\"T_ad664_row0_col2\" class=\"data row0 col2\" >0.512356</td>\n",
       "      <td id=\"T_ad664_row0_col3\" class=\"data row0 col3\" >0.807188</td>\n",
       "      <td id=\"T_ad664_row0_col4\" class=\"data row0 col4\" >0.626834</td>\n",
       "      <td id=\"T_ad664_row0_col5\" class=\"data row0 col5\" >0.518147</td>\n",
       "    </tr>\n",
       "    <tr>\n",
       "      <th id=\"T_ad664_level0_row1\" class=\"row_heading level0 row1\" >1</th>\n",
       "      <td id=\"T_ad664_row1_col0\" class=\"data row1 col0\" >Random Forest Classifier - Manual Selection</td>\n",
       "      <td id=\"T_ad664_row1_col1\" class=\"data row1 col1\" >0.678429</td>\n",
       "      <td id=\"T_ad664_row1_col2\" class=\"data row1 col2\" >0.676960</td>\n",
       "      <td id=\"T_ad664_row1_col3\" class=\"data row1 col3\" >0.684683</td>\n",
       "      <td id=\"T_ad664_row1_col4\" class=\"data row1 col4\" >0.680800</td>\n",
       "      <td id=\"T_ad664_row1_col5\" class=\"data row1 col5\" >0.678418</td>\n",
       "    </tr>\n",
       "    <tr>\n",
       "      <th id=\"T_ad664_level0_row2\" class=\"row_heading level0 row2\" >2</th>\n",
       "      <td id=\"T_ad664_row2_col0\" class=\"data row2 col0\" >Random Forest Classifier - Boruta</td>\n",
       "      <td id=\"T_ad664_row2_col1\" class=\"data row2 col1\" >0.686214</td>\n",
       "      <td id=\"T_ad664_row2_col2\" class=\"data row2 col2\" >0.691981</td>\n",
       "      <td id=\"T_ad664_row2_col3\" class=\"data row2 col3\" >0.673132</td>\n",
       "      <td id=\"T_ad664_row2_col4\" class=\"data row2 col4\" >0.682426</td>\n",
       "      <td id=\"T_ad664_row2_col5\" class=\"data row2 col5\" >0.686237</td>\n",
       "    </tr>\n",
       "    <tr>\n",
       "      <th id=\"T_ad664_level0_row3\" class=\"row_heading level0 row3\" >3</th>\n",
       "      <td id=\"T_ad664_row3_col0\" class=\"data row3 col0\" >Random Forest Classifier - PCA</td>\n",
       "      <td id=\"T_ad664_row3_col1\" class=\"data row3 col1\" >0.502429</td>\n",
       "      <td id=\"T_ad664_row3_col2\" class=\"data row3 col2\" >0.502323</td>\n",
       "      <td id=\"T_ad664_row3_col3\" class=\"data row3 col3\" >0.709355</td>\n",
       "      <td id=\"T_ad664_row3_col4\" class=\"data row3 col4\" >0.588152</td>\n",
       "      <td id=\"T_ad664_row3_col5\" class=\"data row3 col5\" >0.502073</td>\n",
       "    </tr>\n",
       "    <tr>\n",
       "      <th id=\"T_ad664_level0_row4\" class=\"row_heading level0 row4\" >4</th>\n",
       "      <td id=\"T_ad664_row4_col0\" class=\"data row4 col0\" >Random Forest Classifier - Feat. Importance</td>\n",
       "      <td id=\"T_ad664_row4_col1\" class=\"data row4 col1\" >0.698286</td>\n",
       "      <td id=\"T_ad664_row4_col2\" class=\"data row4 col2\" >0.701678</td>\n",
       "      <td id=\"T_ad664_row4_col3\" class=\"data row4 col3\" >0.691671</td>\n",
       "      <td id=\"T_ad664_row4_col4\" class=\"data row4 col4\" >0.696639</td>\n",
       "      <td id=\"T_ad664_row4_col5\" class=\"data row4 col5\" >0.698297</td>\n",
       "    </tr>\n",
       "  </tbody>\n",
       "</table>\n"
      ],
      "text/plain": [
       "<pandas.io.formats.style.Styler at 0x2e7be125eb0>"
      ]
     },
     "execution_count": 101,
     "metadata": {},
     "output_type": "execute_result"
    }
   ],
   "source": [
    "feat_selection_perf = pd.concat([rf_performance_test, \n",
    "                                 rf_performance_manual_test, \n",
    "                                 rf_performance_boruta_test, \n",
    "                                 rf_performance_pca_test, \n",
    "                                 rf_performance_feat_test]).reset_index(drop=True)\n",
    "\n",
    "# display performance\n",
    "feat_selection_perf.style.highlight_max(color='darkorange')"
   ]
  },
  {
   "cell_type": "markdown",
   "id": "c9afd074",
   "metadata": {},
   "source": [
    "- Evaluating the performance of the models to the test dataset for each feature selection, the selection by feature importance achieved the best metrics and will be adopted for the project."
   ]
  },
  {
   "cell_type": "markdown",
   "id": "d3158a3e",
   "metadata": {},
   "source": [
    "#### 7.1.3.4. Generalization Capacity Analysis"
   ]
  },
  {
   "cell_type": "code",
   "execution_count": 102,
   "id": "ae741272",
   "metadata": {
    "ExecuteTime": {
     "end_time": "2022-06-23T14:42:14.375818Z",
     "start_time": "2022-06-23T14:42:14.267816Z"
    }
   },
   "outputs": [
    {
     "data": {
      "text/html": [
       "<div>\n",
       "<style scoped>\n",
       "    .dataframe tbody tr th:only-of-type {\n",
       "        vertical-align: middle;\n",
       "    }\n",
       "\n",
       "    .dataframe tbody tr th {\n",
       "        vertical-align: top;\n",
       "    }\n",
       "\n",
       "    .dataframe thead th {\n",
       "        text-align: right;\n",
       "    }\n",
       "</style>\n",
       "<table border=\"1\" class=\"dataframe\">\n",
       "  <thead>\n",
       "    <tr style=\"text-align: right;\">\n",
       "      <th></th>\n",
       "      <th>Model</th>\n",
       "      <th>Accuracy</th>\n",
       "      <th>Precision</th>\n",
       "      <th>Recall</th>\n",
       "      <th>F1-Score</th>\n",
       "      <th>ROC-AUC</th>\n",
       "    </tr>\n",
       "  </thead>\n",
       "  <tbody>\n",
       "    <tr>\n",
       "      <th>0</th>\n",
       "      <td>Random Forest Classifier</td>\n",
       "      <td>0.716857</td>\n",
       "      <td>0.718171</td>\n",
       "      <td>0.69446</td>\n",
       "      <td>0.706117</td>\n",
       "      <td>0.71641</td>\n",
       "    </tr>\n",
       "    <tr>\n",
       "      <th>1</th>\n",
       "      <td>Random Forest Classifier</td>\n",
       "      <td>0.518643</td>\n",
       "      <td>0.512356</td>\n",
       "      <td>0.807188</td>\n",
       "      <td>0.626834</td>\n",
       "      <td>0.518147</td>\n",
       "    </tr>\n",
       "  </tbody>\n",
       "</table>\n",
       "</div>"
      ],
      "text/plain": [
       "                      Model  Accuracy Precision    Recall  F1-Score   ROC-AUC\n",
       "0  Random Forest Classifier  0.716857  0.718171   0.69446  0.706117   0.71641\n",
       "1  Random Forest Classifier  0.518643  0.512356  0.807188  0.626834  0.518147"
      ]
     },
     "execution_count": 102,
     "metadata": {},
     "output_type": "execute_result"
    }
   ],
   "source": [
    "pd.concat([rf_performance, rf_performance_test]).reset_index(drop=True)"
   ]
  },
  {
   "cell_type": "code",
   "execution_count": 103,
   "id": "bb03cf0d",
   "metadata": {
    "ExecuteTime": {
     "end_time": "2022-06-23T14:42:14.407811Z",
     "start_time": "2022-06-23T14:42:14.380817Z"
    }
   },
   "outputs": [
    {
     "data": {
      "text/html": [
       "<div>\n",
       "<style scoped>\n",
       "    .dataframe tbody tr th:only-of-type {\n",
       "        vertical-align: middle;\n",
       "    }\n",
       "\n",
       "    .dataframe tbody tr th {\n",
       "        vertical-align: top;\n",
       "    }\n",
       "\n",
       "    .dataframe thead th {\n",
       "        text-align: right;\n",
       "    }\n",
       "</style>\n",
       "<table border=\"1\" class=\"dataframe\">\n",
       "  <thead>\n",
       "    <tr style=\"text-align: right;\">\n",
       "      <th></th>\n",
       "      <th>Model</th>\n",
       "      <th>Accuracy</th>\n",
       "      <th>Precision</th>\n",
       "      <th>Recall</th>\n",
       "      <th>F1-Score</th>\n",
       "      <th>ROC-AUC</th>\n",
       "    </tr>\n",
       "  </thead>\n",
       "  <tbody>\n",
       "    <tr>\n",
       "      <th>0</th>\n",
       "      <td>Random Forest Classifier - Manual Selection</td>\n",
       "      <td>0.673824</td>\n",
       "      <td>0.667102</td>\n",
       "      <td>0.666853</td>\n",
       "      <td>0.666978</td>\n",
       "      <td>0.673684</td>\n",
       "    </tr>\n",
       "    <tr>\n",
       "      <th>1</th>\n",
       "      <td>Random Forest Classifier - Manual Selection</td>\n",
       "      <td>0.678429</td>\n",
       "      <td>0.67696</td>\n",
       "      <td>0.684683</td>\n",
       "      <td>0.6808</td>\n",
       "      <td>0.678418</td>\n",
       "    </tr>\n",
       "  </tbody>\n",
       "</table>\n",
       "</div>"
      ],
      "text/plain": [
       "                                         Model  Accuracy Precision    Recall  \\\n",
       "0  Random Forest Classifier - Manual Selection  0.673824  0.667102  0.666853   \n",
       "1  Random Forest Classifier - Manual Selection  0.678429   0.67696  0.684683   \n",
       "\n",
       "   F1-Score   ROC-AUC  \n",
       "0  0.666978  0.673684  \n",
       "1    0.6808  0.678418  "
      ]
     },
     "execution_count": 103,
     "metadata": {},
     "output_type": "execute_result"
    }
   ],
   "source": [
    "# manual selection\n",
    "df_manual_over = pd.concat([rf_performance_manual,rf_performance_manual_test]).reset_index(drop=True)\n",
    "\n",
    "df_manual_over"
   ]
  },
  {
   "cell_type": "code",
   "execution_count": 104,
   "id": "b3db0a07",
   "metadata": {
    "ExecuteTime": {
     "end_time": "2022-06-23T14:42:14.439813Z",
     "start_time": "2022-06-23T14:42:14.411818Z"
    }
   },
   "outputs": [
    {
     "data": {
      "text/html": [
       "<div>\n",
       "<style scoped>\n",
       "    .dataframe tbody tr th:only-of-type {\n",
       "        vertical-align: middle;\n",
       "    }\n",
       "\n",
       "    .dataframe tbody tr th {\n",
       "        vertical-align: top;\n",
       "    }\n",
       "\n",
       "    .dataframe thead th {\n",
       "        text-align: right;\n",
       "    }\n",
       "</style>\n",
       "<table border=\"1\" class=\"dataframe\">\n",
       "  <thead>\n",
       "    <tr style=\"text-align: right;\">\n",
       "      <th></th>\n",
       "      <th>Model</th>\n",
       "      <th>Accuracy</th>\n",
       "      <th>Precision</th>\n",
       "      <th>Recall</th>\n",
       "      <th>F1-Score</th>\n",
       "      <th>ROC-AUC</th>\n",
       "    </tr>\n",
       "  </thead>\n",
       "  <tbody>\n",
       "    <tr>\n",
       "      <th>0</th>\n",
       "      <td>Random Forest Classifier - Boruta</td>\n",
       "      <td>0.686067</td>\n",
       "      <td>0.683859</td>\n",
       "      <td>0.667786</td>\n",
       "      <td>0.675727</td>\n",
       "      <td>0.685702</td>\n",
       "    </tr>\n",
       "    <tr>\n",
       "      <th>1</th>\n",
       "      <td>Random Forest Classifier - Boruta</td>\n",
       "      <td>0.686214</td>\n",
       "      <td>0.691981</td>\n",
       "      <td>0.673132</td>\n",
       "      <td>0.682426</td>\n",
       "      <td>0.686237</td>\n",
       "    </tr>\n",
       "  </tbody>\n",
       "</table>\n",
       "</div>"
      ],
      "text/plain": [
       "                               Model  Accuracy Precision    Recall  F1-Score  \\\n",
       "0  Random Forest Classifier - Boruta  0.686067  0.683859  0.667786  0.675727   \n",
       "1  Random Forest Classifier - Boruta  0.686214  0.691981  0.673132  0.682426   \n",
       "\n",
       "    ROC-AUC  \n",
       "0  0.685702  \n",
       "1  0.686237  "
      ]
     },
     "execution_count": 104,
     "metadata": {},
     "output_type": "execute_result"
    }
   ],
   "source": [
    "# boruta\n",
    "df_boruta_over = pd.concat([rf_performance_boruta,rf_performance_boruta_test]).reset_index(drop=True)\n",
    "\n",
    "df_boruta_over"
   ]
  },
  {
   "cell_type": "code",
   "execution_count": 105,
   "id": "c98273fe",
   "metadata": {
    "ExecuteTime": {
     "end_time": "2022-06-23T14:42:14.471815Z",
     "start_time": "2022-06-23T14:42:14.443815Z"
    }
   },
   "outputs": [
    {
     "data": {
      "text/html": [
       "<div>\n",
       "<style scoped>\n",
       "    .dataframe tbody tr th:only-of-type {\n",
       "        vertical-align: middle;\n",
       "    }\n",
       "\n",
       "    .dataframe tbody tr th {\n",
       "        vertical-align: top;\n",
       "    }\n",
       "\n",
       "    .dataframe thead th {\n",
       "        text-align: right;\n",
       "    }\n",
       "</style>\n",
       "<table border=\"1\" class=\"dataframe\">\n",
       "  <thead>\n",
       "    <tr style=\"text-align: right;\">\n",
       "      <th></th>\n",
       "      <th>Model</th>\n",
       "      <th>Accuracy</th>\n",
       "      <th>Precision</th>\n",
       "      <th>Recall</th>\n",
       "      <th>F1-Score</th>\n",
       "      <th>ROC-AUC</th>\n",
       "    </tr>\n",
       "  </thead>\n",
       "  <tbody>\n",
       "    <tr>\n",
       "      <th>0</th>\n",
       "      <td>Random Forest Classifier - PCA</td>\n",
       "      <td>0.696665</td>\n",
       "      <td>0.691212</td>\n",
       "      <td>0.688118</td>\n",
       "      <td>0.689662</td>\n",
       "      <td>0.696494</td>\n",
       "    </tr>\n",
       "    <tr>\n",
       "      <th>1</th>\n",
       "      <td>Random Forest Classifier - PCA</td>\n",
       "      <td>0.502429</td>\n",
       "      <td>0.502323</td>\n",
       "      <td>0.709355</td>\n",
       "      <td>0.588152</td>\n",
       "      <td>0.502073</td>\n",
       "    </tr>\n",
       "  </tbody>\n",
       "</table>\n",
       "</div>"
      ],
      "text/plain": [
       "                            Model  Accuracy Precision    Recall  F1-Score  \\\n",
       "0  Random Forest Classifier - PCA  0.696665  0.691212  0.688118  0.689662   \n",
       "1  Random Forest Classifier - PCA  0.502429  0.502323  0.709355  0.588152   \n",
       "\n",
       "    ROC-AUC  \n",
       "0  0.696494  \n",
       "1  0.502073  "
      ]
     },
     "execution_count": 105,
     "metadata": {},
     "output_type": "execute_result"
    }
   ],
   "source": [
    "# pca\n",
    "df_pca_over = pd.concat([rf_performance_pca,rf_performance_pca_test]).reset_index(drop=True)\n",
    "\n",
    "df_pca_over"
   ]
  },
  {
   "cell_type": "code",
   "execution_count": 107,
   "id": "a4e7ac61",
   "metadata": {
    "ExecuteTime": {
     "end_time": "2022-06-23T14:46:58.907155Z",
     "start_time": "2022-06-23T14:46:58.867149Z"
    }
   },
   "outputs": [
    {
     "data": {
      "text/html": [
       "<div>\n",
       "<style scoped>\n",
       "    .dataframe tbody tr th:only-of-type {\n",
       "        vertical-align: middle;\n",
       "    }\n",
       "\n",
       "    .dataframe tbody tr th {\n",
       "        vertical-align: top;\n",
       "    }\n",
       "\n",
       "    .dataframe thead th {\n",
       "        text-align: right;\n",
       "    }\n",
       "</style>\n",
       "<table border=\"1\" class=\"dataframe\">\n",
       "  <thead>\n",
       "    <tr style=\"text-align: right;\">\n",
       "      <th></th>\n",
       "      <th>Model</th>\n",
       "      <th>Accuracy</th>\n",
       "      <th>Precision</th>\n",
       "      <th>Recall</th>\n",
       "      <th>F1-Score</th>\n",
       "      <th>ROC-AUC</th>\n",
       "    </tr>\n",
       "  </thead>\n",
       "  <tbody>\n",
       "    <tr>\n",
       "      <th>0</th>\n",
       "      <td>Random Forest Classifier - Feat. Importance</td>\n",
       "      <td>0.705345</td>\n",
       "      <td>0.70281</td>\n",
       "      <td>0.690356</td>\n",
       "      <td>0.696528</td>\n",
       "      <td>0.705046</td>\n",
       "    </tr>\n",
       "    <tr>\n",
       "      <th>1</th>\n",
       "      <td>Random Forest Classifier - Feat. Importance</td>\n",
       "      <td>0.698286</td>\n",
       "      <td>0.701678</td>\n",
       "      <td>0.691671</td>\n",
       "      <td>0.696639</td>\n",
       "      <td>0.698297</td>\n",
       "    </tr>\n",
       "  </tbody>\n",
       "</table>\n",
       "</div>"
      ],
      "text/plain": [
       "                                         Model  Accuracy Precision    Recall  \\\n",
       "0  Random Forest Classifier - Feat. Importance  0.705345   0.70281  0.690356   \n",
       "1  Random Forest Classifier - Feat. Importance  0.698286  0.701678  0.691671   \n",
       "\n",
       "   F1-Score   ROC-AUC  \n",
       "0  0.696528  0.705046  \n",
       "1  0.696639  0.698297  "
      ]
     },
     "execution_count": 107,
     "metadata": {},
     "output_type": "execute_result"
    }
   ],
   "source": [
    "# features importance\n",
    "df_feat_imp_over = pd.concat([rf_performance_feat_imp,rf_performance_feat_test]).reset_index(drop=True)\n",
    "\n",
    "df_feat_imp_over"
   ]
  },
  {
   "cell_type": "markdown",
   "id": "36e084e8",
   "metadata": {},
   "source": [
    "- Comparing the performances for the training and test datasets, the importance selection presented the closest match between the two results, demonstrating the best generalization ability of the model."
   ]
  }
 ],
 "metadata": {
  "kernelspec": {
   "display_name": "Python 3 (ipykernel)",
   "language": "python",
   "name": "python3"
  },
  "language_info": {
   "codemirror_mode": {
    "name": "ipython",
    "version": 3
   },
   "file_extension": ".py",
   "mimetype": "text/x-python",
   "name": "python",
   "nbconvert_exporter": "python",
   "pygments_lexer": "ipython3",
   "version": "3.9.12"
  },
  "toc": {
   "base_numbering": 1,
   "nav_menu": {},
   "number_sections": false,
   "sideBar": true,
   "skip_h1_title": false,
   "title_cell": "Table of Contents",
   "title_sidebar": "Contents",
   "toc_cell": false,
   "toc_position": {
    "height": "calc(100% - 180px)",
    "left": "10px",
    "top": "150px",
    "width": "267.188px"
   },
   "toc_section_display": true,
   "toc_window_display": true
  },
  "varInspector": {
   "cols": {
    "lenName": 16,
    "lenType": 16,
    "lenVar": 40
   },
   "kernels_config": {
    "python": {
     "delete_cmd_postfix": "",
     "delete_cmd_prefix": "del ",
     "library": "var_list.py",
     "varRefreshCmd": "print(var_dic_list())"
    },
    "r": {
     "delete_cmd_postfix": ") ",
     "delete_cmd_prefix": "rm(",
     "library": "var_list.r",
     "varRefreshCmd": "cat(var_dic_list()) "
    }
   },
   "types_to_exclude": [
    "module",
    "function",
    "builtin_function_or_method",
    "instance",
    "_Feature"
   ],
   "window_display": false
  }
 },
 "nbformat": 4,
 "nbformat_minor": 5
}
