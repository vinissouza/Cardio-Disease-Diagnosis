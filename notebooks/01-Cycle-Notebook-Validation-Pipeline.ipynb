{
 "cells": [
  {
   "cell_type": "markdown",
   "id": "508f8264",
   "metadata": {},
   "source": [
    "# Business Context"
   ]
  },
  {
   "cell_type": "markdown",
   "id": "71a87e22",
   "metadata": {},
   "source": [
    "Cardio Catch Disease is a company specialized in detecting cardiac diseases at early stages.\n",
    "\n",
    "- **Business Model:** The price of the diagnosis varies according to the accuracy achieved by the team of specialists, the client pays R$500 for each 5% accuracy above 50%.\n",
    "\n",
    "\n",
    "- **Actual Scenario:** The current diagnostic accuracy varies between 55% and 65%, due to the complexity of the diagnosis, at a cost of R$1000.\n",
    "\n",
    "\n",
    "- **Main Goal:** Create a disease diagnosis tool with stable accuracy. \n",
    "\n",
    "\n",
    "- **Secundary Goals:** Delivery a report ansewirng the follow questions:\n",
    "    1. How accurate and precise is the tool?\n",
    "    2. How much profit Cardio Catch Diseases will make with the new tool?\n",
    "    3. How reliable are the results given by the new tool?\n",
    "    \n",
    "\n",
    "Business Project reference: https://sejaumdatascientist.com/projeto-de-data-science-diagnostico-precoce-de-doencas-cardiovasculares/\n",
    "\n",
    "Data Source: https://www.kaggle.com/sulianova/cardiovascular-disease-dataset"
   ]
  },
  {
   "cell_type": "markdown",
   "id": "c7e0f464",
   "metadata": {},
   "source": [
    "# 0.0. Imports"
   ]
  },
  {
   "cell_type": "code",
   "execution_count": 1,
   "id": "456775c9",
   "metadata": {
    "ExecuteTime": {
     "end_time": "2022-06-23T14:09:15.489571Z",
     "start_time": "2022-06-23T14:09:03.872369Z"
    }
   },
   "outputs": [],
   "source": [
    "# data manipulation\n",
    "import numpy as np\n",
    "import pandas as pd\n",
    "\n",
    "# stratified sampling\n",
    "from sklearn import model_selection as ms\n",
    "\n",
    "# machine learning models\n",
    "from sklearn.ensemble import RandomForestClassifier\n",
    "\n",
    "# model evaluation\n",
    "from sklearn.metrics import accuracy_score"
   ]
  },
  {
   "cell_type": "markdown",
   "id": "34a81805",
   "metadata": {
    "ExecuteTime": {
     "end_time": "2022-05-11T13:06:59.400290Z",
     "start_time": "2022-05-11T13:06:59.381295Z"
    }
   },
   "source": [
    "## 0.1. Auxiliar Functions"
   ]
  },
  {
   "cell_type": "code",
   "execution_count": null,
   "id": "d775b334",
   "metadata": {},
   "outputs": [],
   "source": []
  },
  {
   "cell_type": "markdown",
   "id": "d93c4eb6",
   "metadata": {
    "ExecuteTime": {
     "end_time": "2022-05-11T13:07:49.715823Z",
     "start_time": "2022-05-11T13:07:49.701817Z"
    }
   },
   "source": [
    "## 0.2. Load Data"
   ]
  },
  {
   "cell_type": "code",
   "execution_count": 2,
   "id": "40986380",
   "metadata": {
    "ExecuteTime": {
     "end_time": "2022-06-23T14:09:15.743582Z",
     "start_time": "2022-06-23T14:09:15.494579Z"
    }
   },
   "outputs": [],
   "source": [
    "data_raw = pd.read_csv('../datasets/cardio_train.csv', sep=';')"
   ]
  },
  {
   "cell_type": "markdown",
   "id": "2bbd5c7a",
   "metadata": {},
   "source": [
    "## 0.3. Split Data into Train and Test"
   ]
  },
  {
   "cell_type": "code",
   "execution_count": 3,
   "id": "8baa11b8",
   "metadata": {
    "ExecuteTime": {
     "end_time": "2022-06-23T14:09:15.808611Z",
     "start_time": "2022-06-23T14:09:15.750572Z"
    }
   },
   "outputs": [],
   "source": [
    "data_train, data_test = ms.train_test_split(data_raw, test_size=0.2, random_state=42)"
   ]
  },
  {
   "cell_type": "markdown",
   "id": "42231977",
   "metadata": {},
   "source": [
    "# 1.0. Data Description"
   ]
  },
  {
   "cell_type": "code",
   "execution_count": 4,
   "id": "ed73b19c",
   "metadata": {
    "ExecuteTime": {
     "end_time": "2022-06-23T14:09:15.853574Z",
     "start_time": "2022-06-23T14:09:15.822580Z"
    }
   },
   "outputs": [],
   "source": [
    "df01 = data_train.copy()"
   ]
  },
  {
   "cell_type": "markdown",
   "id": "821bb378",
   "metadata": {},
   "source": [
    "## 1.1. Data Types"
   ]
  },
  {
   "cell_type": "code",
   "execution_count": 5,
   "id": "3a540417",
   "metadata": {
    "ExecuteTime": {
     "end_time": "2022-06-23T14:09:15.900576Z",
     "start_time": "2022-06-23T14:09:15.861571Z"
    }
   },
   "outputs": [
    {
     "data": {
      "text/plain": [
       "id               int64\n",
       "age              int64\n",
       "gender           int64\n",
       "height           int64\n",
       "weight         float64\n",
       "ap_hi            int64\n",
       "ap_lo            int64\n",
       "cholesterol      int64\n",
       "gluc             int64\n",
       "smoke            int64\n",
       "alco             int64\n",
       "active           int64\n",
       "cardio           int64\n",
       "dtype: object"
      ]
     },
     "execution_count": 5,
     "metadata": {},
     "output_type": "execute_result"
    }
   ],
   "source": [
    "df01.dtypes"
   ]
  },
  {
   "cell_type": "markdown",
   "id": "99b7cfa6",
   "metadata": {},
   "source": [
    "## 1.2. Data Dimensions"
   ]
  },
  {
   "cell_type": "code",
   "execution_count": 6,
   "id": "dd8ccc23",
   "metadata": {
    "ExecuteTime": {
     "end_time": "2022-06-23T14:09:15.932582Z",
     "start_time": "2022-06-23T14:09:15.906583Z"
    }
   },
   "outputs": [
    {
     "name": "stdout",
     "output_type": "stream",
     "text": [
      "Number of rows: 56000\n",
      "Number of columns: 13\n"
     ]
    }
   ],
   "source": [
    "print(f'Number of rows: {df01.shape[0]}')\n",
    "print(f'Number of columns: {df01.shape[1]}')"
   ]
  },
  {
   "cell_type": "markdown",
   "id": "2665d83c",
   "metadata": {},
   "source": [
    "## 1.3. Check NA"
   ]
  },
  {
   "cell_type": "code",
   "execution_count": 7,
   "id": "2364922f",
   "metadata": {
    "ExecuteTime": {
     "end_time": "2022-06-23T14:09:15.965580Z",
     "start_time": "2022-06-23T14:09:15.939571Z"
    }
   },
   "outputs": [
    {
     "data": {
      "text/plain": [
       "id             0\n",
       "age            0\n",
       "gender         0\n",
       "height         0\n",
       "weight         0\n",
       "ap_hi          0\n",
       "ap_lo          0\n",
       "cholesterol    0\n",
       "gluc           0\n",
       "smoke          0\n",
       "alco           0\n",
       "active         0\n",
       "cardio         0\n",
       "dtype: int64"
      ]
     },
     "execution_count": 7,
     "metadata": {},
     "output_type": "execute_result"
    }
   ],
   "source": [
    "df01.isna().sum()"
   ]
  },
  {
   "cell_type": "markdown",
   "id": "f0f4fada",
   "metadata": {},
   "source": [
    "## 1.4. Fillout NA"
   ]
  },
  {
   "cell_type": "code",
   "execution_count": null,
   "id": "8d590b29",
   "metadata": {},
   "outputs": [],
   "source": []
  },
  {
   "cell_type": "markdown",
   "id": "eafc8911",
   "metadata": {},
   "source": [
    "## 1.5. Change Data Type"
   ]
  },
  {
   "cell_type": "code",
   "execution_count": null,
   "id": "4d73f385",
   "metadata": {},
   "outputs": [],
   "source": []
  },
  {
   "cell_type": "markdown",
   "id": "0c3c26c7",
   "metadata": {},
   "source": [
    "## 1.6. Check Balance Data"
   ]
  },
  {
   "cell_type": "code",
   "execution_count": 8,
   "id": "65684d06",
   "metadata": {
    "ExecuteTime": {
     "end_time": "2022-06-23T14:09:16.013570Z",
     "start_time": "2022-06-23T14:09:15.976574Z"
    }
   },
   "outputs": [
    {
     "data": {
      "text/plain": [
       "0    0.500589\n",
       "1    0.499411\n",
       "Name: cardio, dtype: float64"
      ]
     },
     "execution_count": 8,
     "metadata": {},
     "output_type": "execute_result"
    }
   ],
   "source": [
    "df01['cardio'].value_counts(normalize=True)"
   ]
  },
  {
   "cell_type": "markdown",
   "id": "f84477f0",
   "metadata": {},
   "source": [
    "## 1.7. Descriptive Analysis"
   ]
  },
  {
   "cell_type": "code",
   "execution_count": 9,
   "id": "0575ea53",
   "metadata": {
    "ExecuteTime": {
     "end_time": "2022-06-23T14:09:16.044572Z",
     "start_time": "2022-06-23T14:09:16.022576Z"
    }
   },
   "outputs": [],
   "source": [
    "# select numeric attributes\n",
    "num_attributes = df01[['age', 'height', 'weight', 'ap_hi', 'ap_lo']]\n",
    "\n",
    "# select categoric attributes (include binary and status attributes)\n",
    "cat_attributes = df01[['gender', 'cholesterol', 'gluc', 'smoke', 'alco', 'active', 'cardio']]"
   ]
  },
  {
   "cell_type": "markdown",
   "id": "4bfcf7b3",
   "metadata": {},
   "source": [
    "### 1.7.1. Numerical Attributes"
   ]
  },
  {
   "cell_type": "code",
   "execution_count": 10,
   "id": "251ae095",
   "metadata": {
    "ExecuteTime": {
     "end_time": "2022-06-23T14:09:16.390101Z",
     "start_time": "2022-06-23T14:09:16.054575Z"
    }
   },
   "outputs": [
    {
     "data": {
      "text/html": [
       "<div>\n",
       "<style scoped>\n",
       "    .dataframe tbody tr th:only-of-type {\n",
       "        vertical-align: middle;\n",
       "    }\n",
       "\n",
       "    .dataframe tbody tr th {\n",
       "        vertical-align: top;\n",
       "    }\n",
       "\n",
       "    .dataframe thead th {\n",
       "        text-align: right;\n",
       "    }\n",
       "</style>\n",
       "<table border=\"1\" class=\"dataframe\">\n",
       "  <thead>\n",
       "    <tr style=\"text-align: right;\">\n",
       "      <th></th>\n",
       "      <th>attributes</th>\n",
       "      <th>min</th>\n",
       "      <th>max</th>\n",
       "      <th>range</th>\n",
       "      <th>mean</th>\n",
       "      <th>median</th>\n",
       "      <th>skew</th>\n",
       "      <th>kurtosis</th>\n",
       "    </tr>\n",
       "  </thead>\n",
       "  <tbody>\n",
       "    <tr>\n",
       "      <th>0</th>\n",
       "      <td>age</td>\n",
       "      <td>10798.0</td>\n",
       "      <td>23713.0</td>\n",
       "      <td>12915.0</td>\n",
       "      <td>19464.929107</td>\n",
       "      <td>19699.0</td>\n",
       "      <td>-0.305523</td>\n",
       "      <td>-0.823461</td>\n",
       "    </tr>\n",
       "    <tr>\n",
       "      <th>1</th>\n",
       "      <td>height</td>\n",
       "      <td>55.0</td>\n",
       "      <td>250.0</td>\n",
       "      <td>195.0</td>\n",
       "      <td>164.348125</td>\n",
       "      <td>165.0</td>\n",
       "      <td>-0.594831</td>\n",
       "      <td>7.616794</td>\n",
       "    </tr>\n",
       "    <tr>\n",
       "      <th>2</th>\n",
       "      <td>weight</td>\n",
       "      <td>22.0</td>\n",
       "      <td>200.0</td>\n",
       "      <td>178.0</td>\n",
       "      <td>74.188586</td>\n",
       "      <td>72.0</td>\n",
       "      <td>1.015661</td>\n",
       "      <td>2.630229</td>\n",
       "    </tr>\n",
       "    <tr>\n",
       "      <th>3</th>\n",
       "      <td>ap_hi</td>\n",
       "      <td>-140.0</td>\n",
       "      <td>14020.0</td>\n",
       "      <td>14160.0</td>\n",
       "      <td>128.737893</td>\n",
       "      <td>120.0</td>\n",
       "      <td>85.641414</td>\n",
       "      <td>7642.334178</td>\n",
       "    </tr>\n",
       "    <tr>\n",
       "      <th>4</th>\n",
       "      <td>ap_lo</td>\n",
       "      <td>0.0</td>\n",
       "      <td>11000.0</td>\n",
       "      <td>11000.0</td>\n",
       "      <td>97.025536</td>\n",
       "      <td>80.0</td>\n",
       "      <td>31.969044</td>\n",
       "      <td>1369.195570</td>\n",
       "    </tr>\n",
       "  </tbody>\n",
       "</table>\n",
       "</div>"
      ],
      "text/plain": [
       "  attributes      min      max    range          mean   median       skew  \\\n",
       "0        age  10798.0  23713.0  12915.0  19464.929107  19699.0  -0.305523   \n",
       "1     height     55.0    250.0    195.0    164.348125    165.0  -0.594831   \n",
       "2     weight     22.0    200.0    178.0     74.188586     72.0   1.015661   \n",
       "3      ap_hi   -140.0  14020.0  14160.0    128.737893    120.0  85.641414   \n",
       "4      ap_lo      0.0  11000.0  11000.0     97.025536     80.0  31.969044   \n",
       "\n",
       "      kurtosis  \n",
       "0    -0.823461  \n",
       "1     7.616794  \n",
       "2     2.630229  \n",
       "3  7642.334178  \n",
       "4  1369.195570  "
      ]
     },
     "execution_count": 10,
     "metadata": {},
     "output_type": "execute_result"
    }
   ],
   "source": [
    "# central tendency - mean, median\n",
    "mean = pd.DataFrame(num_attributes.apply(np.mean)).T\n",
    "median = pd.DataFrame(num_attributes.apply(np.median)).T\n",
    "\n",
    "# dispersion - std, min, max, range, skew, kurtosis\n",
    "std = pd.DataFrame(num_attributes.apply(np.std)).T\n",
    "min_ = pd.DataFrame(num_attributes.apply(min)).T\n",
    "max_ = pd.DataFrame(num_attributes.apply(max)).T\n",
    "range_ = pd.DataFrame(num_attributes.apply(lambda x: x.max() - x.min())).T\n",
    "skew = pd.DataFrame(num_attributes.apply(lambda x: x.skew())).T\n",
    "kurtosis = pd.DataFrame(num_attributes.apply(lambda x: x.kurtosis())).T\n",
    "\n",
    "# join dataframes\n",
    "num_stats = pd.concat([min_, max_, range_, mean, median, skew, kurtosis]).T.reset_index()\n",
    "num_stats.columns = ['attributes', 'min', 'max', 'range', 'mean', 'median', 'skew', 'kurtosis']\n",
    "\n",
    "# display numerical analysis\n",
    "num_stats"
   ]
  },
  {
   "cell_type": "markdown",
   "id": "5fa6c1d3",
   "metadata": {
    "ExecuteTime": {
     "end_time": "2022-05-11T13:48:00.650342Z",
     "start_time": "2022-05-11T13:48:00.638341Z"
    }
   },
   "source": [
    "### 1.7.2. Categorical Attributes"
   ]
  },
  {
   "cell_type": "code",
   "execution_count": 11,
   "id": "5a9d6f7f",
   "metadata": {
    "ExecuteTime": {
     "end_time": "2022-06-23T14:09:16.565088Z",
     "start_time": "2022-06-23T14:09:16.395090Z"
    }
   },
   "outputs": [
    {
     "data": {
      "text/html": [
       "<div>\n",
       "<style scoped>\n",
       "    .dataframe tbody tr th:only-of-type {\n",
       "        vertical-align: middle;\n",
       "    }\n",
       "\n",
       "    .dataframe tbody tr th {\n",
       "        vertical-align: top;\n",
       "    }\n",
       "\n",
       "    .dataframe thead th {\n",
       "        text-align: right;\n",
       "    }\n",
       "</style>\n",
       "<table border=\"1\" class=\"dataframe\">\n",
       "  <thead>\n",
       "    <tr style=\"text-align: right;\">\n",
       "      <th></th>\n",
       "      <th>gender</th>\n",
       "      <th>cholesterol</th>\n",
       "      <th>gluc</th>\n",
       "      <th>smoke</th>\n",
       "      <th>alco</th>\n",
       "      <th>active</th>\n",
       "      <th>cardio</th>\n",
       "    </tr>\n",
       "  </thead>\n",
       "  <tbody>\n",
       "    <tr>\n",
       "      <th>count</th>\n",
       "      <td>56000</td>\n",
       "      <td>56000</td>\n",
       "      <td>56000</td>\n",
       "      <td>56000</td>\n",
       "      <td>56000</td>\n",
       "      <td>56000</td>\n",
       "      <td>56000</td>\n",
       "    </tr>\n",
       "    <tr>\n",
       "      <th>unique</th>\n",
       "      <td>2</td>\n",
       "      <td>3</td>\n",
       "      <td>3</td>\n",
       "      <td>2</td>\n",
       "      <td>2</td>\n",
       "      <td>2</td>\n",
       "      <td>2</td>\n",
       "    </tr>\n",
       "    <tr>\n",
       "      <th>top</th>\n",
       "      <td>1</td>\n",
       "      <td>1</td>\n",
       "      <td>1</td>\n",
       "      <td>0</td>\n",
       "      <td>0</td>\n",
       "      <td>1</td>\n",
       "      <td>0</td>\n",
       "    </tr>\n",
       "    <tr>\n",
       "      <th>freq</th>\n",
       "      <td>36401</td>\n",
       "      <td>41910</td>\n",
       "      <td>47619</td>\n",
       "      <td>51030</td>\n",
       "      <td>52929</td>\n",
       "      <td>45011</td>\n",
       "      <td>28033</td>\n",
       "    </tr>\n",
       "  </tbody>\n",
       "</table>\n",
       "</div>"
      ],
      "text/plain": [
       "        gender  cholesterol   gluc  smoke   alco  active  cardio\n",
       "count    56000        56000  56000  56000  56000   56000   56000\n",
       "unique       2            3      3      2      2       2       2\n",
       "top          1            1      1      0      0       1       0\n",
       "freq     36401        41910  47619  51030  52929   45011   28033"
      ]
     },
     "execution_count": 11,
     "metadata": {},
     "output_type": "execute_result"
    }
   ],
   "source": [
    "cat_attributes.astype('object').describe()"
   ]
  },
  {
   "cell_type": "markdown",
   "id": "a8725f62",
   "metadata": {},
   "source": [
    "# 2.0. Feature Engineering"
   ]
  },
  {
   "cell_type": "code",
   "execution_count": 12,
   "id": "40e70866",
   "metadata": {
    "ExecuteTime": {
     "end_time": "2022-06-23T14:09:16.597094Z",
     "start_time": "2022-06-23T14:09:16.574089Z"
    }
   },
   "outputs": [],
   "source": [
    "df02 = df01.copy()"
   ]
  },
  {
   "cell_type": "markdown",
   "id": "aebe0714",
   "metadata": {},
   "source": [
    "# 3.0. Data Filtering"
   ]
  },
  {
   "cell_type": "code",
   "execution_count": 13,
   "id": "7c7b9b54",
   "metadata": {
    "ExecuteTime": {
     "end_time": "2022-06-23T14:09:16.629087Z",
     "start_time": "2022-06-23T14:09:16.601093Z"
    }
   },
   "outputs": [],
   "source": [
    "df03 = df02.copy()"
   ]
  },
  {
   "cell_type": "markdown",
   "id": "a05538d5",
   "metadata": {},
   "source": [
    "## 3.1. Filtering Rows"
   ]
  },
  {
   "cell_type": "code",
   "execution_count": null,
   "id": "c916db6b",
   "metadata": {},
   "outputs": [],
   "source": []
  },
  {
   "cell_type": "markdown",
   "id": "76d804db",
   "metadata": {
    "ExecuteTime": {
     "end_time": "2022-05-11T13:51:04.884921Z",
     "start_time": "2022-05-11T13:51:04.867920Z"
    }
   },
   "source": [
    "## 3.2. Columns Selection"
   ]
  },
  {
   "cell_type": "code",
   "execution_count": null,
   "id": "b39ff403",
   "metadata": {},
   "outputs": [],
   "source": []
  },
  {
   "cell_type": "markdown",
   "id": "0dc40159",
   "metadata": {},
   "source": [
    "# 4.0. Exploratory Data Analysis"
   ]
  },
  {
   "cell_type": "code",
   "execution_count": 14,
   "id": "385e6f90",
   "metadata": {
    "ExecuteTime": {
     "end_time": "2022-06-23T14:09:16.659090Z",
     "start_time": "2022-06-23T14:09:16.635112Z"
    }
   },
   "outputs": [],
   "source": [
    "df04 = df03.copy()"
   ]
  },
  {
   "cell_type": "markdown",
   "id": "05d21aa1",
   "metadata": {},
   "source": [
    "# 5.0. Data Preparation"
   ]
  },
  {
   "cell_type": "code",
   "execution_count": 15,
   "id": "53a7d7e1",
   "metadata": {
    "ExecuteTime": {
     "end_time": "2022-06-23T14:09:16.675090Z",
     "start_time": "2022-06-23T14:09:16.663092Z"
    }
   },
   "outputs": [],
   "source": [
    "df05 = df04.copy()"
   ]
  },
  {
   "cell_type": "markdown",
   "id": "83cfb5ab",
   "metadata": {},
   "source": [
    "# 6.0. Feature Selection"
   ]
  },
  {
   "cell_type": "code",
   "execution_count": 16,
   "id": "8a582aed",
   "metadata": {
    "ExecuteTime": {
     "end_time": "2022-06-23T14:09:16.746096Z",
     "start_time": "2022-06-23T14:09:16.698112Z"
    }
   },
   "outputs": [],
   "source": [
    "df06 = df05.copy()"
   ]
  },
  {
   "cell_type": "markdown",
   "id": "bdac7870",
   "metadata": {},
   "source": [
    "## 6.1. Split Dataframe into Training and Validation Dataset"
   ]
  },
  {
   "cell_type": "code",
   "execution_count": 17,
   "id": "eba37af3",
   "metadata": {
    "ExecuteTime": {
     "end_time": "2022-06-23T14:09:16.768100Z",
     "start_time": "2022-06-23T14:09:16.752088Z"
    }
   },
   "outputs": [],
   "source": [
    "# features dataset\n",
    "X = df06.drop(['cardio'],axis=1)\n",
    "\n",
    "# response dataset\n",
    "y = df06['cardio']"
   ]
  },
  {
   "cell_type": "code",
   "execution_count": 18,
   "id": "5427d347",
   "metadata": {
    "ExecuteTime": {
     "end_time": "2022-06-23T14:09:16.848097Z",
     "start_time": "2022-06-23T14:09:16.775100Z"
    }
   },
   "outputs": [],
   "source": [
    "# split dataset into training  and validation\n",
    "X_train, X_val, y_train, y_val = ms.train_test_split(X, y, test_size=0.2, random_state=42)"
   ]
  },
  {
   "cell_type": "markdown",
   "id": "471a83ca",
   "metadata": {},
   "source": [
    "# 7.0. Machine Learning Model"
   ]
  },
  {
   "cell_type": "code",
   "execution_count": 19,
   "id": "e7e86785",
   "metadata": {
    "ExecuteTime": {
     "end_time": "2022-06-23T14:09:16.897090Z",
     "start_time": "2022-06-23T14:09:16.852097Z"
    }
   },
   "outputs": [],
   "source": [
    "# select data for machine learning models\n",
    "x_train = X_train.copy()\n",
    "x_val = X_val.copy()"
   ]
  },
  {
   "cell_type": "markdown",
   "id": "00ce81b4",
   "metadata": {},
   "source": [
    "## 7.1. Random Forest Classifier "
   ]
  },
  {
   "cell_type": "code",
   "execution_count": 20,
   "id": "dcfb0ccf",
   "metadata": {
    "ExecuteTime": {
     "end_time": "2022-06-23T14:09:22.550869Z",
     "start_time": "2022-06-23T14:09:16.906089Z"
    }
   },
   "outputs": [],
   "source": [
    "# model definition\n",
    "model_rf = RandomForestClassifier(n_estimators=100, n_jobs=-1).fit(x_train, y_train)"
   ]
  },
  {
   "cell_type": "markdown",
   "id": "60049895",
   "metadata": {},
   "source": [
    "### 7.1.1. Random Forest Classifier - Performance"
   ]
  },
  {
   "cell_type": "code",
   "execution_count": 21,
   "id": "13bee777",
   "metadata": {
    "ExecuteTime": {
     "end_time": "2022-06-23T14:09:22.865870Z",
     "start_time": "2022-06-23T14:09:22.554871Z"
    }
   },
   "outputs": [
    {
     "name": "stdout",
     "output_type": "stream",
     "text": [
      "Random Forest - Accuracy: 0.7297321428571428\n"
     ]
    }
   ],
   "source": [
    "# prediction \n",
    "pred_rf = model_rf.predict(X_val)\n",
    "\n",
    "# accuracy\n",
    "acc_rf = accuracy_score(y_val, pred_rf)  \n",
    "print(f'Random Forest - Accuracy: {acc_rf}')"
   ]
  }
 ],
 "metadata": {
  "kernelspec": {
   "display_name": "Python 3 (ipykernel)",
   "language": "python",
   "name": "python3"
  },
  "language_info": {
   "codemirror_mode": {
    "name": "ipython",
    "version": 3
   },
   "file_extension": ".py",
   "mimetype": "text/x-python",
   "name": "python",
   "nbconvert_exporter": "python",
   "pygments_lexer": "ipython3",
   "version": "3.9.12"
  },
  "toc": {
   "base_numbering": 1,
   "nav_menu": {},
   "number_sections": false,
   "sideBar": true,
   "skip_h1_title": false,
   "title_cell": "Table of Contents",
   "title_sidebar": "Contents",
   "toc_cell": false,
   "toc_position": {
    "height": "calc(100% - 180px)",
    "left": "10px",
    "top": "150px",
    "width": "279.188px"
   },
   "toc_section_display": true,
   "toc_window_display": true
  },
  "varInspector": {
   "cols": {
    "lenName": 16,
    "lenType": 16,
    "lenVar": 40
   },
   "kernels_config": {
    "python": {
     "delete_cmd_postfix": "",
     "delete_cmd_prefix": "del ",
     "library": "var_list.py",
     "varRefreshCmd": "print(var_dic_list())"
    },
    "r": {
     "delete_cmd_postfix": ") ",
     "delete_cmd_prefix": "rm(",
     "library": "var_list.r",
     "varRefreshCmd": "cat(var_dic_list()) "
    }
   },
   "types_to_exclude": [
    "module",
    "function",
    "builtin_function_or_method",
    "instance",
    "_Feature"
   ],
   "window_display": false
  }
 },
 "nbformat": 4,
 "nbformat_minor": 5
}
