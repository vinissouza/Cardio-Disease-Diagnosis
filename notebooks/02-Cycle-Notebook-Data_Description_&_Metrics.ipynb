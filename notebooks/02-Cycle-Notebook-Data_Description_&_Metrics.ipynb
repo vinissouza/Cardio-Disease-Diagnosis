{
 "cells": [
  {
   "cell_type": "markdown",
   "id": "cc846c87",
   "metadata": {},
   "source": [
    "# Business Context"
   ]
  },
  {
   "cell_type": "markdown",
   "id": "59296659",
   "metadata": {},
   "source": [
    "Cardio Catch Disease is a company specialized in detecting cardiac diseases at early stages.\n",
    "\n",
    "- **Business Model:** The price of the diagnosis varies according to the accuracy achieved by the team of specialists, the client pays R$500 for each 5% accuracy above 50%.\n",
    "\n",
    "\n",
    "- **Actual Scenario:** The current diagnostic accuracy varies between 55% and 65%, due to the complexity of the diagnosis, at a cost of R$1000.\n",
    "\n",
    "\n",
    "- **Main Goal:** Create a disease diagnosis tool with stable accuracy. \n",
    "\n",
    "\n",
    "- **Secundary Goals:** Delivery a report ansewirng the follow questions:\n",
    "    1. How accurate and precise is the tool?\n",
    "    2. How much profit Cardio Catch Diseases will make with the new tool?\n",
    "    3. How reliable are the results given by the new tool?\n",
    "    \n",
    "\n",
    "Business Project reference: https://sejaumdatascientist.com/projeto-de-data-science-diagnostico-precoce-de-doencas-cardiovasculares/\n",
    "\n",
    "Data Source: https://www.kaggle.com/sulianova/cardiovascular-disease-dataset"
   ]
  },
  {
   "cell_type": "markdown",
   "id": "c7e0f464",
   "metadata": {},
   "source": [
    "# 0.0. Imports"
   ]
  },
  {
   "cell_type": "code",
   "execution_count": 1,
   "id": "456775c9",
   "metadata": {
    "ExecuteTime": {
     "end_time": "2022-06-23T14:14:10.376731Z",
     "start_time": "2022-06-23T14:14:06.765717Z"
    }
   },
   "outputs": [],
   "source": [
    "# data manipulation\n",
    "import numpy as np\n",
    "import pandas as pd\n",
    "\n",
    "# statistics\n",
    "from scipy.stats import chi2_contingency\n",
    "\n",
    "# data visualization\n",
    "import matplotlib.pyplot as plt\n",
    "import seaborn as sns\n",
    "\n",
    "# load images\n",
    "from IPython.display import Image\n",
    "\n",
    "# stratified sampling\n",
    "from sklearn import model_selection as ms\n",
    "\n",
    "# machine learning models\n",
    "from sklearn.ensemble import RandomForestClassifier\n",
    "\n",
    "# model evaluation\n",
    "from sklearn.metrics import accuracy_score, precision_score, recall_score, roc_auc_score, f1_score, fbeta_score, roc_curve\n",
    "from sklearn.model_selection import cross_validate"
   ]
  },
  {
   "cell_type": "markdown",
   "id": "34a81805",
   "metadata": {
    "ExecuteTime": {
     "end_time": "2022-05-11T13:06:59.400290Z",
     "start_time": "2022-05-11T13:06:59.381295Z"
    }
   },
   "source": [
    "## 0.1. Auxiliar Functions"
   ]
  },
  {
   "cell_type": "code",
   "execution_count": 2,
   "id": "d775b334",
   "metadata": {
    "ExecuteTime": {
     "end_time": "2022-06-23T14:14:10.409715Z",
     "start_time": "2022-06-23T14:14:10.380715Z"
    }
   },
   "outputs": [],
   "source": [
    "def cramer_v(x, y):\n",
    "    cm = pd.crosstab(x, y).values\n",
    "    n = cm.sum()\n",
    "    r, k = cm.shape\n",
    "    \n",
    "    rcorr = r - ((r-1)**2)/(n-1)\n",
    "    \n",
    "    kcorr = k - ((k-1)**2)/(n-1)\n",
    "    \n",
    "    chi2 = chi2_contingency(cm)[0]\n",
    "    chi2corr = max(0, chi2 - (k-1)*(r-1)/(n-1))\n",
    "    \n",
    "    return np.sqrt((chi2corr/n)/(min(kcorr-1, rcorr-1)))"
   ]
  },
  {
   "cell_type": "markdown",
   "id": "d93c4eb6",
   "metadata": {
    "ExecuteTime": {
     "end_time": "2022-05-11T13:07:49.715823Z",
     "start_time": "2022-05-11T13:07:49.701817Z"
    }
   },
   "source": [
    "## 0.2. Load Data"
   ]
  },
  {
   "cell_type": "code",
   "execution_count": 3,
   "id": "40986380",
   "metadata": {
    "ExecuteTime": {
     "end_time": "2022-06-23T14:14:10.613712Z",
     "start_time": "2022-06-23T14:14:10.422723Z"
    }
   },
   "outputs": [],
   "source": [
    "data_raw = pd.read_csv('../datasets/cardio_train.csv', sep=';')"
   ]
  },
  {
   "cell_type": "markdown",
   "id": "2bbd5c7a",
   "metadata": {},
   "source": [
    "## 0.3. Split Data into Train and Test"
   ]
  },
  {
   "cell_type": "code",
   "execution_count": 4,
   "id": "8baa11b8",
   "metadata": {
    "ExecuteTime": {
     "end_time": "2022-06-23T14:14:10.661719Z",
     "start_time": "2022-06-23T14:14:10.618715Z"
    }
   },
   "outputs": [],
   "source": [
    "data_train, data_test = ms.train_test_split(data_raw, test_size=0.2, random_state=42)"
   ]
  },
  {
   "cell_type": "markdown",
   "id": "42231977",
   "metadata": {},
   "source": [
    "# 1.0. Data Description"
   ]
  },
  {
   "cell_type": "code",
   "execution_count": 5,
   "id": "ed73b19c",
   "metadata": {
    "ExecuteTime": {
     "end_time": "2022-06-23T14:14:10.677717Z",
     "start_time": "2022-06-23T14:14:10.664717Z"
    }
   },
   "outputs": [],
   "source": [
    "df01 = data_train.copy()"
   ]
  },
  {
   "cell_type": "markdown",
   "id": "821bb378",
   "metadata": {},
   "source": [
    "## 1.1. Data Types"
   ]
  },
  {
   "cell_type": "code",
   "execution_count": 6,
   "id": "3a540417",
   "metadata": {
    "ExecuteTime": {
     "end_time": "2022-06-23T14:14:10.741715Z",
     "start_time": "2022-06-23T14:14:10.691717Z"
    }
   },
   "outputs": [
    {
     "data": {
      "text/plain": [
       "id               int64\n",
       "age              int64\n",
       "gender           int64\n",
       "height           int64\n",
       "weight         float64\n",
       "ap_hi            int64\n",
       "ap_lo            int64\n",
       "cholesterol      int64\n",
       "gluc             int64\n",
       "smoke            int64\n",
       "alco             int64\n",
       "active           int64\n",
       "cardio           int64\n",
       "dtype: object"
      ]
     },
     "execution_count": 6,
     "metadata": {},
     "output_type": "execute_result"
    }
   ],
   "source": [
    "df01.dtypes"
   ]
  },
  {
   "cell_type": "markdown",
   "id": "99b7cfa6",
   "metadata": {},
   "source": [
    "## 1.2. Data Dimensions"
   ]
  },
  {
   "cell_type": "code",
   "execution_count": 7,
   "id": "dd8ccc23",
   "metadata": {
    "ExecuteTime": {
     "end_time": "2022-06-23T14:14:10.773732Z",
     "start_time": "2022-06-23T14:14:10.748719Z"
    }
   },
   "outputs": [
    {
     "name": "stdout",
     "output_type": "stream",
     "text": [
      "Number of rows: 56000\n",
      "Number of columns: 13\n"
     ]
    }
   ],
   "source": [
    "print(f'Number of rows: {df01.shape[0]}')\n",
    "print(f'Number of columns: {df01.shape[1]}')"
   ]
  },
  {
   "cell_type": "markdown",
   "id": "2665d83c",
   "metadata": {},
   "source": [
    "## 1.3. Check NA"
   ]
  },
  {
   "cell_type": "code",
   "execution_count": 8,
   "id": "2364922f",
   "metadata": {
    "ExecuteTime": {
     "end_time": "2022-06-23T14:14:10.823717Z",
     "start_time": "2022-06-23T14:14:10.780716Z"
    }
   },
   "outputs": [
    {
     "data": {
      "text/plain": [
       "id             0\n",
       "age            0\n",
       "gender         0\n",
       "height         0\n",
       "weight         0\n",
       "ap_hi          0\n",
       "ap_lo          0\n",
       "cholesterol    0\n",
       "gluc           0\n",
       "smoke          0\n",
       "alco           0\n",
       "active         0\n",
       "cardio         0\n",
       "dtype: int64"
      ]
     },
     "execution_count": 8,
     "metadata": {},
     "output_type": "execute_result"
    }
   ],
   "source": [
    "df01.isna().sum()"
   ]
  },
  {
   "cell_type": "markdown",
   "id": "f0f4fada",
   "metadata": {},
   "source": [
    "## 1.4. Fillout NA\n",
    "There is no NA in the dataset"
   ]
  },
  {
   "cell_type": "code",
   "execution_count": null,
   "id": "8d590b29",
   "metadata": {},
   "outputs": [],
   "source": []
  },
  {
   "cell_type": "markdown",
   "id": "eafc8911",
   "metadata": {},
   "source": [
    "## 1.5. Change Data Type"
   ]
  },
  {
   "cell_type": "code",
   "execution_count": null,
   "id": "4d73f385",
   "metadata": {},
   "outputs": [],
   "source": []
  },
  {
   "cell_type": "markdown",
   "id": "0c3c26c7",
   "metadata": {},
   "source": [
    "## 1.6. Check Balance Data"
   ]
  },
  {
   "cell_type": "code",
   "execution_count": 9,
   "id": "65684d06",
   "metadata": {
    "ExecuteTime": {
     "end_time": "2022-06-23T14:14:10.853721Z",
     "start_time": "2022-06-23T14:14:10.829715Z"
    }
   },
   "outputs": [
    {
     "data": {
      "text/plain": [
       "0    0.500589\n",
       "1    0.499411\n",
       "Name: cardio, dtype: float64"
      ]
     },
     "execution_count": 9,
     "metadata": {},
     "output_type": "execute_result"
    }
   ],
   "source": [
    "df01['cardio'].value_counts(normalize=True)"
   ]
  },
  {
   "cell_type": "markdown",
   "id": "f84477f0",
   "metadata": {},
   "source": [
    "## 1.7. Descriptive Analysis"
   ]
  },
  {
   "cell_type": "code",
   "execution_count": 10,
   "id": "0575ea53",
   "metadata": {
    "ExecuteTime": {
     "end_time": "2022-06-23T14:14:10.885716Z",
     "start_time": "2022-06-23T14:14:10.861715Z"
    }
   },
   "outputs": [],
   "source": [
    "# select numeric attributes\n",
    "num_attributes = df01[['age', 'height', 'weight', 'ap_hi', 'ap_lo']]\n",
    "\n",
    "# select categoric attributes (include binary and status attributes)\n",
    "cat_attributes = df01[['gender', 'cholesterol', 'gluc', 'smoke', 'alco', 'active', 'cardio']]"
   ]
  },
  {
   "cell_type": "markdown",
   "id": "4bfcf7b3",
   "metadata": {},
   "source": [
    "### 1.7.1. Numerical Attributes"
   ]
  },
  {
   "cell_type": "code",
   "execution_count": 11,
   "id": "251ae095",
   "metadata": {
    "ExecuteTime": {
     "end_time": "2022-06-23T14:14:11.200720Z",
     "start_time": "2022-06-23T14:14:10.897730Z"
    }
   },
   "outputs": [
    {
     "data": {
      "text/html": [
       "<div>\n",
       "<style scoped>\n",
       "    .dataframe tbody tr th:only-of-type {\n",
       "        vertical-align: middle;\n",
       "    }\n",
       "\n",
       "    .dataframe tbody tr th {\n",
       "        vertical-align: top;\n",
       "    }\n",
       "\n",
       "    .dataframe thead th {\n",
       "        text-align: right;\n",
       "    }\n",
       "</style>\n",
       "<table border=\"1\" class=\"dataframe\">\n",
       "  <thead>\n",
       "    <tr style=\"text-align: right;\">\n",
       "      <th></th>\n",
       "      <th>attributes</th>\n",
       "      <th>min</th>\n",
       "      <th>max</th>\n",
       "      <th>range</th>\n",
       "      <th>mean</th>\n",
       "      <th>median</th>\n",
       "      <th>skew</th>\n",
       "      <th>kurtosis</th>\n",
       "    </tr>\n",
       "  </thead>\n",
       "  <tbody>\n",
       "    <tr>\n",
       "      <th>0</th>\n",
       "      <td>age</td>\n",
       "      <td>10798.0</td>\n",
       "      <td>23713.0</td>\n",
       "      <td>12915.0</td>\n",
       "      <td>19464.929107</td>\n",
       "      <td>19699.0</td>\n",
       "      <td>-0.305523</td>\n",
       "      <td>-0.823461</td>\n",
       "    </tr>\n",
       "    <tr>\n",
       "      <th>1</th>\n",
       "      <td>height</td>\n",
       "      <td>55.0</td>\n",
       "      <td>250.0</td>\n",
       "      <td>195.0</td>\n",
       "      <td>164.348125</td>\n",
       "      <td>165.0</td>\n",
       "      <td>-0.594831</td>\n",
       "      <td>7.616794</td>\n",
       "    </tr>\n",
       "    <tr>\n",
       "      <th>2</th>\n",
       "      <td>weight</td>\n",
       "      <td>22.0</td>\n",
       "      <td>200.0</td>\n",
       "      <td>178.0</td>\n",
       "      <td>74.188586</td>\n",
       "      <td>72.0</td>\n",
       "      <td>1.015661</td>\n",
       "      <td>2.630229</td>\n",
       "    </tr>\n",
       "    <tr>\n",
       "      <th>3</th>\n",
       "      <td>ap_hi</td>\n",
       "      <td>-140.0</td>\n",
       "      <td>14020.0</td>\n",
       "      <td>14160.0</td>\n",
       "      <td>128.737893</td>\n",
       "      <td>120.0</td>\n",
       "      <td>85.641414</td>\n",
       "      <td>7642.334178</td>\n",
       "    </tr>\n",
       "    <tr>\n",
       "      <th>4</th>\n",
       "      <td>ap_lo</td>\n",
       "      <td>0.0</td>\n",
       "      <td>11000.0</td>\n",
       "      <td>11000.0</td>\n",
       "      <td>97.025536</td>\n",
       "      <td>80.0</td>\n",
       "      <td>31.969044</td>\n",
       "      <td>1369.195570</td>\n",
       "    </tr>\n",
       "  </tbody>\n",
       "</table>\n",
       "</div>"
      ],
      "text/plain": [
       "  attributes      min      max    range          mean   median       skew  \\\n",
       "0        age  10798.0  23713.0  12915.0  19464.929107  19699.0  -0.305523   \n",
       "1     height     55.0    250.0    195.0    164.348125    165.0  -0.594831   \n",
       "2     weight     22.0    200.0    178.0     74.188586     72.0   1.015661   \n",
       "3      ap_hi   -140.0  14020.0  14160.0    128.737893    120.0  85.641414   \n",
       "4      ap_lo      0.0  11000.0  11000.0     97.025536     80.0  31.969044   \n",
       "\n",
       "      kurtosis  \n",
       "0    -0.823461  \n",
       "1     7.616794  \n",
       "2     2.630229  \n",
       "3  7642.334178  \n",
       "4  1369.195570  "
      ]
     },
     "execution_count": 11,
     "metadata": {},
     "output_type": "execute_result"
    }
   ],
   "source": [
    "# central tendency - mean, median\n",
    "mean = pd.DataFrame(num_attributes.apply(np.mean)).T\n",
    "median = pd.DataFrame(num_attributes.apply(np.median)).T\n",
    "\n",
    "# dispersion - std, min, max, range, skew, kurtosis\n",
    "std = pd.DataFrame(num_attributes.apply(np.std)).T\n",
    "min_ = pd.DataFrame(num_attributes.apply(min)).T\n",
    "max_ = pd.DataFrame(num_attributes.apply(max)).T\n",
    "range_ = pd.DataFrame(num_attributes.apply(lambda x: x.max() - x.min())).T\n",
    "skew = pd.DataFrame(num_attributes.apply(lambda x: x.skew())).T\n",
    "kurtosis = pd.DataFrame(num_attributes.apply(lambda x: x.kurtosis())).T\n",
    "\n",
    "# join dataframes\n",
    "num_stats = pd.concat([min_, max_, range_, mean, median, skew, kurtosis]).T.reset_index()\n",
    "num_stats.columns = ['attributes', 'min', 'max', 'range', 'mean', 'median', 'skew', 'kurtosis']\n",
    "\n",
    "# display numerical analysis\n",
    "num_stats"
   ]
  },
  {
   "cell_type": "markdown",
   "id": "5fa6c1d3",
   "metadata": {
    "ExecuteTime": {
     "end_time": "2022-05-11T13:48:00.650342Z",
     "start_time": "2022-05-11T13:48:00.638341Z"
    }
   },
   "source": [
    "### 1.7.2. Categorical Attributes"
   ]
  },
  {
   "cell_type": "code",
   "execution_count": 12,
   "id": "5a9d6f7f",
   "metadata": {
    "ExecuteTime": {
     "end_time": "2022-06-23T14:14:11.326723Z",
     "start_time": "2022-06-23T14:14:11.204725Z"
    }
   },
   "outputs": [
    {
     "data": {
      "text/html": [
       "<div>\n",
       "<style scoped>\n",
       "    .dataframe tbody tr th:only-of-type {\n",
       "        vertical-align: middle;\n",
       "    }\n",
       "\n",
       "    .dataframe tbody tr th {\n",
       "        vertical-align: top;\n",
       "    }\n",
       "\n",
       "    .dataframe thead th {\n",
       "        text-align: right;\n",
       "    }\n",
       "</style>\n",
       "<table border=\"1\" class=\"dataframe\">\n",
       "  <thead>\n",
       "    <tr style=\"text-align: right;\">\n",
       "      <th></th>\n",
       "      <th>gender</th>\n",
       "      <th>cholesterol</th>\n",
       "      <th>gluc</th>\n",
       "      <th>smoke</th>\n",
       "      <th>alco</th>\n",
       "      <th>active</th>\n",
       "      <th>cardio</th>\n",
       "    </tr>\n",
       "  </thead>\n",
       "  <tbody>\n",
       "    <tr>\n",
       "      <th>count</th>\n",
       "      <td>56000</td>\n",
       "      <td>56000</td>\n",
       "      <td>56000</td>\n",
       "      <td>56000</td>\n",
       "      <td>56000</td>\n",
       "      <td>56000</td>\n",
       "      <td>56000</td>\n",
       "    </tr>\n",
       "    <tr>\n",
       "      <th>unique</th>\n",
       "      <td>2</td>\n",
       "      <td>3</td>\n",
       "      <td>3</td>\n",
       "      <td>2</td>\n",
       "      <td>2</td>\n",
       "      <td>2</td>\n",
       "      <td>2</td>\n",
       "    </tr>\n",
       "    <tr>\n",
       "      <th>top</th>\n",
       "      <td>1</td>\n",
       "      <td>1</td>\n",
       "      <td>1</td>\n",
       "      <td>0</td>\n",
       "      <td>0</td>\n",
       "      <td>1</td>\n",
       "      <td>0</td>\n",
       "    </tr>\n",
       "    <tr>\n",
       "      <th>freq</th>\n",
       "      <td>36401</td>\n",
       "      <td>41910</td>\n",
       "      <td>47619</td>\n",
       "      <td>51030</td>\n",
       "      <td>52929</td>\n",
       "      <td>45011</td>\n",
       "      <td>28033</td>\n",
       "    </tr>\n",
       "  </tbody>\n",
       "</table>\n",
       "</div>"
      ],
      "text/plain": [
       "        gender  cholesterol   gluc  smoke   alco  active  cardio\n",
       "count    56000        56000  56000  56000  56000   56000   56000\n",
       "unique       2            3      3      2      2       2       2\n",
       "top          1            1      1      0      0       1       0\n",
       "freq     36401        41910  47619  51030  52929   45011   28033"
      ]
     },
     "execution_count": 12,
     "metadata": {},
     "output_type": "execute_result"
    }
   ],
   "source": [
    "cat_attributes.astype('object').describe()"
   ]
  },
  {
   "cell_type": "code",
   "execution_count": 13,
   "id": "93f12aa4",
   "metadata": {
    "ExecuteTime": {
     "end_time": "2022-06-23T14:14:13.532382Z",
     "start_time": "2022-06-23T14:14:11.337716Z"
    }
   },
   "outputs": [
    {
     "data": {
      "image/png": "[encoded data removed]",
      "text/plain": [
       "<Figure size 432x288 with 2 Axes>"
      ]
     },
     "metadata": {
      "needs_background": "light"
     },
     "output_type": "display_data"
    }
   ],
   "source": [
    "cat_columns = cat_attributes.columns.tolist()\n",
    "\n",
    "corr_dict = {}\n",
    "\n",
    "for main_cols in cat_columns:\n",
    "    corr_list = []\n",
    "    \n",
    "    for secundary_cols in cat_columns:\n",
    "        #cramer v\n",
    "        cat_corr = cramer_v(cat_attributes[main_cols], cat_attributes[secundary_cols])\n",
    "        \n",
    "        # add to list\n",
    "        corr_list.append(cat_corr)\n",
    "    \n",
    "    # add to dict each attribute correlation\n",
    "    corr_dict[main_cols] = corr_list\n",
    "    \n",
    "df_corr = pd.DataFrame(corr_dict)\n",
    "df_corr = df_corr.set_index(df_corr.columns)\n",
    "sns.heatmap(df_corr, annot=True);"
   ]
  },
  {
   "cell_type": "markdown",
   "id": "a8725f62",
   "metadata": {},
   "source": [
    "# 2.0. Feature Engineering"
   ]
  },
  {
   "cell_type": "code",
   "execution_count": 14,
   "id": "40e70866",
   "metadata": {
    "ExecuteTime": {
     "end_time": "2022-06-23T14:14:13.564383Z",
     "start_time": "2022-06-23T14:14:13.541379Z"
    }
   },
   "outputs": [],
   "source": [
    "df02 = df01.copy()"
   ]
  },
  {
   "cell_type": "markdown",
   "id": "e5ccabcb",
   "metadata": {},
   "source": [
    "## 2.1. Mental Map of Hypothesis"
   ]
  },
  {
   "cell_type": "code",
   "execution_count": 15,
   "id": "20091ff9",
   "metadata": {
    "ExecuteTime": {
     "end_time": "2022-06-23T14:14:14.293380Z",
     "start_time": "2022-06-23T14:14:13.568380Z"
    }
   },
   "outputs": [
    {
     "ename": "FileNotFoundError",
     "evalue": "No such file or directory: '../images/CARDIO_CATCH_DESEASE.png'",
     "output_type": "error",
     "traceback": [
      "\u001b[1;31m---------------------------------------------------------------------------\u001b[0m",
      "\u001b[1;31mTypeError\u001b[0m                                 Traceback (most recent call last)",
      "File \u001b[1;32m~\\anaconda3\\envs\\cardio-disease-diagnosis\\lib\\site-packages\\IPython\\core\\display.py:1032\u001b[0m, in \u001b[0;36mImage._data_and_metadata\u001b[1;34m(self, always_both)\u001b[0m\n\u001b[0;32m   1031\u001b[0m \u001b[38;5;28;01mtry\u001b[39;00m:\n\u001b[1;32m-> 1032\u001b[0m     b64_data \u001b[38;5;241m=\u001b[39m \u001b[43mb2a_base64\u001b[49m\u001b[43m(\u001b[49m\u001b[38;5;28;43mself\u001b[39;49m\u001b[38;5;241;43m.\u001b[39;49m\u001b[43mdata\u001b[49m\u001b[43m)\u001b[49m\u001b[38;5;241m.\u001b[39mdecode(\u001b[38;5;124m'\u001b[39m\u001b[38;5;124mascii\u001b[39m\u001b[38;5;124m'\u001b[39m)\n\u001b[0;32m   1033\u001b[0m \u001b[38;5;28;01mexcept\u001b[39;00m \u001b[38;5;167;01mTypeError\u001b[39;00m \u001b[38;5;28;01mas\u001b[39;00m e:\n",
      "\u001b[1;31mTypeError\u001b[0m: a bytes-like object is required, not 'str'",
      "\nThe above exception was the direct cause of the following exception:\n",
      "\u001b[1;31mFileNotFoundError\u001b[0m                         Traceback (most recent call last)",
      "File \u001b[1;32m~\\anaconda3\\envs\\cardio-disease-diagnosis\\lib\\site-packages\\IPython\\core\\formatters.py:973\u001b[0m, in \u001b[0;36mMimeBundleFormatter.__call__\u001b[1;34m(self, obj, include, exclude)\u001b[0m\n\u001b[0;32m    970\u001b[0m     method \u001b[38;5;241m=\u001b[39m get_real_method(obj, \u001b[38;5;28mself\u001b[39m\u001b[38;5;241m.\u001b[39mprint_method)\n\u001b[0;32m    972\u001b[0m     \u001b[38;5;28;01mif\u001b[39;00m method \u001b[38;5;129;01mis\u001b[39;00m \u001b[38;5;129;01mnot\u001b[39;00m \u001b[38;5;28;01mNone\u001b[39;00m:\n\u001b[1;32m--> 973\u001b[0m         \u001b[38;5;28;01mreturn\u001b[39;00m \u001b[43mmethod\u001b[49m\u001b[43m(\u001b[49m\u001b[43minclude\u001b[49m\u001b[38;5;241;43m=\u001b[39;49m\u001b[43minclude\u001b[49m\u001b[43m,\u001b[49m\u001b[43m \u001b[49m\u001b[43mexclude\u001b[49m\u001b[38;5;241;43m=\u001b[39;49m\u001b[43mexclude\u001b[49m\u001b[43m)\u001b[49m\n\u001b[0;32m    974\u001b[0m     \u001b[38;5;28;01mreturn\u001b[39;00m \u001b[38;5;28;01mNone\u001b[39;00m\n\u001b[0;32m    975\u001b[0m \u001b[38;5;28;01melse\u001b[39;00m:\n",
      "File \u001b[1;32m~\\anaconda3\\envs\\cardio-disease-diagnosis\\lib\\site-packages\\IPython\\core\\display.py:1022\u001b[0m, in \u001b[0;36mImage._repr_mimebundle_\u001b[1;34m(self, include, exclude)\u001b[0m\n\u001b[0;32m   1020\u001b[0m \u001b[38;5;28;01mif\u001b[39;00m \u001b[38;5;28mself\u001b[39m\u001b[38;5;241m.\u001b[39membed:\n\u001b[0;32m   1021\u001b[0m     mimetype \u001b[38;5;241m=\u001b[39m \u001b[38;5;28mself\u001b[39m\u001b[38;5;241m.\u001b[39m_mimetype\n\u001b[1;32m-> 1022\u001b[0m     data, metadata \u001b[38;5;241m=\u001b[39m \u001b[38;5;28;43mself\u001b[39;49m\u001b[38;5;241;43m.\u001b[39;49m\u001b[43m_data_and_metadata\u001b[49m\u001b[43m(\u001b[49m\u001b[43malways_both\u001b[49m\u001b[38;5;241;43m=\u001b[39;49m\u001b[38;5;28;43;01mTrue\u001b[39;49;00m\u001b[43m)\u001b[49m\n\u001b[0;32m   1023\u001b[0m     \u001b[38;5;28;01mif\u001b[39;00m metadata:\n\u001b[0;32m   1024\u001b[0m         metadata \u001b[38;5;241m=\u001b[39m {mimetype: metadata}\n",
      "File \u001b[1;32m~\\anaconda3\\envs\\cardio-disease-diagnosis\\lib\\site-packages\\IPython\\core\\display.py:1034\u001b[0m, in \u001b[0;36mImage._data_and_metadata\u001b[1;34m(self, always_both)\u001b[0m\n\u001b[0;32m   1032\u001b[0m     b64_data \u001b[38;5;241m=\u001b[39m b2a_base64(\u001b[38;5;28mself\u001b[39m\u001b[38;5;241m.\u001b[39mdata)\u001b[38;5;241m.\u001b[39mdecode(\u001b[38;5;124m'\u001b[39m\u001b[38;5;124mascii\u001b[39m\u001b[38;5;124m'\u001b[39m)\n\u001b[0;32m   1033\u001b[0m \u001b[38;5;28;01mexcept\u001b[39;00m \u001b[38;5;167;01mTypeError\u001b[39;00m \u001b[38;5;28;01mas\u001b[39;00m e:\n\u001b[1;32m-> 1034\u001b[0m     \u001b[38;5;28;01mraise\u001b[39;00m \u001b[38;5;167;01mFileNotFoundError\u001b[39;00m(\n\u001b[0;32m   1035\u001b[0m         \u001b[38;5;124m\"\u001b[39m\u001b[38;5;124mNo such file or directory: \u001b[39m\u001b[38;5;124m'\u001b[39m\u001b[38;5;132;01m%s\u001b[39;00m\u001b[38;5;124m'\u001b[39m\u001b[38;5;124m\"\u001b[39m \u001b[38;5;241m%\u001b[39m (\u001b[38;5;28mself\u001b[39m\u001b[38;5;241m.\u001b[39mdata)) \u001b[38;5;28;01mfrom\u001b[39;00m \u001b[38;5;21;01me\u001b[39;00m\n\u001b[0;32m   1036\u001b[0m md \u001b[38;5;241m=\u001b[39m {}\n\u001b[0;32m   1037\u001b[0m \u001b[38;5;28;01mif\u001b[39;00m \u001b[38;5;28mself\u001b[39m\u001b[38;5;241m.\u001b[39mmetadata:\n",
      "\u001b[1;31mFileNotFoundError\u001b[0m: No such file or directory: '../images/CARDIO_CATCH_DESEASE.png'"
     ]
    },
    {
     "ename": "FileNotFoundError",
     "evalue": "No such file or directory: '../images/CARDIO_CATCH_DESEASE.png'",
     "output_type": "error",
     "traceback": [
      "\u001b[1;31m---------------------------------------------------------------------------\u001b[0m",
      "\u001b[1;31mTypeError\u001b[0m                                 Traceback (most recent call last)",
      "File \u001b[1;32m~\\anaconda3\\envs\\cardio-disease-diagnosis\\lib\\site-packages\\IPython\\core\\display.py:1032\u001b[0m, in \u001b[0;36mImage._data_and_metadata\u001b[1;34m(self, always_both)\u001b[0m\n\u001b[0;32m   1031\u001b[0m \u001b[38;5;28;01mtry\u001b[39;00m:\n\u001b[1;32m-> 1032\u001b[0m     b64_data \u001b[38;5;241m=\u001b[39m \u001b[43mb2a_base64\u001b[49m\u001b[43m(\u001b[49m\u001b[38;5;28;43mself\u001b[39;49m\u001b[38;5;241;43m.\u001b[39;49m\u001b[43mdata\u001b[49m\u001b[43m)\u001b[49m\u001b[38;5;241m.\u001b[39mdecode(\u001b[38;5;124m'\u001b[39m\u001b[38;5;124mascii\u001b[39m\u001b[38;5;124m'\u001b[39m)\n\u001b[0;32m   1033\u001b[0m \u001b[38;5;28;01mexcept\u001b[39;00m \u001b[38;5;167;01mTypeError\u001b[39;00m \u001b[38;5;28;01mas\u001b[39;00m e:\n",
      "\u001b[1;31mTypeError\u001b[0m: a bytes-like object is required, not 'str'",
      "\nThe above exception was the direct cause of the following exception:\n",
      "\u001b[1;31mFileNotFoundError\u001b[0m                         Traceback (most recent call last)",
      "File \u001b[1;32m~\\anaconda3\\envs\\cardio-disease-diagnosis\\lib\\site-packages\\IPython\\core\\formatters.py:343\u001b[0m, in \u001b[0;36mBaseFormatter.__call__\u001b[1;34m(self, obj)\u001b[0m\n\u001b[0;32m    341\u001b[0m     method \u001b[38;5;241m=\u001b[39m get_real_method(obj, \u001b[38;5;28mself\u001b[39m\u001b[38;5;241m.\u001b[39mprint_method)\n\u001b[0;32m    342\u001b[0m     \u001b[38;5;28;01mif\u001b[39;00m method \u001b[38;5;129;01mis\u001b[39;00m \u001b[38;5;129;01mnot\u001b[39;00m \u001b[38;5;28;01mNone\u001b[39;00m:\n\u001b[1;32m--> 343\u001b[0m         \u001b[38;5;28;01mreturn\u001b[39;00m \u001b[43mmethod\u001b[49m\u001b[43m(\u001b[49m\u001b[43m)\u001b[49m\n\u001b[0;32m    344\u001b[0m     \u001b[38;5;28;01mreturn\u001b[39;00m \u001b[38;5;28;01mNone\u001b[39;00m\n\u001b[0;32m    345\u001b[0m \u001b[38;5;28;01melse\u001b[39;00m:\n",
      "File \u001b[1;32m~\\anaconda3\\envs\\cardio-disease-diagnosis\\lib\\site-packages\\IPython\\core\\display.py:1054\u001b[0m, in \u001b[0;36mImage._repr_png_\u001b[1;34m(self)\u001b[0m\n\u001b[0;32m   1052\u001b[0m \u001b[38;5;28;01mdef\u001b[39;00m \u001b[38;5;21m_repr_png_\u001b[39m(\u001b[38;5;28mself\u001b[39m):\n\u001b[0;32m   1053\u001b[0m     \u001b[38;5;28;01mif\u001b[39;00m \u001b[38;5;28mself\u001b[39m\u001b[38;5;241m.\u001b[39membed \u001b[38;5;129;01mand\u001b[39;00m \u001b[38;5;28mself\u001b[39m\u001b[38;5;241m.\u001b[39mformat \u001b[38;5;241m==\u001b[39m \u001b[38;5;28mself\u001b[39m\u001b[38;5;241m.\u001b[39m_FMT_PNG:\n\u001b[1;32m-> 1054\u001b[0m         \u001b[38;5;28;01mreturn\u001b[39;00m \u001b[38;5;28;43mself\u001b[39;49m\u001b[38;5;241;43m.\u001b[39;49m\u001b[43m_data_and_metadata\u001b[49m\u001b[43m(\u001b[49m\u001b[43m)\u001b[49m\n",
      "File \u001b[1;32m~\\anaconda3\\envs\\cardio-disease-diagnosis\\lib\\site-packages\\IPython\\core\\display.py:1034\u001b[0m, in \u001b[0;36mImage._data_and_metadata\u001b[1;34m(self, always_both)\u001b[0m\n\u001b[0;32m   1032\u001b[0m     b64_data \u001b[38;5;241m=\u001b[39m b2a_base64(\u001b[38;5;28mself\u001b[39m\u001b[38;5;241m.\u001b[39mdata)\u001b[38;5;241m.\u001b[39mdecode(\u001b[38;5;124m'\u001b[39m\u001b[38;5;124mascii\u001b[39m\u001b[38;5;124m'\u001b[39m)\n\u001b[0;32m   1033\u001b[0m \u001b[38;5;28;01mexcept\u001b[39;00m \u001b[38;5;167;01mTypeError\u001b[39;00m \u001b[38;5;28;01mas\u001b[39;00m e:\n\u001b[1;32m-> 1034\u001b[0m     \u001b[38;5;28;01mraise\u001b[39;00m \u001b[38;5;167;01mFileNotFoundError\u001b[39;00m(\n\u001b[0;32m   1035\u001b[0m         \u001b[38;5;124m\"\u001b[39m\u001b[38;5;124mNo such file or directory: \u001b[39m\u001b[38;5;124m'\u001b[39m\u001b[38;5;132;01m%s\u001b[39;00m\u001b[38;5;124m'\u001b[39m\u001b[38;5;124m\"\u001b[39m \u001b[38;5;241m%\u001b[39m (\u001b[38;5;28mself\u001b[39m\u001b[38;5;241m.\u001b[39mdata)) \u001b[38;5;28;01mfrom\u001b[39;00m \u001b[38;5;21;01me\u001b[39;00m\n\u001b[0;32m   1036\u001b[0m md \u001b[38;5;241m=\u001b[39m {}\n\u001b[0;32m   1037\u001b[0m \u001b[38;5;28;01mif\u001b[39;00m \u001b[38;5;28mself\u001b[39m\u001b[38;5;241m.\u001b[39mmetadata:\n",
      "\u001b[1;31mFileNotFoundError\u001b[0m: No such file or directory: '../images/CARDIO_CATCH_DESEASE.png'"
     ]
    },
    {
     "data": {
      "text/plain": [
       "<IPython.core.display.Image object>"
      ]
     },
     "execution_count": 15,
     "metadata": {},
     "output_type": "execute_result"
    }
   ],
   "source": [
    "Image('../images/CARDIO_CATCH_DESEASE.png')"
   ]
  },
  {
   "cell_type": "markdown",
   "id": "15397ebc",
   "metadata": {},
   "source": [
    "## 2.2. Hypothesis Creation"
   ]
  },
  {
   "cell_type": "markdown",
   "id": "654b2366",
   "metadata": {},
   "source": [
    "### 2.2.1. Objective Features Hypotheses"
   ]
  },
  {
   "cell_type": "markdown",
   "id": "4518e36e",
   "metadata": {
    "ExecuteTime": {
     "end_time": "2022-05-11T17:05:17.539970Z",
     "start_time": "2022-05-11T17:05:17.525972Z"
    }
   },
   "source": [
    "1. Ambos os gêneros possuem a mesma proporção de doenças cardiovasculares..\n",
    "\n",
    "2. Pessoas com mais de 40 anos possuem mais que o dobro de doenças cardiovasculares, em média.\n",
    "\n",
    "3. Quanto maior a relação de peso/altura maior a quantidade de doenças cardiovasculares.\n",
    "\n",
    "4. Entre 40% e 50% das pessoas acima de 100kg possuem doenças cardiovasculares.\n",
    "\n",
    "5. Pessoas com alturas abaixo de 150cm possuem metade de doenças cardiovasculares em média.\n"
   ]
  },
  {
   "cell_type": "markdown",
   "id": "80c4264c",
   "metadata": {},
   "source": [
    "### 2.2.2. Examination Features Hypotheses"
   ]
  },
  {
   "cell_type": "markdown",
   "id": "fdb319db",
   "metadata": {
    "ExecuteTime": {
     "end_time": "2022-05-11T17:05:36.759970Z",
     "start_time": "2022-05-11T17:05:36.743975Z"
    }
   },
   "source": [
    "1. Pessoas com colesterol muito acima do normal possuem o dobro de doenças cardiovasculares, em média.\n",
    "\n",
    "2. Menos de 25% das pessoas com colesterol e glucose normal possuem doenças cardiovasculares.\n",
    "\n",
    "3. Pessoas com os três niveis de glucose possuem uma porcentagem semelhante (+/-5%) de doenças cardiovasculares.\n",
    "\n",
    "4. Pessoas com pressão systolic acima de 120mmHg possuem 50% a mais de doenças cardiovasculares comparadas as com pressão abaixo.\n",
    "\n",
    "5. Pessoas com pressão diastolic acima de 80mmHg possuem 50% a mais de doenças cardiovasculares comparadas as com pressão abaixo. \n",
    "\n",
    "6. Pessoas com a pressão arterial (ap_hi / api_lo) maior que 2 possuem 30% mais doenças cardiovasculares do que as com pressão abaixo. \n"
   ]
  },
  {
   "cell_type": "markdown",
   "id": "cf2c23e4",
   "metadata": {},
   "source": [
    "### 2.2.3. Subjective Features Hypotheses"
   ]
  },
  {
   "cell_type": "markdown",
   "id": "67553bf0",
   "metadata": {},
   "source": [
    "1. Pessoas que bebem possuem 20% menos doenças cardiovasculares, em média.\n",
    "\n",
    "2. Pessoas que praticam atividade física possuem 30% menos doenças cardiovasculares, em média.\n",
    "\n",
    "3. Pessoas que fumam, bebem e não praticam exercicio físico possuem 3 vezes mais doenças cardiovasculares em média.\n",
    "\n",
    "4. Pessoas que fumam possuem um porcentagem semelhante (+/-5%) de deonças cardiovasculares comparadas as que não fumam.\n",
    "\n",
    "5. Pessoas que bebem e praticam exercico fisico possuem 50% menos doenças cardiovasculares comparadas as que não, em média."
   ]
  },
  {
   "cell_type": "markdown",
   "id": "c5232815",
   "metadata": {},
   "source": [
    "## 2.3. Final Hypothesis List"
   ]
  },
  {
   "cell_type": "markdown",
   "id": "f2efc2a7",
   "metadata": {},
   "source": [
    "1. Ambos os gêneros possuem a mesma proporção de doenças cardiovasculares..\n",
    "\n",
    "2. Pessoas com mais de 40 anos possuem mais que o dobro de doenças cardiovasculares, em média.\n",
    "\n",
    "3. Quanto maior a relação de peso/altura maior a quantidade de doenças cardiovasculares.\n",
    "\n",
    "4. Entre 40% e 50% das pessoas acima de 100kg possuem doenças cardiovasculares.\n",
    "\n",
    "5. Pessoas com alturas abaixo de 150cm possuem metade de doenças cardiovasculares em média.\n",
    "\n",
    "6. Pessoas com colesterol muito acima do normal possuem o dobro de doenças cardiovasculares, em média.\n",
    "\n",
    "7. Menos de 25% das pessoas com colesterol e glucose normal possuem doenças cardiovasculares.\n",
    "\n",
    "8. Pessoas com os três niveis de glucose possuem uma porcentagem semelhante (+/-5%) de doenças cardiovasculares.\n",
    "\n",
    "9. Pessoas com pressão systolic acima de 120mmHg possuem 50% a mais de doenças cardiovasculares comparadas as com pressão abaixo.\n",
    "\n",
    "10. Pessoas com pressão diastolic acima de 80mmHg possuem 50% a mais de doenças cardiovasculares comparadas as com pressão abaixo. \n",
    "\n",
    "11. Pessoas com a pressão arterial (ap_hi / api_lo) maior que 2 possuem 30% mais doenças cardiovasculares do que as com pressão abaixo. \n",
    "\n",
    "12. Pessoas que bebem possuem 20% menos doenças cardiovasculares, em média.\n",
    "\n",
    "13. Pessoas que praticam atividade física possuem 30% menos doenças cardiovasculares, em média.\n",
    "\n",
    "14. Pessoas que fumam, bebem e não praticam exercicio físico possuem 3 vezes mais doenças cardiovasculares em média.\n",
    "\n",
    "15. Pessoas que fumam possuem um porcentagem semelhante (+/-5%) de deonças cardiovasculares comparadas as que não fumam.\n",
    "\n",
    "16. Pessoas que bebem e praticam exercico fisico possuem 50% menos doenças cardiovasculares comparadas as que não, em média."
   ]
  },
  {
   "cell_type": "markdown",
   "id": "aebe0714",
   "metadata": {},
   "source": [
    "# 3.0. Data Filtering"
   ]
  },
  {
   "cell_type": "code",
   "execution_count": 16,
   "id": "7c7b9b54",
   "metadata": {
    "ExecuteTime": {
     "end_time": "2022-06-23T14:14:14.325387Z",
     "start_time": "2022-06-23T14:14:14.297379Z"
    }
   },
   "outputs": [],
   "source": [
    "df03 = df02.copy()"
   ]
  },
  {
   "cell_type": "markdown",
   "id": "a05538d5",
   "metadata": {},
   "source": [
    "## 3.1. Filtering Rows"
   ]
  },
  {
   "cell_type": "code",
   "execution_count": null,
   "id": "c916db6b",
   "metadata": {},
   "outputs": [],
   "source": []
  },
  {
   "cell_type": "markdown",
   "id": "76d804db",
   "metadata": {
    "ExecuteTime": {
     "end_time": "2022-05-11T13:51:04.884921Z",
     "start_time": "2022-05-11T13:51:04.867920Z"
    }
   },
   "source": [
    "## 3.2. Columns Selection"
   ]
  },
  {
   "cell_type": "code",
   "execution_count": null,
   "id": "b39ff403",
   "metadata": {},
   "outputs": [],
   "source": []
  },
  {
   "cell_type": "markdown",
   "id": "0dc40159",
   "metadata": {},
   "source": [
    "# 4.0. Exploratory Data Analysis"
   ]
  },
  {
   "cell_type": "code",
   "execution_count": 17,
   "id": "385e6f90",
   "metadata": {
    "ExecuteTime": {
     "end_time": "2022-06-23T14:14:14.356384Z",
     "start_time": "2022-06-23T14:14:14.329384Z"
    }
   },
   "outputs": [],
   "source": [
    "df04 = df03.copy()"
   ]
  },
  {
   "cell_type": "markdown",
   "id": "05d21aa1",
   "metadata": {},
   "source": [
    "# 5.0. Data Preparation"
   ]
  },
  {
   "cell_type": "code",
   "execution_count": 18,
   "id": "53a7d7e1",
   "metadata": {
    "ExecuteTime": {
     "end_time": "2022-06-23T14:14:14.371381Z",
     "start_time": "2022-06-23T14:14:14.360384Z"
    }
   },
   "outputs": [],
   "source": [
    "df05 = df04.copy()"
   ]
  },
  {
   "cell_type": "markdown",
   "id": "83cfb5ab",
   "metadata": {},
   "source": [
    "# 6.0. Feature Selection"
   ]
  },
  {
   "cell_type": "code",
   "execution_count": 19,
   "id": "8a582aed",
   "metadata": {
    "ExecuteTime": {
     "end_time": "2022-06-23T14:14:14.410383Z",
     "start_time": "2022-06-23T14:14:14.375383Z"
    }
   },
   "outputs": [],
   "source": [
    "df06 = df05.copy()"
   ]
  },
  {
   "cell_type": "markdown",
   "id": "bdac7870",
   "metadata": {},
   "source": [
    "## 6.1. Split Dataframe into Training and Validation Dataset"
   ]
  },
  {
   "cell_type": "code",
   "execution_count": 20,
   "id": "eba37af3",
   "metadata": {
    "ExecuteTime": {
     "end_time": "2022-06-23T14:14:14.449379Z",
     "start_time": "2022-06-23T14:14:14.423380Z"
    }
   },
   "outputs": [],
   "source": [
    "# features dataset\n",
    "X = df06.drop(['cardio'],axis=1)\n",
    "\n",
    "# response dataset\n",
    "y = df06['cardio']"
   ]
  },
  {
   "cell_type": "code",
   "execution_count": 21,
   "id": "5427d347",
   "metadata": {
    "ExecuteTime": {
     "end_time": "2022-06-23T14:14:14.496388Z",
     "start_time": "2022-06-23T14:14:14.456384Z"
    }
   },
   "outputs": [],
   "source": [
    "# split dataset into training  and validation\n",
    "X_train, X_val, y_train, y_val = ms.train_test_split(X, y, test_size=0.2, random_state=42)"
   ]
  },
  {
   "cell_type": "markdown",
   "id": "471a83ca",
   "metadata": {},
   "source": [
    "# 7.0. Machine Learning Model\n",
    "\n",
    "**References:**\n",
    "\n",
    "- Evaluation Metrics for Evaluation Models: https://neptune.ai/blog/evaluation-metrics-binary-classification#:~:text=Simply%20put%20a%20classification%20metric,to%20classes%3A%20positive%20and%20negative."
   ]
  },
  {
   "cell_type": "code",
   "execution_count": 22,
   "id": "d916d7e5",
   "metadata": {
    "ExecuteTime": {
     "end_time": "2022-06-23T14:14:14.528381Z",
     "start_time": "2022-06-23T14:14:14.508388Z"
    }
   },
   "outputs": [],
   "source": [
    "# select data for machine learning models\n",
    "x_train = X_train.copy()\n",
    "x_val = X_val.copy()"
   ]
  },
  {
   "cell_type": "markdown",
   "id": "5a052d5a",
   "metadata": {},
   "source": [
    "## 7.1. Random Forest Classifier "
   ]
  },
  {
   "cell_type": "code",
   "execution_count": 23,
   "id": "ce7625e7",
   "metadata": {
    "ExecuteTime": {
     "end_time": "2022-06-23T14:14:18.726091Z",
     "start_time": "2022-06-23T14:14:14.542382Z"
    }
   },
   "outputs": [],
   "source": [
    "# model definition\n",
    "model_rf = RandomForestClassifier(n_estimators=100, n_jobs=-1).fit(x_train, y_train)"
   ]
  },
  {
   "cell_type": "markdown",
   "id": "a657d0f8",
   "metadata": {
    "ExecuteTime": {
     "end_time": "2022-05-11T14:02:41.321634Z",
     "start_time": "2022-05-11T14:02:41.309629Z"
    }
   },
   "source": [
    "### 7.1.1. Random Forest Classifier - Performance"
   ]
  },
  {
   "cell_type": "code",
   "execution_count": 24,
   "id": "71dcfd15",
   "metadata": {
    "ExecuteTime": {
     "end_time": "2022-06-23T14:14:19.043081Z",
     "start_time": "2022-06-23T14:14:18.730095Z"
    },
    "code_folding": []
   },
   "outputs": [
    {
     "data": {
      "text/html": [
       "<div>\n",
       "<style scoped>\n",
       "    .dataframe tbody tr th:only-of-type {\n",
       "        vertical-align: middle;\n",
       "    }\n",
       "\n",
       "    .dataframe tbody tr th {\n",
       "        vertical-align: top;\n",
       "    }\n",
       "\n",
       "    .dataframe thead th {\n",
       "        text-align: right;\n",
       "    }\n",
       "</style>\n",
       "<table border=\"1\" class=\"dataframe\">\n",
       "  <thead>\n",
       "    <tr style=\"text-align: right;\">\n",
       "      <th></th>\n",
       "      <th>Model</th>\n",
       "      <th>Accuracy</th>\n",
       "      <th>Precision</th>\n",
       "      <th>Recall</th>\n",
       "      <th>F1-Score</th>\n",
       "      <th>ROC-AUC</th>\n",
       "    </tr>\n",
       "  </thead>\n",
       "  <tbody>\n",
       "    <tr>\n",
       "      <th>0</th>\n",
       "      <td>Random Forest Classifier</td>\n",
       "      <td>0.7275</td>\n",
       "      <td>0.746399</td>\n",
       "      <td>0.696745</td>\n",
       "      <td>0.720717</td>\n",
       "      <td>0.727788</td>\n",
       "    </tr>\n",
       "  </tbody>\n",
       "</table>\n",
       "</div>"
      ],
      "text/plain": [
       "                      Model Accuracy Precision    Recall  F1-Score   ROC-AUC\n",
       "0  Random Forest Classifier   0.7275  0.746399  0.696745  0.720717  0.727788"
      ]
     },
     "execution_count": 24,
     "metadata": {},
     "output_type": "execute_result"
    }
   ],
   "source": [
    "# prediction\n",
    "pred_rf = model_rf.predict(x_val)\n",
    "\n",
    "# evaluate performance of model\n",
    "rf_performance = pd.DataFrame(['Random Forest Classifier',\n",
    "                               accuracy_score(y_val, pred_rf), \n",
    "                               precision_score(y_val, pred_rf), \n",
    "                               recall_score(y_val, pred_rf), \n",
    "                               f1_score(y_val, pred_rf),\n",
    "                               roc_auc_score(y_val, pred_rf)]).T\n",
    "\n",
    "# set metris as columns name\n",
    "rf_performance.columns = ['Model', 'Accuracy', 'Precision', 'Recall', 'F1-Score', 'ROC-AUC']\n",
    "\n",
    "# display performance\n",
    "rf_performance"
   ]
  },
  {
   "cell_type": "markdown",
   "id": "c359a107",
   "metadata": {},
   "source": [
    "### 7.1.2. Random Forest Classifier - Cross-Validation"
   ]
  },
  {
   "cell_type": "code",
   "execution_count": 25,
   "id": "fed5b559",
   "metadata": {
    "ExecuteTime": {
     "end_time": "2022-06-23T14:15:17.745927Z",
     "start_time": "2022-06-23T14:14:19.048087Z"
    }
   },
   "outputs": [
    {
     "data": {
      "text/html": [
       "<div>\n",
       "<style scoped>\n",
       "    .dataframe tbody tr th:only-of-type {\n",
       "        vertical-align: middle;\n",
       "    }\n",
       "\n",
       "    .dataframe tbody tr th {\n",
       "        vertical-align: top;\n",
       "    }\n",
       "\n",
       "    .dataframe thead th {\n",
       "        text-align: right;\n",
       "    }\n",
       "</style>\n",
       "<table border=\"1\" class=\"dataframe\">\n",
       "  <thead>\n",
       "    <tr style=\"text-align: right;\">\n",
       "      <th></th>\n",
       "      <th>Model</th>\n",
       "      <th>Accuracy</th>\n",
       "      <th>Precision</th>\n",
       "      <th>Recall</th>\n",
       "      <th>F1 Score</th>\n",
       "      <th>ROC AUC</th>\n",
       "    </tr>\n",
       "  </thead>\n",
       "  <tbody>\n",
       "    <tr>\n",
       "      <th>0</th>\n",
       "      <td>Random Forest Classifier</td>\n",
       "      <td>0.721875 +/- 0.004304</td>\n",
       "      <td>0.734103 +/- 0.006571</td>\n",
       "      <td>0.692584 +/- 0.006631</td>\n",
       "      <td>0.712702 +/- 0.004161</td>\n",
       "      <td>0.78358 +/- 0.005899</td>\n",
       "    </tr>\n",
       "  </tbody>\n",
       "</table>\n",
       "</div>"
      ],
      "text/plain": [
       "                      Model               Accuracy              Precision  \\\n",
       "0  Random Forest Classifier  0.721875 +/- 0.004304  0.734103 +/- 0.006571   \n",
       "\n",
       "                  Recall               F1 Score               ROC AUC  \n",
       "0  0.692584 +/- 0.006631  0.712702 +/- 0.004161  0.78358 +/- 0.005899  "
      ]
     },
     "execution_count": 25,
     "metadata": {},
     "output_type": "execute_result"
    }
   ],
   "source": [
    "# select metrics of interest\n",
    "metrics = ('accuracy', 'precision', 'recall', 'f1', 'roc_auc')\n",
    "\n",
    "# cross validation of model\n",
    "scores  = cross_validate(model_rf, x_train, y_train, scoring=metrics, cv=10)\n",
    "\n",
    "# cross validation accuracy\n",
    "acc_cv_mean = np.round(scores['test_accuracy'].mean(), 6)\n",
    "acc_cv_std = np.round(scores['test_accuracy'].std(), 6)\n",
    "\n",
    "# cross validation precision\n",
    "prec_cv_mean = np.round(scores['test_precision'].mean(), 6)\n",
    "prec_cv_std = np.round(scores['test_precision'].std(), 6)\n",
    "\n",
    "# cross validation recall\n",
    "recall_cv_mean = np.round(scores['test_recall'].mean(), 6)\n",
    "recall_cv_std = np.round(scores['test_recall'].std(), 6)\n",
    "\n",
    "# cross validation F1 score\n",
    "f1_score_cv_mean = np.round(scores['test_f1'].mean(), 6)\n",
    "f1_score_cv_std = np.round(scores['test_f1'].std(), 6)\n",
    "\n",
    "# cross validation ROC-AUC\n",
    "roc_auc_cv_mean = np.round(scores['test_roc_auc'].mean(), 6)\n",
    "roc_auc_cv_std = np.round(scores['test_roc_auc'].std(), 6)\n",
    "\n",
    "# calculate mean and std and build dataframe for each metric\n",
    "rf_performance_cv = pd.DataFrame({'Model': 'Random Forest Classifier', \n",
    "                                  'Accuracy': f'{acc_cv_mean} +/- {acc_cv_std}', \n",
    "                                  'Precision': f'{prec_cv_mean} +/- {prec_cv_std}', \n",
    "                                  'Recall': f'{recall_cv_mean} +/- {recall_cv_std}', \n",
    "                                  'F1 Score': f'{f1_score_cv_mean} +/- {f1_score_cv_std}', \n",
    "                                  'ROC AUC': f'{roc_auc_cv_mean} +/- {roc_auc_cv_std}'}, \n",
    "                                  index=[0])\n",
    "\n",
    "# display model perfomance\n",
    "rf_performance_cv"
   ]
  },
  {
   "cell_type": "code",
   "execution_count": 26,
   "id": "5068449e",
   "metadata": {
    "ExecuteTime": {
     "end_time": "2022-06-23T14:15:17.778906Z",
     "start_time": "2022-06-23T14:15:17.753904Z"
    }
   },
   "outputs": [
    {
     "data": {
      "text/plain": [
       "0.7061397217042031"
      ]
     },
     "execution_count": 26,
     "metadata": {},
     "output_type": "execute_result"
    }
   ],
   "source": [
    "f2 = fbeta_score(y_val, pred_rf, beta = 2)\n",
    "\n",
    "f2"
   ]
  }
 ],
 "metadata": {
  "kernelspec": {
   "display_name": "Python 3 (ipykernel)",
   "language": "python",
   "name": "python3"
  },
  "language_info": {
   "codemirror_mode": {
    "name": "ipython",
    "version": 3
   },
   "file_extension": ".py",
   "mimetype": "text/x-python",
   "name": "python",
   "nbconvert_exporter": "python",
   "pygments_lexer": "ipython3",
   "version": "3.9.12"
  },
  "toc": {
   "base_numbering": 1,
   "nav_menu": {},
   "number_sections": false,
   "sideBar": true,
   "skip_h1_title": false,
   "title_cell": "Table of Contents",
   "title_sidebar": "Contents",
   "toc_cell": false,
   "toc_position": {},
   "toc_section_display": true,
   "toc_window_display": true
  },
  "varInspector": {
   "cols": {
    "lenName": 16,
    "lenType": 16,
    "lenVar": 40
   },
   "kernels_config": {
    "python": {
     "delete_cmd_postfix": "",
     "delete_cmd_prefix": "del ",
     "library": "var_list.py",
     "varRefreshCmd": "print(var_dic_list())"
    },
    "r": {
     "delete_cmd_postfix": ") ",
     "delete_cmd_prefix": "rm(",
     "library": "var_list.r",
     "varRefreshCmd": "cat(var_dic_list()) "
    }
   },
   "types_to_exclude": [
    "module",
    "function",
    "builtin_function_or_method",
    "instance",
    "_Feature"
   ],
   "window_display": false
  }
 },
 "nbformat": 4,
 "nbformat_minor": 5
}
